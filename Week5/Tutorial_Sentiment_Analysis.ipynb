{
  "cells": [
    {
      "cell_type": "markdown",
      "metadata": {
        "id": "Xv4NPtgAReWr"
      },
      "source": [
        "In this module, we will use a popular Python module `scikit-learn` to build a sentiment classifier with Naive Bayes! We will introduce the concept of feature as numerical representation of the input data. We will experiment with different types of features to investiage their impact on training. \n",
        "At the end of the module, you should be able to:\n",
        "\n",
        "* understand features and how to extract them from input data\n",
        "* experiment with an off-the-shelf Naive Bayes model\n",
        "* be familar with the pipeline for bulding a machine learning model incluidng data cleaning, feature extraction, and model evaluation.\n",
        "\n",
        "\n",
        "Let's first refresh your memory on the Naive Bayes model. \n",
        "\n",
        "### ❓ Pre-module quiz\n",
        "\n",
        "Say that we have two events: Fire and Smoke. $P(Fire)$ is the probability of a fire (or in other words, how often a fire occurs), $P(Smoke)$ is the probability of seeing smoke (how often we see smoke). We want to know $P(Fire|Smoke)$, that is, how often fire occurs when we see smoke. Suppose we know the following:\n",
        "\n",
        "$P(Fire)=0.01$\n",
        "\n",
        "$P(Smoke)=0.1$\n",
        "\n",
        "$P(Smoke|Fire)=0.9$ (ie. 90\\% of the fire makes smoke)\n",
        "\n",
        "\n",
        "Can you work out $P(Fire|Smoke)$?\n",
        "\n",
        "A. 0.1\n",
        "\n",
        "B. 0.09\n",
        "\n",
        "C. 0.01\n",
        "\n",
        "D. 0.9\n",
        "\n"
      ]
    },
    {
      "cell_type": "markdown",
      "metadata": {
        "id": "3Ra8qD88ReWu"
      },
      "source": [
        "\n",
        "<hr>    <!-- please remember this! -->\n",
        "<details>\n",
        "  <summary>Click <b>here</b> to see the answer.</summary>\n",
        "  <p>\\begin{equation*}P(Fire|Smoke) =  \\frac{P(Fire)*P(Smoke|Fire)}{P(Smoke)} \\end{equation*} </p>\n",
        "<p>\\begin{equation*}=\\frac{0.01 * 0.9}{ 0.1} \\end{equation*}</p>\n",
        "<p>\\begin{equation*}=0.09\\end{equation*}</p>\n",
        "\n",
        "</details> \n",
        "\n"
      ]
    },
    {
      "cell_type": "markdown",
      "metadata": {
        "id": "Ii18vTN8ReWx"
      },
      "source": [
        "# Sentiment Analysis Task Introduction"
      ]
    },
    {
      "cell_type": "markdown",
      "metadata": {
        "id": "AplzSdOIReWz"
      },
      "source": [
        "Our task of focus today is a popular NLP classification task: sentiment analysis. What exactly is sentiment? Sentiment is an opinion or emotion (usually positive or negative) that is reflected in a sequence of words. And analysis? Well, this is the process of looking at data and making inferences about the sentiment; in our case, we will use machine learning to learn and predict whether a movie review is positive or negative.\n",
        "\n",
        "We will replicate some of the experiments from the paper: [Thumbs up? Sentiment Classification using Machine Learning Techniques](https://www.aclweb.org/anthology/W02-1011.pdf). We will extract a number of features including unigrams, bigrams etc., and train Naive Bayes models on these features. (Notice that we use the second release of the data which is preprocessed and cleaned rather than the original data in the paper. Therefore, the results are not directly comparable. )\n",
        "\n",
        "# Acknowledgement:\n",
        "The material for this tutorial is based on https://github.com/cambridgeltl/python4cl"
      ]
    },
    {
      "cell_type": "markdown",
      "metadata": {
        "id": "Bav1A-D6ReW1"
      },
      "source": [
        "## Preparing data"
      ]
    },
    {
      "cell_type": "markdown",
      "metadata": {
        "id": "W2Mgv4bfReW3"
      },
      "source": [
        "The data for this tutorial is stored in the `./data` folder. The two subdirectories `./data/pos` and `./data/neg` contain samples of IMDb positive and negative movie reviews. Each line of a review text file is a tokenized sentences. "
      ]
    },
    {
      "cell_type": "markdown",
      "metadata": {
        "id": "aFew9K1WReW5"
      },
      "source": [
        "We can load an individual text file by opening it, reading in the ASCII text, and closing the file. For example, we can load the first negative review file “cv000_29416.txt” as follows:\n"
      ]
    },
    {
      "cell_type": "code",
      "source": [
        "from google.colab import drive\n",
        "from google.colab import drive\n",
        "drive.mount('/content/drive')\n",
        "#replace the following path according to your Google Drive path\n",
        "#%cd/gdrive/My Drive/Monash-FIT-S1-2022/Week_7/Data"
      ],
      "metadata": {
        "colab": {
          "base_uri": "https://localhost:8080/"
        },
        "id": "9CqKh4PNsCmy",
        "outputId": "0bc7cc74-c178-4d8d-c2f7-6bf7812ac419"
      },
      "execution_count": null,
      "outputs": [
        {
          "output_type": "stream",
          "name": "stdout",
          "text": [
            "Mounted at /gdrive\n",
            "/gdrive/My Drive/Monash-FIT-S1-2022/Week_7/Data\n"
          ]
        }
      ]
    },
    {
      "cell_type": "code",
      "execution_count": 1,
      "metadata": {
        "id": "QngDdJeGReW_",
        "colab": {
          "base_uri": "https://localhost:8080/",
          "height": 243
        },
        "outputId": "4d9f1232-3f8f-48ae-e519-b86766063878"
      },
      "outputs": [
        {
          "output_type": "error",
          "ename": "NameError",
          "evalue": "ignored",
          "traceback": [
            "\u001b[0;31m---------------------------------------------------------------------------\u001b[0m",
            "\u001b[0;31mNameError\u001b[0m                                 Traceback (most recent call last)",
            "\u001b[0;32m<ipython-input-1-f95f73d1b109>\u001b[0m in \u001b[0;36m<module>\u001b[0;34m\u001b[0m\n\u001b[1;32m      3\u001b[0m \u001b[0mfile_folder\u001b[0m \u001b[0;34m=\u001b[0m\u001b[0;34m\"/content/drive/MyDrive/Monash-FIT-S1-2023/week5/data/neg\"\u001b[0m\u001b[0;34m\u001b[0m\u001b[0;34m\u001b[0m\u001b[0m\n\u001b[1;32m      4\u001b[0m \u001b[0;31m# load one file\u001b[0m\u001b[0;34m\u001b[0m\u001b[0;34m\u001b[0m\u001b[0m\n\u001b[0;32m----> 5\u001b[0;31m \u001b[0mfilename\u001b[0m \u001b[0;34m=\u001b[0m \u001b[0mfild_folder\u001b[0m \u001b[0;34m+\u001b[0m \u001b[0;34m'/cv000_29416.txt'\u001b[0m\u001b[0;34m\u001b[0m\u001b[0;34m\u001b[0m\u001b[0m\n\u001b[0m\u001b[1;32m      6\u001b[0m \u001b[0;31m# open the file as read only\u001b[0m\u001b[0;34m\u001b[0m\u001b[0;34m\u001b[0m\u001b[0m\n\u001b[1;32m      7\u001b[0m \u001b[0mfile\u001b[0m \u001b[0;34m=\u001b[0m \u001b[0mopen\u001b[0m\u001b[0;34m(\u001b[0m\u001b[0mfilename\u001b[0m\u001b[0;34m,\u001b[0m \u001b[0;34m'r'\u001b[0m\u001b[0;34m)\u001b[0m\u001b[0;34m\u001b[0m\u001b[0;34m\u001b[0m\u001b[0m\n",
            "\u001b[0;31mNameError\u001b[0m: name 'fild_folder' is not defined"
          ]
        }
      ],
      "source": [
        "#replace the following path according to your Google Drive path\n",
        "#%cd/gdrive/My Drive/Monash-FIT-S1-2022/Week_7/Data/neg\n",
        "file_folder =\"/content/drive/MyDrive/Monash-FIT-S1-2023/week5/data/neg\"\n",
        "# load one file\n",
        "filename = fild_folder + '/cv000_29416.txt'\n",
        "# open the file as read only\n",
        "file = open(filename, 'r')\n",
        "# read all text\n",
        "text = file.read()\n",
        "print (text)\n",
        "# close the file\n",
        "file.close()\n"
      ]
    },
    {
      "cell_type": "markdown",
      "metadata": {
        "id": "Mmv7wS0cReXH"
      },
      "source": [
        "This loads the document as ASCII and preserves any white space, like new lines."
      ]
    },
    {
      "cell_type": "markdown",
      "metadata": {
        "id": "SOSa4383ReXI"
      },
      "source": [
        "We can turn this into a function called `load_doc()` that takes a filename of the document to load and returns the text.\n"
      ]
    },
    {
      "cell_type": "code",
      "execution_count": null,
      "metadata": {
        "id": "7GZg4B9FReXL"
      },
      "outputs": [],
      "source": [
        "# load doc into memory\n",
        "def load_doc(filename):\n",
        "    \"\"\"\n",
        "    Parameters\n",
        "    ----------\n",
        "    filename: the filename to extract text\n",
        "\n",
        "    Return\n",
        "    ------\n",
        "    text in strings\n",
        "    \"\"\"\n",
        "    # open the file as read only\n",
        "    file = open(filename, 'r')\n",
        "    # read all text\n",
        "    text = file.read()\n",
        "    # close the file\n",
        "    file.close()\n",
        "    return text\n"
      ]
    },
    {
      "cell_type": "markdown",
      "metadata": {
        "id": "g_13EAmfReXS"
      },
      "source": [
        "We can process each directory in turn by first getting a list of files in the directory using the `listdir()` function from the `os` module, then loading each file in turn.\n",
        "\n",
        "For example, we can load each document in the negative directory using the `load_doc()` function to do the actual loading. Below, we define a `process_docs()` function to load all documents in a folder. "
      ]
    },
    {
      "cell_type": "code",
      "execution_count": null,
      "metadata": {
        "id": "60kbNDGiReXV",
        "colab": {
          "base_uri": "https://localhost:8080/"
        },
        "outputId": "2060ee31-74e7-4e5a-b4d8-895a996f56a1"
      },
      "outputs": [
        {
          "output_type": "stream",
          "name": "stdout",
          "text": [
            "/gdrive/My Drive/Monash-FIT-S1-2022/Week_7/Data\n",
            "Loaded cv000_29416.txt\n",
            "Loaded cv001_19502.txt\n",
            "Loaded cv002_17424.txt\n",
            "Loaded cv003_12683.txt\n",
            "Loaded cv004_12641.txt\n",
            "Loaded cv005_29357.txt\n",
            "Loaded cv006_17022.txt\n",
            "Loaded cv007_4992.txt\n",
            "Loaded cv008_29326.txt\n",
            "Loaded cv009_29417.txt\n",
            "Loaded cv010_29063.txt\n",
            "Loaded cv011_13044.txt\n",
            "Loaded cv012_29411.txt\n",
            "Loaded cv013_10494.txt\n",
            "Loaded cv014_15600.txt\n",
            "Loaded cv015_29356.txt\n",
            "Loaded cv016_4348.txt\n",
            "Loaded cv017_23487.txt\n",
            "Loaded cv018_21672.txt\n",
            "Loaded cv019_16117.txt\n",
            "Loaded cv020_9234.txt\n",
            "Loaded cv021_17313.txt\n",
            "Loaded cv022_14227.txt\n",
            "Loaded cv023_13847.txt\n",
            "Loaded cv024_7033.txt\n",
            "Loaded cv025_29825.txt\n",
            "Loaded cv026_29229.txt\n",
            "Loaded cv027_26270.txt\n",
            "Loaded cv028_26964.txt\n",
            "Loaded cv029_19943.txt\n",
            "Loaded cv030_22893.txt\n",
            "Loaded cv031_19540.txt\n",
            "Loaded cv032_23718.txt\n",
            "Loaded cv033_25680.txt\n",
            "Loaded cv034_29446.txt\n",
            "Loaded cv035_3343.txt\n",
            "Loaded cv036_18385.txt\n",
            "Loaded cv037_19798.txt\n",
            "Loaded cv038_9781.txt\n",
            "Loaded cv039_5963.txt\n",
            "Loaded cv040_8829.txt\n",
            "Loaded cv041_22364.txt\n",
            "Loaded cv042_11927.txt\n",
            "Loaded cv043_16808.txt\n",
            "Loaded cv044_18429.txt\n",
            "Loaded cv045_25077.txt\n",
            "Loaded cv046_10613.txt\n",
            "Loaded cv047_18725.txt\n",
            "Loaded cv048_18380.txt\n",
            "Loaded cv049_21917.txt\n",
            "Loaded cv050_12128.txt\n",
            "Loaded cv051_10751.txt\n",
            "Loaded cv052_29318.txt\n",
            "Loaded cv053_23117.txt\n",
            "Loaded cv054_4101.txt\n",
            "Loaded cv055_8926.txt\n",
            "Loaded cv056_14663.txt\n",
            "Loaded cv057_7962.txt\n",
            "Loaded cv058_8469.txt\n",
            "Loaded cv059_28723.txt\n",
            "Loaded cv060_11754.txt\n",
            "Loaded cv061_9321.txt\n",
            "Loaded cv062_24556.txt\n",
            "Loaded cv063_28852.txt\n",
            "Loaded cv064_25842.txt\n",
            "Loaded cv065_16909.txt\n",
            "Loaded cv066_11668.txt\n",
            "Loaded cv067_21192.txt\n",
            "Loaded cv068_14810.txt\n",
            "Loaded cv069_11613.txt\n",
            "Loaded cv070_13249.txt\n",
            "Loaded cv071_12969.txt\n",
            "Loaded cv072_5928.txt\n",
            "Loaded cv073_23039.txt\n",
            "Loaded cv074_7188.txt\n",
            "Loaded cv075_6250.txt\n",
            "Loaded cv076_26009.txt\n",
            "Loaded cv077_23172.txt\n",
            "Loaded cv078_16506.txt\n",
            "Loaded cv079_12766.txt\n",
            "Loaded cv080_14899.txt\n",
            "Loaded cv081_18241.txt\n",
            "Loaded cv082_11979.txt\n",
            "Loaded cv083_25491.txt\n",
            "Loaded cv084_15183.txt\n",
            "Loaded cv085_15286.txt\n",
            "Loaded cv086_19488.txt\n",
            "Loaded cv087_2145.txt\n",
            "Loaded cv088_25274.txt\n",
            "Loaded cv089_12222.txt\n",
            "Loaded cv090_0049.txt\n",
            "Loaded cv091_7899.txt\n",
            "Loaded cv092_27987.txt\n",
            "Loaded cv093_15606.txt\n",
            "Loaded cv094_27868.txt\n",
            "Loaded cv095_28730.txt\n",
            "Loaded cv096_12262.txt\n",
            "Loaded cv097_26081.txt\n",
            "Loaded cv098_17021.txt\n",
            "Loaded cv099_11189.txt\n",
            "Loaded cv100_12406.txt\n",
            "Loaded cv101_10537.txt\n",
            "Loaded cv102_8306.txt\n",
            "Loaded cv103_11943.txt\n",
            "Loaded cv104_19176.txt\n",
            "Loaded cv105_19135.txt\n",
            "Loaded cv106_18379.txt\n",
            "Loaded cv107_25639.txt\n",
            "Loaded cv108_17064.txt\n",
            "Loaded cv109_22599.txt\n",
            "Loaded cv110_27832.txt\n",
            "Loaded cv111_12253.txt\n",
            "Loaded cv112_12178.txt\n",
            "Loaded cv113_24354.txt\n",
            "Loaded cv114_19501.txt\n",
            "Loaded cv115_26443.txt\n",
            "Loaded cv116_28734.txt\n",
            "Loaded cv117_25625.txt\n",
            "Loaded cv118_28837.txt\n",
            "Loaded cv119_9909.txt\n",
            "Loaded cv120_3793.txt\n",
            "Loaded cv121_18621.txt\n",
            "Loaded cv122_7891.txt\n",
            "Loaded cv123_12165.txt\n",
            "Loaded cv124_3903.txt\n",
            "Loaded cv125_9636.txt\n",
            "Loaded cv126_28821.txt\n",
            "Loaded cv127_16451.txt\n",
            "Loaded cv128_29444.txt\n",
            "Loaded cv129_18373.txt\n",
            "Loaded cv130_18521.txt\n",
            "Loaded cv131_11568.txt\n",
            "Loaded cv132_5423.txt\n",
            "Loaded cv133_18065.txt\n",
            "Loaded cv134_23300.txt\n",
            "Loaded cv135_12506.txt\n",
            "Loaded cv136_12384.txt\n",
            "Loaded cv137_17020.txt\n",
            "Loaded cv138_13903.txt\n",
            "Loaded cv139_14236.txt\n",
            "Loaded cv140_7963.txt\n",
            "Loaded cv141_17179.txt\n",
            "Loaded cv142_23657.txt\n",
            "Loaded cv143_21158.txt\n",
            "Loaded cv144_5010.txt\n",
            "Loaded cv145_12239.txt\n",
            "Loaded cv146_19587.txt\n",
            "Loaded cv147_22625.txt\n",
            "Loaded cv148_18084.txt\n",
            "Loaded cv149_17084.txt\n",
            "Loaded cv150_14279.txt\n",
            "Loaded cv151_17231.txt\n",
            "Loaded cv152_9052.txt\n",
            "Loaded cv153_11607.txt\n",
            "Loaded cv154_9562.txt\n",
            "Loaded cv155_7845.txt\n",
            "Loaded cv156_11119.txt\n",
            "Loaded cv157_29302.txt\n",
            "Loaded cv158_10914.txt\n",
            "Loaded cv159_29374.txt\n",
            "Loaded cv160_10848.txt\n",
            "Loaded cv161_12224.txt\n",
            "Loaded cv162_10977.txt\n",
            "Loaded cv163_10110.txt\n",
            "Loaded cv164_23451.txt\n",
            "Loaded cv165_2389.txt\n",
            "Loaded cv166_11959.txt\n",
            "Loaded cv167_18094.txt\n",
            "Loaded cv168_7435.txt\n",
            "Loaded cv169_24973.txt\n",
            "Loaded cv170_29808.txt\n",
            "Loaded cv171_15164.txt\n",
            "Loaded cv172_12037.txt\n",
            "Loaded cv173_4295.txt\n",
            "Loaded cv174_9735.txt\n",
            "Loaded cv175_7375.txt\n",
            "Loaded cv176_14196.txt\n",
            "Loaded cv177_10904.txt\n",
            "Loaded cv178_14380.txt\n",
            "Loaded cv179_9533.txt\n",
            "Loaded cv180_17823.txt\n",
            "Loaded cv181_16083.txt\n",
            "Loaded cv182_7791.txt\n",
            "Loaded cv183_19826.txt\n",
            "Loaded cv184_26935.txt\n",
            "Loaded cv185_28372.txt\n",
            "Loaded cv186_2396.txt\n",
            "Loaded cv187_14112.txt\n",
            "Loaded cv188_20687.txt\n",
            "Loaded cv189_24248.txt\n",
            "Loaded cv190_27176.txt\n",
            "Loaded cv191_29539.txt\n",
            "Loaded cv192_16079.txt\n",
            "Loaded cv193_5393.txt\n",
            "Loaded cv194_12855.txt\n",
            "Loaded cv195_16146.txt\n",
            "Loaded cv196_28898.txt\n",
            "Loaded cv197_29271.txt\n",
            "Loaded cv198_19313.txt\n",
            "Loaded cv199_9721.txt\n",
            "Loaded cv200_29006.txt\n",
            "Loaded cv201_7421.txt\n",
            "Loaded cv202_11382.txt\n",
            "Loaded cv203_19052.txt\n",
            "Loaded cv204_8930.txt\n",
            "Loaded cv205_9676.txt\n",
            "Loaded cv206_15893.txt\n",
            "Loaded cv207_29141.txt\n",
            "Loaded cv208_9475.txt\n",
            "Loaded cv209_28973.txt\n",
            "Loaded cv210_9557.txt\n",
            "Loaded cv211_9955.txt\n",
            "Loaded cv212_10054.txt\n",
            "Loaded cv213_20300.txt\n",
            "Loaded cv214_13285.txt\n",
            "Loaded cv215_23246.txt\n",
            "Loaded cv216_20165.txt\n",
            "Loaded cv217_28707.txt\n",
            "Loaded cv218_25651.txt\n",
            "Loaded cv219_19874.txt\n",
            "Loaded cv220_28906.txt\n",
            "Loaded cv221_27081.txt\n",
            "Loaded cv222_18720.txt\n",
            "Loaded cv223_28923.txt\n",
            "Loaded cv224_18875.txt\n",
            "Loaded cv225_29083.txt\n",
            "Loaded cv226_26692.txt\n",
            "Loaded cv227_25406.txt\n",
            "Loaded cv228_5644.txt\n",
            "Loaded cv229_15200.txt\n",
            "Loaded cv230_7913.txt\n",
            "Loaded cv231_11028.txt\n",
            "Loaded cv232_16768.txt\n",
            "Loaded cv233_17614.txt\n",
            "Loaded cv234_22123.txt\n",
            "Loaded cv235_10704.txt\n",
            "Loaded cv236_12427.txt\n",
            "Loaded cv237_20635.txt\n",
            "Loaded cv238_14285.txt\n",
            "Loaded cv239_29828.txt\n",
            "Loaded cv240_15948.txt\n",
            "Loaded cv241_24602.txt\n",
            "Loaded cv242_11354.txt\n",
            "Loaded cv243_22164.txt\n",
            "Loaded cv244_22935.txt\n",
            "Loaded cv245_8938.txt\n",
            "Loaded cv246_28668.txt\n",
            "Loaded cv247_14668.txt\n",
            "Loaded cv248_15672.txt\n",
            "Loaded cv249_12674.txt\n",
            "Loaded cv250_26462.txt\n",
            "Loaded cv251_23901.txt\n",
            "Loaded cv252_24974.txt\n",
            "Loaded cv253_10190.txt\n",
            "Loaded cv254_5870.txt\n",
            "Loaded cv255_15267.txt\n",
            "Loaded cv256_16529.txt\n",
            "Loaded cv257_11856.txt\n",
            "Loaded cv258_5627.txt\n",
            "Loaded cv259_11827.txt\n",
            "Loaded cv260_15652.txt\n",
            "Loaded cv261_11855.txt\n",
            "Loaded cv262_13812.txt\n",
            "Loaded cv263_20693.txt\n",
            "Loaded cv264_14108.txt\n",
            "Loaded cv265_11625.txt\n",
            "Loaded cv266_26644.txt\n",
            "Loaded cv267_16618.txt\n",
            "Loaded cv268_20288.txt\n",
            "Loaded cv269_23018.txt\n",
            "Loaded cv270_5873.txt\n",
            "Loaded cv271_15364.txt\n",
            "Loaded cv272_20313.txt\n",
            "Loaded cv273_28961.txt\n",
            "Loaded cv274_26379.txt\n",
            "Loaded cv275_28725.txt\n",
            "Loaded cv276_17126.txt\n",
            "Loaded cv277_20467.txt\n",
            "Loaded cv278_14533.txt\n",
            "Loaded cv279_19452.txt\n",
            "Loaded cv280_8651.txt\n",
            "Loaded cv281_24711.txt\n",
            "Loaded cv282_6833.txt\n",
            "Loaded cv283_11963.txt\n",
            "Loaded cv284_20530.txt\n",
            "Loaded cv285_18186.txt\n",
            "Loaded cv286_26156.txt\n",
            "Loaded cv287_17410.txt\n",
            "Loaded cv288_20212.txt\n",
            "Loaded cv289_6239.txt\n",
            "Loaded cv290_11981.txt\n",
            "Loaded cv291_26844.txt\n",
            "Loaded cv292_7804.txt\n",
            "Loaded cv293_29731.txt\n",
            "Loaded cv294_12695.txt\n",
            "Loaded cv295_17060.txt\n",
            "Loaded cv296_13146.txt\n",
            "Loaded cv297_10104.txt\n",
            "Loaded cv298_24487.txt\n",
            "Loaded cv299_17950.txt\n",
            "Loaded cv300_23302.txt\n",
            "Loaded cv301_13010.txt\n",
            "Loaded cv302_26481.txt\n",
            "Loaded cv303_27366.txt\n",
            "Loaded cv304_28489.txt\n",
            "Loaded cv305_9937.txt\n",
            "Loaded cv306_10859.txt\n",
            "Loaded cv307_26382.txt\n",
            "Loaded cv308_5079.txt\n",
            "Loaded cv309_23737.txt\n",
            "Loaded cv310_14568.txt\n",
            "Loaded cv311_17708.txt\n",
            "Loaded cv312_29308.txt\n",
            "Loaded cv313_19337.txt\n",
            "Loaded cv314_16095.txt\n",
            "Loaded cv315_12638.txt\n",
            "Loaded cv316_5972.txt\n",
            "Loaded cv317_25111.txt\n",
            "Loaded cv318_11146.txt\n",
            "Loaded cv319_16459.txt\n",
            "Loaded cv320_9693.txt\n",
            "Loaded cv321_14191.txt\n",
            "Loaded cv322_21820.txt\n",
            "Loaded cv323_29633.txt\n",
            "Loaded cv324_7502.txt\n",
            "Loaded cv325_18330.txt\n",
            "Loaded cv326_14777.txt\n",
            "Loaded cv327_21743.txt\n",
            "Loaded cv328_10908.txt\n",
            "Loaded cv329_29293.txt\n",
            "Loaded cv330_29675.txt\n",
            "Loaded cv331_8656.txt\n",
            "Loaded cv332_17997.txt\n",
            "Loaded cv333_9443.txt\n",
            "Loaded cv334_0074.txt\n",
            "Loaded cv335_16299.txt\n",
            "Loaded cv336_10363.txt\n",
            "Loaded cv337_29061.txt\n",
            "Loaded cv338_9183.txt\n",
            "Loaded cv339_22452.txt\n",
            "Loaded cv340_14776.txt\n",
            "Loaded cv341_25667.txt\n",
            "Loaded cv342_20917.txt\n",
            "Loaded cv343_10906.txt\n",
            "Loaded cv344_5376.txt\n",
            "Loaded cv345_9966.txt\n",
            "Loaded cv346_19198.txt\n",
            "Loaded cv347_14722.txt\n",
            "Loaded cv348_19207.txt\n",
            "Loaded cv349_15032.txt\n",
            "Loaded cv350_22139.txt\n",
            "Loaded cv351_17029.txt\n",
            "Loaded cv352_5414.txt\n",
            "Loaded cv353_19197.txt\n",
            "Loaded cv354_8573.txt\n",
            "Loaded cv355_18174.txt\n",
            "Loaded cv356_26170.txt\n",
            "Loaded cv357_14710.txt\n",
            "Loaded cv358_11557.txt\n",
            "Loaded cv359_6751.txt\n",
            "Loaded cv360_8927.txt\n",
            "Loaded cv361_28738.txt\n",
            "Loaded cv362_16985.txt\n",
            "Loaded cv363_29273.txt\n",
            "Loaded cv364_14254.txt\n",
            "Loaded cv365_12442.txt\n",
            "Loaded cv366_10709.txt\n",
            "Loaded cv367_24065.txt\n",
            "Loaded cv368_11090.txt\n",
            "Loaded cv369_14245.txt\n",
            "Loaded cv370_5338.txt\n",
            "Loaded cv371_8197.txt\n",
            "Loaded cv372_6654.txt\n",
            "Loaded cv373_21872.txt\n",
            "Loaded cv374_26455.txt\n",
            "Loaded cv375_9932.txt\n",
            "Loaded cv376_20883.txt\n",
            "Loaded cv377_8440.txt\n",
            "Loaded cv378_21982.txt\n",
            "Loaded cv379_23167.txt\n",
            "Loaded cv380_8164.txt\n",
            "Loaded cv381_21673.txt\n",
            "Loaded cv382_8393.txt\n",
            "Loaded cv383_14662.txt\n",
            "Loaded cv384_18536.txt\n",
            "Loaded cv385_29621.txt\n",
            "Loaded cv386_10229.txt\n",
            "Loaded cv387_12391.txt\n",
            "Loaded cv388_12810.txt\n",
            "Loaded cv389_9611.txt\n",
            "Loaded cv390_12187.txt\n",
            "Loaded cv391_11615.txt\n",
            "Loaded cv392_12238.txt\n",
            "Loaded cv393_29234.txt\n",
            "Loaded cv394_5311.txt\n",
            "Loaded cv395_11761.txt\n",
            "Loaded cv396_19127.txt\n",
            "Loaded cv397_28890.txt\n",
            "Loaded cv398_17047.txt\n",
            "Loaded cv399_28593.txt\n",
            "Loaded cv400_20631.txt\n",
            "Loaded cv401_13758.txt\n",
            "Loaded cv402_16097.txt\n",
            "Loaded cv403_6721.txt\n",
            "Loaded cv404_21805.txt\n",
            "Loaded cv405_21868.txt\n",
            "Loaded cv406_22199.txt\n",
            "Loaded cv407_23928.txt\n",
            "Loaded cv408_5367.txt\n",
            "Loaded cv409_29625.txt\n",
            "Loaded cv410_25624.txt\n",
            "Loaded cv411_16799.txt\n",
            "Loaded cv412_25254.txt\n",
            "Loaded cv413_7893.txt\n",
            "Loaded cv414_11161.txt\n",
            "Loaded cv415_23674.txt\n",
            "Loaded cv416_12048.txt\n",
            "Loaded cv417_14653.txt\n",
            "Loaded cv418_16562.txt\n",
            "Loaded cv419_14799.txt\n",
            "Loaded cv420_28631.txt\n",
            "Loaded cv421_9752.txt\n",
            "Loaded cv422_9632.txt\n",
            "Loaded cv423_12089.txt\n",
            "Loaded cv424_9268.txt\n",
            "Loaded cv425_8603.txt\n",
            "Loaded cv426_10976.txt\n",
            "Loaded cv427_11693.txt\n",
            "Loaded cv428_12202.txt\n",
            "Loaded cv429_7937.txt\n",
            "Loaded cv430_18662.txt\n",
            "Loaded cv431_7538.txt\n",
            "Loaded cv432_15873.txt\n",
            "Loaded cv433_10443.txt\n",
            "Loaded cv434_5641.txt\n",
            "Loaded cv435_24355.txt\n",
            "Loaded cv436_20564.txt\n",
            "Loaded cv437_24070.txt\n",
            "Loaded cv438_8500.txt\n",
            "Loaded cv439_17633.txt\n",
            "Loaded cv440_16891.txt\n",
            "Loaded cv441_15276.txt\n",
            "Loaded cv442_15499.txt\n",
            "Loaded cv443_22367.txt\n",
            "Loaded cv444_9975.txt\n",
            "Loaded cv445_26683.txt\n",
            "Loaded cv446_12209.txt\n",
            "Loaded cv447_27334.txt\n",
            "Loaded cv448_16409.txt\n",
            "Loaded cv449_9126.txt\n",
            "Loaded cv450_8319.txt\n",
            "Loaded cv451_11502.txt\n",
            "Loaded cv452_5179.txt\n",
            "Loaded cv453_10911.txt\n",
            "Loaded cv454_21961.txt\n",
            "Loaded cv455_28866.txt\n",
            "Loaded cv456_20370.txt\n",
            "Loaded cv457_19546.txt\n",
            "Loaded cv458_9000.txt\n",
            "Loaded cv459_21834.txt\n",
            "Loaded cv460_11723.txt\n",
            "Loaded cv461_21124.txt\n",
            "Loaded cv462_20788.txt\n",
            "Loaded cv463_10846.txt\n",
            "Loaded cv464_17076.txt\n",
            "Loaded cv465_23401.txt\n",
            "Loaded cv466_20092.txt\n",
            "Loaded cv467_26610.txt\n",
            "Loaded cv468_16844.txt\n",
            "Loaded cv469_21998.txt\n",
            "Loaded cv470_17444.txt\n",
            "Loaded cv471_18405.txt\n",
            "Loaded cv472_29140.txt\n",
            "Loaded cv473_7869.txt\n",
            "Loaded cv474_10682.txt\n",
            "Loaded cv475_22978.txt\n",
            "Loaded cv476_18402.txt\n",
            "Loaded cv477_23530.txt\n",
            "Loaded cv478_15921.txt\n",
            "Loaded cv479_5450.txt\n",
            "Loaded cv480_21195.txt\n",
            "Loaded cv481_7930.txt\n",
            "Loaded cv482_11233.txt\n",
            "Loaded cv483_18103.txt\n",
            "Loaded cv484_26169.txt\n",
            "Loaded cv485_26879.txt\n",
            "Loaded cv486_9788.txt\n",
            "Loaded cv487_11058.txt\n",
            "Loaded cv488_21453.txt\n",
            "Loaded cv489_19046.txt\n",
            "Loaded cv490_18986.txt\n",
            "Loaded cv491_12992.txt\n",
            "Loaded cv492_19370.txt\n",
            "Loaded cv493_14135.txt\n",
            "Loaded cv494_18689.txt\n",
            "Loaded cv495_16121.txt\n",
            "Loaded cv496_11185.txt\n",
            "Loaded cv497_27086.txt\n",
            "Loaded cv498_9288.txt\n",
            "Loaded cv499_11407.txt\n",
            "Loaded cv500_10722.txt\n",
            "Loaded cv501_12675.txt\n",
            "Loaded cv502_10970.txt\n",
            "Loaded cv503_11196.txt\n",
            "Loaded cv504_29120.txt\n",
            "Loaded cv505_12926.txt\n",
            "Loaded cv506_17521.txt\n",
            "Loaded cv507_9509.txt\n",
            "Loaded cv508_17742.txt\n",
            "Loaded cv509_17354.txt\n",
            "Loaded cv510_24758.txt\n",
            "Loaded cv511_10360.txt\n",
            "Loaded cv512_17618.txt\n",
            "Loaded cv513_7236.txt\n",
            "Loaded cv514_12173.txt\n",
            "Loaded cv515_18484.txt\n",
            "Loaded cv516_12117.txt\n",
            "Loaded cv517_20616.txt\n",
            "Loaded cv518_14798.txt\n",
            "Loaded cv519_16239.txt\n",
            "Loaded cv520_13297.txt\n",
            "Loaded cv521_1730.txt\n",
            "Loaded cv522_5418.txt\n",
            "Loaded cv523_18285.txt\n",
            "Loaded cv524_24885.txt\n",
            "Loaded cv525_17930.txt\n",
            "Loaded cv526_12868.txt\n",
            "Loaded cv527_10338.txt\n",
            "Loaded cv528_11669.txt\n",
            "Loaded cv529_10972.txt\n",
            "Loaded cv530_17949.txt\n",
            "Loaded cv531_26838.txt\n",
            "Loaded cv532_6495.txt\n",
            "Loaded cv533_9843.txt\n",
            "Loaded cv534_15683.txt\n",
            "Loaded cv535_21183.txt\n",
            "Loaded cv536_27221.txt\n",
            "Loaded cv537_13516.txt\n",
            "Loaded cv538_28485.txt\n",
            "Loaded cv539_21865.txt\n",
            "Loaded cv540_3092.txt\n",
            "Loaded cv541_28683.txt\n",
            "Loaded cv542_20359.txt\n",
            "Loaded cv543_5107.txt\n",
            "Loaded cv544_5301.txt\n",
            "Loaded cv545_12848.txt\n",
            "Loaded cv546_12723.txt\n",
            "Loaded cv547_18043.txt\n",
            "Loaded cv548_18944.txt\n",
            "Loaded cv549_22771.txt\n",
            "Loaded cv550_23226.txt\n",
            "Loaded cv551_11214.txt\n",
            "Loaded cv552_0150.txt\n",
            "Loaded cv553_26965.txt\n",
            "Loaded cv554_14678.txt\n",
            "Loaded cv555_25047.txt\n",
            "Loaded cv556_16563.txt\n",
            "Loaded cv557_12237.txt\n",
            "Loaded cv558_29376.txt\n",
            "Loaded cv559_0057.txt\n",
            "Loaded cv560_18608.txt\n",
            "Loaded cv561_9484.txt\n",
            "Loaded cv562_10847.txt\n",
            "Loaded cv563_18610.txt\n",
            "Loaded cv564_12011.txt\n",
            "Loaded cv565_29403.txt\n",
            "Loaded cv566_8967.txt\n",
            "Loaded cv567_29420.txt\n",
            "Loaded cv568_17065.txt\n",
            "Loaded cv569_26750.txt\n",
            "Loaded cv570_28960.txt\n",
            "Loaded cv571_29292.txt\n",
            "Loaded cv572_20053.txt\n",
            "Loaded cv573_29384.txt\n",
            "Loaded cv574_23191.txt\n",
            "Loaded cv575_22598.txt\n",
            "Loaded cv576_15688.txt\n",
            "Loaded cv577_28220.txt\n",
            "Loaded cv578_16825.txt\n",
            "Loaded cv579_12542.txt\n",
            "Loaded cv580_15681.txt\n",
            "Loaded cv581_20790.txt\n",
            "Loaded cv582_6678.txt\n",
            "Loaded cv583_29465.txt\n",
            "Loaded cv584_29549.txt\n",
            "Loaded cv585_23576.txt\n",
            "Loaded cv586_8048.txt\n",
            "Loaded cv587_20532.txt\n",
            "Loaded cv588_14467.txt\n",
            "Loaded cv589_12853.txt\n",
            "Loaded cv590_20712.txt\n",
            "Loaded cv591_24887.txt\n",
            "Loaded cv592_23391.txt\n",
            "Loaded cv593_11931.txt\n",
            "Loaded cv594_11945.txt\n",
            "Loaded cv595_26420.txt\n",
            "Loaded cv596_4367.txt\n",
            "Loaded cv597_26744.txt\n",
            "Loaded cv598_18184.txt\n",
            "Loaded cv599_22197.txt\n",
            "Loaded cv600_25043.txt\n",
            "Loaded cv601_24759.txt\n",
            "Loaded cv602_8830.txt\n",
            "Loaded cv603_18885.txt\n",
            "Loaded cv604_23339.txt\n",
            "Loaded cv605_12730.txt\n",
            "Loaded cv606_17672.txt\n",
            "Loaded cv607_8235.txt\n",
            "Loaded cv608_24647.txt\n",
            "Loaded cv609_25038.txt\n",
            "Loaded cv610_24153.txt\n",
            "Loaded cv611_2253.txt\n",
            "Loaded cv612_5396.txt\n",
            "Loaded cv613_23104.txt\n",
            "Loaded cv614_11320.txt\n",
            "Loaded cv615_15734.txt\n",
            "Loaded cv616_29187.txt\n",
            "Loaded cv617_9561.txt\n",
            "Loaded cv618_9469.txt\n",
            "Loaded cv619_13677.txt\n",
            "Loaded cv620_2556.txt\n",
            "Loaded cv621_15984.txt\n",
            "Loaded cv622_8583.txt\n",
            "Loaded cv623_16988.txt\n",
            "Loaded cv624_11601.txt\n",
            "Loaded cv625_13518.txt\n",
            "Loaded cv626_7907.txt\n",
            "Loaded cv627_12603.txt\n",
            "Loaded cv628_20758.txt\n",
            "Loaded cv629_16604.txt\n",
            "Loaded cv630_10152.txt\n",
            "Loaded cv631_4782.txt\n",
            "Loaded cv632_9704.txt\n",
            "Loaded cv633_29730.txt\n",
            "Loaded cv634_11989.txt\n",
            "Loaded cv635_0984.txt\n",
            "Loaded cv636_16954.txt\n",
            "Loaded cv637_13682.txt\n",
            "Loaded cv638_29394.txt\n",
            "Loaded cv639_10797.txt\n",
            "Loaded cv640_5380.txt\n",
            "Loaded cv641_13412.txt\n",
            "Loaded cv642_29788.txt\n",
            "Loaded cv643_29282.txt\n",
            "Loaded cv644_18551.txt\n",
            "Loaded cv645_17078.txt\n",
            "Loaded cv646_16817.txt\n",
            "Loaded cv647_15275.txt\n",
            "Loaded cv648_17277.txt\n",
            "Loaded cv649_13947.txt\n",
            "Loaded cv650_15974.txt\n",
            "Loaded cv651_11120.txt\n",
            "Loaded cv652_15653.txt\n",
            "Loaded cv653_2107.txt\n",
            "Loaded cv654_19345.txt\n",
            "Loaded cv655_12055.txt\n",
            "Loaded cv656_25395.txt\n",
            "Loaded cv657_25835.txt\n",
            "Loaded cv658_11186.txt\n",
            "Loaded cv659_21483.txt\n",
            "Loaded cv660_23140.txt\n",
            "Loaded cv661_25780.txt\n",
            "Loaded cv662_14791.txt\n",
            "Loaded cv663_14484.txt\n",
            "Loaded cv664_4264.txt\n",
            "Loaded cv665_29386.txt\n",
            "Loaded cv666_20301.txt\n",
            "Loaded cv667_19672.txt\n",
            "Loaded cv668_18848.txt\n",
            "Loaded cv669_24318.txt\n",
            "Loaded cv670_2666.txt\n",
            "Loaded cv671_5164.txt\n",
            "Loaded cv672_27988.txt\n",
            "Loaded cv673_25874.txt\n",
            "Loaded cv674_11593.txt\n",
            "Loaded cv675_22871.txt\n",
            "Loaded cv676_22202.txt\n",
            "Loaded cv677_18938.txt\n",
            "Loaded cv678_14887.txt\n",
            "Loaded cv679_28221.txt\n",
            "Loaded cv680_10533.txt\n",
            "Loaded cv681_9744.txt\n",
            "Loaded cv682_17947.txt\n",
            "Loaded cv683_13047.txt\n",
            "Loaded cv684_12727.txt\n",
            "Loaded cv685_5710.txt\n",
            "Loaded cv686_15553.txt\n",
            "Loaded cv687_22207.txt\n",
            "Loaded cv688_7884.txt\n",
            "Loaded cv689_13701.txt\n",
            "Loaded cv690_5425.txt\n",
            "Loaded cv691_5090.txt\n",
            "Loaded cv692_17026.txt\n",
            "Loaded cv693_19147.txt\n",
            "Loaded cv694_4526.txt\n",
            "Loaded cv695_22268.txt\n",
            "Loaded cv696_29619.txt\n",
            "Loaded cv697_12106.txt\n",
            "Loaded cv698_16930.txt\n",
            "Loaded cv699_7773.txt\n",
            "Loaded cv700_23163.txt\n",
            "Loaded cv701_15880.txt\n",
            "Loaded cv702_12371.txt\n",
            "Loaded cv703_17948.txt\n",
            "Loaded cv704_17622.txt\n",
            "Loaded cv705_11973.txt\n",
            "Loaded cv706_25883.txt\n",
            "Loaded cv707_11421.txt\n",
            "Loaded cv708_28539.txt\n",
            "Loaded cv709_11173.txt\n",
            "Loaded cv710_23745.txt\n",
            "Loaded cv711_12687.txt\n",
            "Loaded cv712_24217.txt\n",
            "Loaded cv713_29002.txt\n",
            "Loaded cv714_19704.txt\n",
            "Loaded cv715_19246.txt\n",
            "Loaded cv716_11153.txt\n",
            "Loaded cv717_17472.txt\n",
            "Loaded cv718_12227.txt\n",
            "Loaded cv719_5581.txt\n",
            "Loaded cv720_5383.txt\n",
            "Loaded cv721_28993.txt\n",
            "Loaded cv722_7571.txt\n",
            "Loaded cv723_9002.txt\n",
            "Loaded cv724_15265.txt\n",
            "Loaded cv725_10266.txt\n",
            "Loaded cv726_4365.txt\n",
            "Loaded cv727_5006.txt\n",
            "Loaded cv728_17931.txt\n",
            "Loaded cv729_10475.txt\n",
            "Loaded cv730_10729.txt\n",
            "Loaded cv731_3968.txt\n",
            "Loaded cv732_13092.txt\n",
            "Loaded cv733_9891.txt\n",
            "Loaded cv734_22821.txt\n",
            "Loaded cv735_20218.txt\n",
            "Loaded cv736_24947.txt\n",
            "Loaded cv737_28733.txt\n",
            "Loaded cv738_10287.txt\n",
            "Loaded cv739_12179.txt\n",
            "Loaded cv740_13643.txt\n",
            "Loaded cv741_12765.txt\n",
            "Loaded cv742_8279.txt\n",
            "Loaded cv743_17023.txt\n",
            "Loaded cv744_10091.txt\n",
            "Loaded cv745_14009.txt\n",
            "Loaded cv746_10471.txt\n",
            "Loaded cv747_18189.txt\n",
            "Loaded cv748_14044.txt\n",
            "Loaded cv749_18960.txt\n",
            "Loaded cv750_10606.txt\n",
            "Loaded cv751_17208.txt\n",
            "Loaded cv752_25330.txt\n",
            "Loaded cv753_11812.txt\n",
            "Loaded cv754_7709.txt\n",
            "Loaded cv755_24881.txt\n",
            "Loaded cv756_23676.txt\n",
            "Loaded cv757_10668.txt\n",
            "Loaded cv758_9740.txt\n",
            "Loaded cv759_15091.txt\n",
            "Loaded cv760_8977.txt\n",
            "Loaded cv761_13769.txt\n",
            "Loaded cv762_15604.txt\n",
            "Loaded cv763_16486.txt\n",
            "Loaded cv764_12701.txt\n",
            "Loaded cv765_20429.txt\n",
            "Loaded cv766_7983.txt\n",
            "Loaded cv767_15673.txt\n",
            "Loaded cv768_12709.txt\n",
            "Loaded cv769_8565.txt\n",
            "Loaded cv770_11061.txt\n",
            "Loaded cv771_28466.txt\n",
            "Loaded cv772_12971.txt\n",
            "Loaded cv773_20264.txt\n",
            "Loaded cv774_15488.txt\n",
            "Loaded cv775_17966.txt\n",
            "Loaded cv776_21934.txt\n",
            "Loaded cv777_10247.txt\n",
            "Loaded cv778_18629.txt\n",
            "Loaded cv779_18989.txt\n",
            "Loaded cv780_8467.txt\n",
            "Loaded cv781_5358.txt\n",
            "Loaded cv782_21078.txt\n",
            "Loaded cv783_14724.txt\n",
            "Loaded cv784_16077.txt\n",
            "Loaded cv785_23748.txt\n",
            "Loaded cv786_23608.txt\n",
            "Loaded cv787_15277.txt\n",
            "Loaded cv788_26409.txt\n",
            "Loaded cv789_12991.txt\n",
            "Loaded cv790_16202.txt\n",
            "Loaded cv791_17995.txt\n",
            "Loaded cv792_3257.txt\n",
            "Loaded cv793_15235.txt\n",
            "Loaded cv794_17353.txt\n",
            "Loaded cv795_10291.txt\n",
            "Loaded cv796_17243.txt\n",
            "Loaded cv797_7245.txt\n",
            "Loaded cv798_24779.txt\n",
            "Loaded cv799_19812.txt\n",
            "Loaded cv800_13494.txt\n",
            "Loaded cv801_26335.txt\n",
            "Loaded cv802_28381.txt\n",
            "Loaded cv803_8584.txt\n",
            "Loaded cv804_11763.txt\n",
            "Loaded cv805_21128.txt\n",
            "Loaded cv806_9405.txt\n",
            "Loaded cv807_23024.txt\n",
            "Loaded cv808_13773.txt\n",
            "Loaded cv809_5012.txt\n",
            "Loaded cv810_13660.txt\n",
            "Loaded cv811_22646.txt\n",
            "Loaded cv812_19051.txt\n",
            "Loaded cv813_6649.txt\n",
            "Loaded cv814_20316.txt\n",
            "Loaded cv815_23466.txt\n",
            "Loaded cv816_15257.txt\n",
            "Loaded cv817_3675.txt\n",
            "Loaded cv818_10698.txt\n",
            "Loaded cv819_9567.txt\n",
            "Loaded cv820_24157.txt\n",
            "Loaded cv821_29283.txt\n",
            "Loaded cv822_21545.txt\n",
            "Loaded cv823_17055.txt\n",
            "Loaded cv824_9335.txt\n",
            "Loaded cv825_5168.txt\n",
            "Loaded cv826_12761.txt\n",
            "Loaded cv827_19479.txt\n",
            "Loaded cv828_21392.txt\n",
            "Loaded cv829_21725.txt\n",
            "Loaded cv830_5778.txt\n",
            "Loaded cv831_16325.txt\n",
            "Loaded cv832_24713.txt\n",
            "Loaded cv833_11961.txt\n",
            "Loaded cv834_23192.txt\n",
            "Loaded cv835_20531.txt\n",
            "Loaded cv836_14311.txt\n",
            "Loaded cv837_27232.txt\n",
            "Loaded cv838_25886.txt\n",
            "Loaded cv839_22807.txt\n",
            "Loaded cv840_18033.txt\n",
            "Loaded cv841_3367.txt\n",
            "Loaded cv842_5702.txt\n",
            "Loaded cv843_17054.txt\n",
            "Loaded cv844_13890.txt\n",
            "Loaded cv845_15886.txt\n",
            "Loaded cv846_29359.txt\n",
            "Loaded cv847_20855.txt\n",
            "Loaded cv848_10061.txt\n",
            "Loaded cv849_17215.txt\n",
            "Loaded cv850_18185.txt\n",
            "Loaded cv851_21895.txt\n",
            "Loaded cv852_27512.txt\n",
            "Loaded cv853_29119.txt\n",
            "Loaded cv854_18955.txt\n",
            "Loaded cv855_22134.txt\n",
            "Loaded cv856_28882.txt\n",
            "Loaded cv857_17527.txt\n",
            "Loaded cv858_20266.txt\n",
            "Loaded cv859_15689.txt\n",
            "Loaded cv860_15520.txt\n",
            "Loaded cv861_12809.txt\n",
            "Loaded cv862_15924.txt\n",
            "Loaded cv863_7912.txt\n",
            "Loaded cv864_3087.txt\n",
            "Loaded cv865_28796.txt\n",
            "Loaded cv866_29447.txt\n",
            "Loaded cv867_18362.txt\n",
            "Loaded cv868_12799.txt\n",
            "Loaded cv869_24782.txt\n",
            "Loaded cv870_18090.txt\n",
            "Loaded cv871_25971.txt\n",
            "Loaded cv872_13710.txt\n",
            "Loaded cv873_19937.txt\n",
            "Loaded cv874_12182.txt\n",
            "Loaded cv875_5622.txt\n",
            "Loaded cv876_9633.txt\n",
            "Loaded cv877_29132.txt\n",
            "Loaded cv878_17204.txt\n",
            "Loaded cv879_16585.txt\n",
            "Loaded cv880_29629.txt\n",
            "Loaded cv881_14767.txt\n",
            "Loaded cv882_10042.txt\n",
            "Loaded cv883_27621.txt\n",
            "Loaded cv884_15230.txt\n",
            "Loaded cv885_13390.txt\n",
            "Loaded cv886_19210.txt\n",
            "Loaded cv887_5306.txt\n",
            "Loaded cv888_25678.txt\n",
            "Loaded cv889_22670.txt\n",
            "Loaded cv890_3515.txt\n",
            "Loaded cv891_6035.txt\n",
            "Loaded cv892_18788.txt\n",
            "Loaded cv893_26731.txt\n",
            "Loaded cv894_22140.txt\n",
            "Loaded cv895_22200.txt\n",
            "Loaded cv896_17819.txt\n",
            "Loaded cv897_11703.txt\n",
            "Loaded cv898_1576.txt\n",
            "Loaded cv899_17812.txt\n",
            "Loaded cv900_10800.txt\n",
            "Loaded cv901_11934.txt\n",
            "Loaded cv902_13217.txt\n",
            "Loaded cv903_18981.txt\n",
            "Loaded cv904_25663.txt\n",
            "Loaded cv905_28965.txt\n",
            "Loaded cv906_12332.txt\n",
            "Loaded cv907_3193.txt\n",
            "Loaded cv908_17779.txt\n",
            "Loaded cv909_9973.txt\n",
            "Loaded cv910_21930.txt\n",
            "Loaded cv911_21695.txt\n",
            "Loaded cv912_5562.txt\n",
            "Loaded cv913_29127.txt\n",
            "Loaded cv914_2856.txt\n",
            "Loaded cv915_9342.txt\n",
            "Loaded cv916_17034.txt\n",
            "Loaded cv917_29484.txt\n",
            "Loaded cv918_27080.txt\n",
            "Loaded cv919_18155.txt\n",
            "Loaded cv920_29423.txt\n",
            "Loaded cv921_13988.txt\n",
            "Loaded cv922_10185.txt\n",
            "Loaded cv923_11951.txt\n",
            "Loaded cv924_29397.txt\n",
            "Loaded cv925_9459.txt\n",
            "Loaded cv926_18471.txt\n",
            "Loaded cv927_11471.txt\n",
            "Loaded cv928_9478.txt\n",
            "Loaded cv929_1841.txt\n",
            "Loaded cv930_14949.txt\n",
            "Loaded cv931_18783.txt\n",
            "Loaded cv932_14854.txt\n",
            "Loaded cv933_24953.txt\n",
            "Loaded cv934_20426.txt\n",
            "Loaded cv935_24977.txt\n",
            "Loaded cv936_17473.txt\n",
            "Loaded cv937_9816.txt\n",
            "Loaded cv938_10706.txt\n",
            "Loaded cv939_11247.txt\n",
            "Loaded cv940_18935.txt\n",
            "Loaded cv941_10718.txt\n",
            "Loaded cv942_18509.txt\n",
            "Loaded cv943_23547.txt\n",
            "Loaded cv944_15042.txt\n",
            "Loaded cv945_13012.txt\n",
            "Loaded cv946_20084.txt\n",
            "Loaded cv947_11316.txt\n",
            "Loaded cv948_25870.txt\n",
            "Loaded cv949_21565.txt\n",
            "Loaded cv950_13478.txt\n",
            "Loaded cv951_11816.txt\n",
            "Loaded cv952_26375.txt\n",
            "Loaded cv953_7078.txt\n",
            "Loaded cv954_19932.txt\n",
            "Loaded cv955_26154.txt\n",
            "Loaded cv956_12547.txt\n",
            "Loaded cv957_9059.txt\n",
            "Loaded cv958_13020.txt\n",
            "Loaded cv959_16218.txt\n",
            "Loaded cv960_28877.txt\n",
            "Loaded cv961_5578.txt\n",
            "Loaded cv962_9813.txt\n",
            "Loaded cv963_7208.txt\n",
            "Loaded cv964_5794.txt\n",
            "Loaded cv965_26688.txt\n",
            "Loaded cv966_28671.txt\n",
            "Loaded cv967_5626.txt\n",
            "Loaded cv968_25413.txt\n",
            "Loaded cv969_14760.txt\n",
            "Loaded cv970_19532.txt\n",
            "Loaded cv971_11790.txt\n",
            "Loaded cv972_26837.txt\n",
            "Loaded cv973_10171.txt\n",
            "Loaded cv974_24303.txt\n",
            "Loaded cv975_11920.txt\n",
            "Loaded cv976_10724.txt\n",
            "Loaded cv977_4776.txt\n",
            "Loaded cv978_22192.txt\n",
            "Loaded cv979_2029.txt\n",
            "Loaded cv980_11851.txt\n",
            "Loaded cv981_16679.txt\n",
            "Loaded cv982_22209.txt\n",
            "Loaded cv983_24219.txt\n",
            "Loaded cv984_14006.txt\n",
            "Loaded cv985_5964.txt\n",
            "Loaded cv986_15092.txt\n",
            "Loaded cv987_7394.txt\n",
            "Loaded cv988_20168.txt\n",
            "Loaded cv989_17297.txt\n",
            "Loaded cv990_12443.txt\n",
            "Loaded cv991_19973.txt\n",
            "Loaded cv992_12806.txt\n",
            "Loaded cv993_29565.txt\n",
            "Loaded cv994_13229.txt\n",
            "Loaded cv995_23113.txt\n",
            "Loaded cv996_12447.txt\n",
            "Loaded cv997_5152.txt\n",
            "Loaded cv998_15691.txt\n",
            "Loaded cv999_14636.txt\n"
          ]
        }
      ],
      "source": [
        "from os import listdir \n",
        "# load all docs in a directory\n",
        "def process_docs(directory):\n",
        "    \"\"\"\n",
        "    Parameters\n",
        "    ----------\n",
        "    directory: a directory containing positive/negative samples from the Thumbs\n",
        "    Up! dataset.\n",
        "\n",
        "    Return\n",
        "    ------\n",
        "    A list of of documents, where each document is string text\n",
        "    \"\"\"\n",
        "    # walk through all files in the folder\n",
        "    docs=[] # a list of review texts\n",
        "    files=listdir(directory)\n",
        "    files=sorted(files)\n",
        "    for filename in files:\n",
        "        # skip files that do not have the right extension\n",
        "        if not filename.endswith(\".txt\"):\n",
        "            continue\n",
        "        # create the full path of the file to open\n",
        "        path = directory + '/' + filename\n",
        "        # load document\n",
        "        doc = load_doc(path)\n",
        "        print('Loaded %s' % filename)\n",
        "        docs.append(doc)\n",
        "    return docs\n",
        " \n",
        "# specify directory to load\n",
        "#replace the following path according to your Google Drive path\n",
        "directory = \"/content/drive/MyDrive/Monash-FIT-S1-2023/week5/data\"\"\n",
        "directory = 'neg'\n",
        "docs=process_docs(directory)"
      ]
    },
    {
      "cell_type": "markdown",
      "metadata": {
        "id": "G6SlpyplReXd"
      },
      "source": [
        "**<h3>💻 Try it yourself!</h3>**"
      ]
    },
    {
      "cell_type": "markdown",
      "metadata": {
        "id": "dQ4Ol0plReXe"
      },
      "source": [
        "Use the predefined `process_docs()` function to read in negative texts and positive reviews. How many reviews are there for each class? \n",
        "\n",
        "You can write your code below:"
      ]
    },
    {
      "cell_type": "code",
      "execution_count": null,
      "metadata": {
        "id": "ngOZpkTQReXg"
      },
      "outputs": [],
      "source": []
    },
    {
      "cell_type": "markdown",
      "metadata": {
        "id": "Bf82-7OFReXm"
      },
      "source": [
        "\n",
        "<hr>    <!-- please remember this! -->\n",
        "<details>\n",
        "  <summary>Click <b>here</b> to see the answer.</summary>\n",
        "    <p>1000 positive and 1000 negative reviews</p>\n",
        "\n",
        "<!--   <p>\\begin{equation*}P(Fire|Smoke) =  \\frac{P(Fire)*P(Smoke|Fire)}{P(Smoke)} \\end{equation*} </p>\n",
        "<p>\\begin{equation*}=\\frac{0.01 * 0.9}{ 0.1} \\end{equation*}</p>\n",
        "<p>\\begin{equation*}=0.09\\end{equation*}</p> -->\n",
        "\n",
        "</details> \n",
        "\n"
      ]
    },
    {
      "cell_type": "markdown",
      "metadata": {
        "id": "tU3WDGsMReXn"
      },
      "source": [
        "# Feature Extraction\n"
      ]
    },
    {
      "cell_type": "markdown",
      "metadata": {
        "id": "8LbJ8xKIReXo"
      },
      "source": [
        "So far we have obtained the text of each document. If we follow the previous module's definition on Naive Bayes, we could take bag of word represention for each document, and compute the likelihood $P(d \\mid c)$ as:\n",
        "\n",
        "$P(d \\mid c) = P(w_1, \\dots , w_n \\mid c) $\n",
        "\n",
        "This is however only one way to represent the document. We could for example select some of the words (eg. more informative words) or use bigrams instead of unigram words, or combine unigrams and bigrams to represent the document. We could even add information such as document length, date of creation into the representation. All these measurable properties that we can use to represent the input data are referred to as $features$. We can replace $w_1, w_2, \\dots, w_n$ with the more general form: $f_1,f_2,\\dots,f_n$ to indicate individual features. The following is the new formulation of the likelihood. \n",
        "\n",
        "$P(d \\mid c) = P(f_1, \\dots , f_n \\mid c) $\n",
        "\n",
        "Practically, we can group a document's feature values into a list: [f1,f2..fn]. This will be a numerical representation of the document that can be fed directly into a model. We call this list of numbers as a feature vector. \n",
        "\n",
        "Below, We delve deeper into the concept of features and feature vectors. \n"
      ]
    },
    {
      "cell_type": "markdown",
      "metadata": {
        "id": "DlQMfCX6ReYQ"
      },
      "source": [
        "## Feature vector?"
      ]
    },
    {
      "cell_type": "markdown",
      "metadata": {
        "id": "qb62eNVSReYR"
      },
      "source": [
        "The feature vector has a fixed length corresponding to the number of features. Each position of the list represents the value of a feature. For example, to represent unigrams in a document, we can create a vector with the same length of the vocabulary, and the value in each position of the list stores the frequency or presence of a specific word. \n",
        "\n",
        "\n",
        "As an example, suppose we have eight words (apple,banana,red,dog,is,the,and,yellow) in the vocabulary which are represented as eight features. We also have two documents as in below:\n",
        "\n",
        "document 1: \"the apple is red and the banana is yellow\"\n",
        "document 2: \"the red dog\"\n",
        "\n",
        "To produce a feature vector to represent unigram presence in a document, we can write '1' in a position where the correspoding word is present in the document, and we will write '0' to indicate the word is not present. Below is a table view of the vectors. \n",
        "\n",
        "\n",
        "document no.  |  apple | banana | red | dog | is | the | and | yellow |\n",
        "------|------|------|------|------|------|------|------|------|\n",
        "document 1 |1|1|1|0|1|1|1|1|\n",
        "document 2 |0|0|1|1|0|1|0|0|\n",
        "\n",
        "\n",
        "The feature vector for document 1 becomes `[1,1,1,0,1,1,1,1]`\n",
        "\n",
        "To produce a feature vector that represent frequency of each unigram in a document, we can count the number of occurence of each unigram word and write down the number in the corresponding position. \n",
        "\n",
        "document no. | apple | banana | red | dog | is | the | and | yellow |\n",
        "------|------|------|------|------|------|------|------|------|\n",
        "document 1 |1|1|1|0|2|2|1|1|\n",
        "document 2 |0|0|1|1|0|1|0|0|\n",
        "\n",
        "\n",
        "Now the feature vector for document 1 becomes `[1,1,1,0,2,2,1,1]`\n",
        "\n",
        "When the data consists of more than one document as in our example, we will have multiple feature vectors as representations of our data. We can stack the vectors into a list of vectors. This is often referred to as matrix. \n",
        "In our example, we have a 2*8 matrix where 2 is the number of documents, and 8 is the number of features\n",
        "\n",
        "The presence feature matrix for our toy data is: `[[1,1,1,0,1,1,1,1],[0,0,1,1,0,1,0,0]]`\n"
      ]
    },
    {
      "cell_type": "markdown",
      "metadata": {
        "id": "liYnqiYFReYh"
      },
      "source": [
        "### ❓ Quiz  \n"
      ]
    },
    {
      "cell_type": "markdown",
      "metadata": {
        "id": "4cBV4TfZReYi"
      },
      "source": [
        "Following the examples, please write below both the unigram presence and unigram frequency feature vectors for the document text 'the red dog and the red apple'\n",
        "\n"
      ]
    },
    {
      "cell_type": "code",
      "execution_count": null,
      "metadata": {
        "id": "tP2Mwd1MReYj"
      },
      "outputs": [],
      "source": []
    },
    {
      "cell_type": "markdown",
      "metadata": {
        "id": "9t-UZXkuReYo"
      },
      "source": [
        "\n",
        "<hr>    <!-- please remember this! -->\n",
        "<details>\n",
        "  <summary>Click <b>here</b> to see the answer.</summary>\n",
        "    <p>Unigram presence feature vector: [1,0,1,1,0,1,1,0]</p>\n",
        "    <p>Unigram frequency feature vector: [1,0,2,1,0,2,1,0]</p>\n",
        "\n",
        "\n",
        "</details> \n",
        "\n"
      ]
    },
    {
      "cell_type": "markdown",
      "metadata": {
        "id": "5jdWB3QfSFtq"
      },
      "source": [
        "### ❓ Quiz  "
      ]
    },
    {
      "cell_type": "markdown",
      "metadata": {
        "id": "Nav-EVdhSFtq"
      },
      "source": [
        "What is the matrix consisting of the unigram presence vectors of the following documents:\n",
        "\n",
        "document1: 'the apple is red and the banana is yellow'\n",
        "\n",
        "document2: 'the red dog and the red apple'"
      ]
    },
    {
      "cell_type": "code",
      "execution_count": null,
      "metadata": {
        "id": "kO1HIx0uSFtq"
      },
      "outputs": [],
      "source": []
    },
    {
      "cell_type": "markdown",
      "metadata": {
        "id": "XOXnAGI2SFtq"
      },
      "source": [
        "\n",
        "<hr>    <!-- please remember this! -->\n",
        "<details>\n",
        "  <summary>Click <b>here</b> to see the answer.</summary>\n",
        "    <p>The matrix is: [[1,1,1,0,1,1,1,1], [1,0,1,1,0,1,1,0]] </p>\n",
        "\n",
        "\n",
        "</details> \n",
        "\n"
      ]
    },
    {
      "cell_type": "markdown",
      "metadata": {
        "id": "xd8XWczOReY1"
      },
      "source": [
        "## Numpy arrays"
      ]
    },
    {
      "cell_type": "markdown",
      "metadata": {
        "id": "YAgQIXIy2zNH"
      },
      "source": [
        "The feature vectors are commonly represented as `numpy` arrays in Python. Let's spend some time to understand what `numpy` is. "
      ]
    },
    {
      "cell_type": "markdown",
      "metadata": {
        "id": "AQhMs1Q1ReY1"
      },
      "source": [
        "A `numpy` array is just like a `list` but with smaller memory and faster access. \n",
        "\n",
        "Below, we introduce several ways to create a numpy array"
      ]
    },
    {
      "cell_type": "code",
      "execution_count": null,
      "metadata": {
        "id": "LcbIondQReY2",
        "colab": {
          "base_uri": "https://localhost:8080/"
        },
        "outputId": "c768b9b4-8b50-46ad-b248-78dcf2b33816"
      },
      "outputs": [
        {
          "output_type": "stream",
          "name": "stdout",
          "text": [
            "vector1 [0. 0.]\n",
            "vector2 [1 2 3]\n",
            "vector3 [0.75 0.75 0.  ]\n"
          ]
        }
      ],
      "source": [
        "import numpy as np\n",
        "# Create a numpy array of zeros with size 2\n",
        "vector1=np.zeros(2)\n",
        "# create a numpy array from a list [1,2,3]\n",
        "vector2=np.array([1,2,3])\n",
        "# create an empty array of size 3 with arbitary data\n",
        "vector3=np.empty(3)\n",
        "print ('vector1',vector1)\n",
        "print ('vector2',vector2)\n",
        "print ('vector3',vector3)"
      ]
    },
    {
      "cell_type": "markdown",
      "metadata": {
        "id": "gTzXgRTuReY6"
      },
      "source": [
        "We can also concatenate two numpy arrays of the same size"
      ]
    },
    {
      "cell_type": "code",
      "execution_count": null,
      "metadata": {
        "id": "vSNpS0TJReY7",
        "colab": {
          "base_uri": "https://localhost:8080/"
        },
        "outputId": "489fbd0e-b538-470c-d48a-a6813cc63633"
      },
      "outputs": [
        {
          "output_type": "execute_result",
          "data": {
            "text/plain": [
              "array([1.  , 2.  , 3.  , 0.75, 0.75, 0.  ])"
            ]
          },
          "metadata": {},
          "execution_count": 9
        }
      ],
      "source": [
        "np.concatenate((vector2,vector3))"
      ]
    },
    {
      "cell_type": "markdown",
      "metadata": {
        "id": "Cq3Do1UxReZE"
      },
      "source": [
        "So far, we have created numpy arrays of one dimension (i.e. an array of numbers). Let's try creating a 2-D array (also called a matrix, or a nested array). We can pass dimension size (also called axes) as (a,b) where a is the number of rows in the matrix, and b specifies the number of columns. "
      ]
    },
    {
      "cell_type": "code",
      "execution_count": null,
      "metadata": {
        "id": "TzQII4NNReZF",
        "colab": {
          "base_uri": "https://localhost:8080/"
        },
        "outputId": "8d04bd15-b7a3-4286-adc6-7e3090c499e1"
      },
      "outputs": [
        {
          "output_type": "stream",
          "name": "stdout",
          "text": [
            "matrix1 [[0. 0. 0.]\n",
            " [0. 0. 0.]\n",
            " [0. 0. 0.]]\n",
            "matrix2 [[1 2 3]\n",
            " [2 3 4]]\n",
            "matrix3 []\n",
            "(2, 3)\n"
          ]
        }
      ],
      "source": [
        "matrix1=np.zeros((3,3)) \n",
        "# this is a matrix of zeros that has 3 vectors, and within each vector there are 3 items. \n",
        "print ('matrix1',matrix1)\n",
        "# a matrix from nested list\n",
        "matrix2=np.array([[1,2,3],[2,3,4]])\n",
        "print ('matrix2',matrix2)\n",
        "# an empty matrix usually used as initialisation. It will print as an empty list\n",
        "matrix3=np.empty((0,4))\n",
        "print ('matrix3',matrix3)\n",
        "#To check the axes of an array, you can retrieve the shape attributes as tuple of dimension sizes like this:\n",
        "print (matrix2.shape) \n"
      ]
    },
    {
      "cell_type": "markdown",
      "metadata": {
        "id": "TJI7IUkMReZJ"
      },
      "source": [
        "Numpy arrays are mutable. Therefore, we can change values in the vector. For example:"
      ]
    },
    {
      "cell_type": "code",
      "execution_count": null,
      "metadata": {
        "id": "9Ky4YPO0ReZL",
        "colab": {
          "base_uri": "https://localhost:8080/"
        },
        "outputId": "57fc704c-7865-4dfa-d3a1-3a1cf5f15387"
      },
      "outputs": [
        {
          "output_type": "stream",
          "name": "stdout",
          "text": [
            "[0 2 3]\n",
            "[[1 2 0]\n",
            " [2 3 4]]\n",
            "[[0 2 3]\n",
            " [2 3 4]]\n"
          ]
        }
      ],
      "source": [
        "vector2[0]=0 # change the first item in vector3 to 0\n",
        "print (vector2)\n",
        "matrix2[0][2]=0 # change the third item of the first vector to 0\n",
        "print (matrix2)\n",
        "matrix2[0]=vector2 # change the first vector in matrix2 to vector3\n",
        "print (matrix2)\n"
      ]
    },
    {
      "cell_type": "markdown",
      "metadata": {
        "id": "YjSFnyhwReZP"
      },
      "source": [
        "We can also slice a numpy array with an index array. "
      ]
    },
    {
      "cell_type": "code",
      "execution_count": null,
      "metadata": {
        "id": "7r9u1f_TReZS",
        "colab": {
          "base_uri": "https://localhost:8080/"
        },
        "outputId": "06970472-931e-418c-fb3d-81ac35a4eedc"
      },
      "outputs": [
        {
          "output_type": "execute_result",
          "data": {
            "text/plain": [
              "array([2, 3])"
            ]
          },
          "metadata": {},
          "execution_count": 12
        }
      ],
      "source": [
        "#Let's select the values at index 1,2 of vector2\n",
        "vector2[[1,2]]"
      ]
    },
    {
      "cell_type": "markdown",
      "metadata": {
        "id": "j0rSLnjtReXp"
      },
      "source": [
        "## Extracting unigrams"
      ]
    },
    {
      "cell_type": "markdown",
      "metadata": {
        "id": "6qJxTridReXq"
      },
      "source": [
        "Now let's extract unigram features from our data. First, let’s load one document and look at the raw tokens split by white space. We will use the `load_doc()` function developed in the previous section. We can use the `split()` function to split the loaded document into unigram tokens separated by white space."
      ]
    },
    {
      "cell_type": "code",
      "execution_count": null,
      "metadata": {
        "id": "e3eSu9nvReXr",
        "scrolled": true,
        "colab": {
          "base_uri": "https://localhost:8080/"
        },
        "outputId": "54e47159-ae2f-4776-9d40-d7a53680eee4"
      },
      "outputs": [
        {
          "output_type": "stream",
          "name": "stdout",
          "text": [
            "/gdrive/My Drive/Monash-FIT-S1-2022/Week_7/Data/neg\n",
            "['plot', ':', 'two', 'teen', 'couples', 'go', 'to', 'a', 'church', 'party', ',', 'drink', 'and', 'then', 'drive', '.', 'they', 'get', 'into', 'an', 'accident', '.', 'one', 'of', 'the', 'guys', 'dies', ',', 'but', 'his', 'girlfriend', 'continues', 'to', 'see', 'him', 'in', 'her', 'life', ',', 'and', 'has', 'nightmares', '.', \"what's\", 'the', 'deal', '?', 'watch', 'the', 'movie', 'and', '\"', 'sorta', '\"', 'find', 'out', '.', '.', '.', 'critique', ':', 'a', 'mind-fuck', 'movie', 'for', 'the', 'teen', 'generation', 'that', 'touches', 'on', 'a', 'very', 'cool', 'idea', ',', 'but', 'presents', 'it', 'in', 'a', 'very', 'bad', 'package', '.', 'which', 'is', 'what', 'makes', 'this', 'review', 'an', 'even', 'harder', 'one', 'to', 'write', ',', 'since', 'i', 'generally', 'applaud', 'films', 'which', 'attempt', 'to', 'break', 'the', 'mold', ',', 'mess', 'with', 'your', 'head', 'and', 'such', '(', 'lost', 'highway', '&', 'memento', ')', ',', 'but', 'there', 'are', 'good', 'and', 'bad', 'ways', 'of', 'making', 'all', 'types', 'of', 'films', ',', 'and', 'these', 'folks', 'just', \"didn't\", 'snag', 'this', 'one', 'correctly', '.', 'they', 'seem', 'to', 'have', 'taken', 'this', 'pretty', 'neat', 'concept', ',', 'but', 'executed', 'it', 'terribly', '.', 'so', 'what', 'are', 'the', 'problems', 'with', 'the', 'movie', '?', 'well', ',', 'its', 'main', 'problem', 'is', 'that', \"it's\", 'simply', 'too', 'jumbled', '.', 'it', 'starts', 'off', '\"', 'normal', '\"', 'but', 'then', 'downshifts', 'into', 'this', '\"', 'fantasy', '\"', 'world', 'in', 'which', 'you', ',', 'as', 'an', 'audience', 'member', ',', 'have', 'no', 'idea', \"what's\", 'going', 'on', '.', 'there', 'are', 'dreams', ',', 'there', 'are', 'characters', 'coming', 'back', 'from', 'the', 'dead', ',', 'there', 'are', 'others', 'who', 'look', 'like', 'the', 'dead', ',', 'there', 'are', 'strange', 'apparitions', ',', 'there', 'are', 'disappearances', ',', 'there', 'are', 'a', 'looooot', 'of', 'chase', 'scenes', ',', 'there', 'are', 'tons', 'of', 'weird', 'things', 'that', 'happen', ',', 'and', 'most', 'of', 'it', 'is', 'simply', 'not', 'explained', '.', 'now', 'i', 'personally', \"don't\", 'mind', 'trying', 'to', 'unravel', 'a', 'film', 'every', 'now', 'and', 'then', ',', 'but', 'when', 'all', 'it', 'does', 'is', 'give', 'me', 'the', 'same', 'clue', 'over', 'and', 'over', 'again', ',', 'i', 'get', 'kind', 'of', 'fed', 'up', 'after', 'a', 'while', ',', 'which', 'is', 'this', \"film's\", 'biggest', 'problem', '.', \"it's\", 'obviously', 'got', 'this', 'big', 'secret', 'to', 'hide', ',', 'but', 'it', 'seems', 'to', 'want', 'to', 'hide', 'it', 'completely', 'until', 'its', 'final', 'five', 'minutes', '.', 'and', 'do', 'they', 'make', 'things', 'entertaining', ',', 'thrilling', 'or', 'even', 'engaging', ',', 'in', 'the', 'meantime', '?', 'not', 'really', '.', 'the', 'sad', 'part', 'is', 'that', 'the', 'arrow', 'and', 'i', 'both', 'dig', 'on', 'flicks', 'like', 'this', ',', 'so', 'we', 'actually', 'figured', 'most', 'of', 'it', 'out', 'by', 'the', 'half-way', 'point', ',', 'so', 'all', 'of', 'the', 'strangeness', 'after', 'that', 'did', 'start', 'to', 'make', 'a', 'little', 'bit', 'of', 'sense', ',', 'but', 'it', 'still', \"didn't\", 'the', 'make', 'the', 'film', 'all', 'that', 'more', 'entertaining', '.', 'i', 'guess', 'the', 'bottom', 'line', 'with', 'movies', 'like', 'this', 'is', 'that', 'you', 'should', 'always', 'make', 'sure', 'that', 'the', 'audience', 'is', '\"', 'into', 'it', '\"', 'even', 'before', 'they', 'are', 'given', 'the', 'secret', 'password', 'to', 'enter', 'your', 'world', 'of', 'understanding', '.', 'i', 'mean', ',', 'showing', 'melissa', 'sagemiller', 'running', 'away', 'from', 'visions', 'for', 'about', '20', 'minutes', 'throughout', 'the', 'movie', 'is', 'just', 'plain', 'lazy', '!', '!', 'okay', ',', 'we', 'get', 'it', '.', '.', '.', 'there', 'are', 'people', 'chasing', 'her', 'and', 'we', \"don't\", 'know', 'who', 'they', 'are', '.', 'do', 'we', 'really', 'need', 'to', 'see', 'it', 'over', 'and', 'over', 'again', '?', 'how', 'about', 'giving', 'us', 'different', 'scenes', 'offering', 'further', 'insight', 'into', 'all', 'of', 'the', 'strangeness', 'going', 'down', 'in', 'the', 'movie', '?', 'apparently', ',', 'the', 'studio', 'took', 'this', 'film', 'away', 'from', 'its', 'director', 'and', 'chopped', 'it', 'up', 'themselves', ',', 'and', 'it', 'shows', '.', 'there', \"might've\", 'been', 'a', 'pretty', 'decent', 'teen', 'mind-fuck', 'movie', 'in', 'here', 'somewhere', ',', 'but', 'i', 'guess', '\"', 'the', 'suits', '\"', 'decided', 'that', 'turning', 'it', 'into', 'a', 'music', 'video', 'with', 'little', 'edge', ',', 'would', 'make', 'more', 'sense', '.', 'the', 'actors', 'are', 'pretty', 'good', 'for', 'the', 'most', 'part', ',', 'although', 'wes', 'bentley', 'just', 'seemed', 'to', 'be', 'playing', 'the', 'exact', 'same', 'character', 'that', 'he', 'did', 'in', 'american', 'beauty', ',', 'only', 'in', 'a', 'new', 'neighborhood', '.', 'but', 'my', 'biggest', 'kudos', 'go', 'out', 'to', 'sagemiller', ',', 'who', 'holds', 'her', 'own', 'throughout', 'the', 'entire', 'film', ',', 'and', 'actually', 'has', 'you', 'feeling', 'her', \"character's\", 'unraveling', '.', 'overall', ',', 'the', 'film', \"doesn't\", 'stick', 'because', 'it', \"doesn't\", 'entertain', ',', \"it's\", 'confusing', ',', 'it', 'rarely', 'excites', 'and', 'it', 'feels', 'pretty', 'redundant', 'for', 'most', 'of', 'its', 'runtime', ',', 'despite', 'a', 'pretty', 'cool', 'ending', 'and', 'explanation', 'to', 'all', 'of', 'the', 'craziness', 'that', 'came', 'before', 'it', '.', 'oh', ',', 'and', 'by', 'the', 'way', ',', 'this', 'is', 'not', 'a', 'horror', 'or', 'teen', 'slasher', 'flick', '.', '.', '.', \"it's\", 'just', 'packaged', 'to', 'look', 'that', 'way', 'because', 'someone', 'is', 'apparently', 'assuming', 'that', 'the', 'genre', 'is', 'still', 'hot', 'with', 'the', 'kids', '.', 'it', 'also', 'wrapped', 'production', 'two', 'years', 'ago', 'and', 'has', 'been', 'sitting', 'on', 'the', 'shelves', 'ever', 'since', '.', 'whatever', '.', '.', '.', 'skip', 'it', '!', \"where's\", 'joblo', 'coming', 'from', '?', 'a', 'nightmare', 'of', 'elm', 'street', '3', '(', '7/10', ')', '-', 'blair', 'witch', '2', '(', '7/10', ')', '-', 'the', 'crow', '(', '9/10', ')', '-', 'the', 'crow', ':', 'salvation', '(', '4/10', ')', '-', 'lost', 'highway', '(', '10/10', ')', '-', 'memento', '(', '10/10', ')', '-', 'the', 'others', '(', '9/10', ')', '-', 'stir', 'of', 'echoes', '(', '8/10', ')']\n"
          ]
        }
      ],
      "source": [
        "# load the document\n",
        "#replace the following path according to your Google Drive path\n",
        "%cd/gdrive/My Drive/Monash-FIT-S1-2022/Week_7/Data/neg\n",
        "file_folder = \"/content/drive/MyDrive/Monash-FIT-S1-2023/week5/data/neg\"\n",
        "filename = file_folder + '/cv000_29416.txt'\n",
        "text = load_doc(filename)\n",
        "# split into tokens by white space\n",
        "tokens = text.split()\n",
        "print(tokens)"
      ]
    },
    {
      "cell_type": "markdown",
      "metadata": {
        "id": "qeYaaXFDReX5"
      },
      "source": [
        "To keep track of the frequency and presence for each token in the document, we will use the `Counter` dictionary from `collections` module. Let's write a function `tokens_to_dict()` that turns a list of unigram tokens into a counter dictionary. "
      ]
    },
    {
      "cell_type": "code",
      "execution_count": null,
      "metadata": {
        "id": "AVTG7u5FReX9",
        "scrolled": true,
        "colab": {
          "base_uri": "https://localhost:8080/"
        },
        "outputId": "0988b498-cf9c-4a23-bb8a-e25493e249c6"
      },
      "outputs": [
        {
          "output_type": "stream",
          "name": "stdout",
          "text": [
            "Counter({',': 44, 'the': 38, '.': 34, 'it': 21, 'and': 20, 'to': 16, 'of': 16, 'a': 14, 'that': 13, 'are': 13, 'is': 12, 'but': 10, '\"': 10, 'this': 10, 'there': 10, '(': 9, ')': 9, 'in': 8, 'i': 7, '-': 7, '?': 6, 'movie': 6, 'all': 6, 'they': 5, 'into': 5, 'with': 5, 'pretty': 5, 'film': 5, 'make': 5, 'teen': 4, 'her': 4, 'for': 4, 'on': 4, 'which': 4, 'just': 4, 'its': 4, \"it's\": 4, 'from': 4, 'most': 4, 'over': 4, 'we': 4, ':': 3, 'then': 3, 'get': 3, 'an': 3, 'one': 3, 'has': 3, 'out': 3, 'even': 3, 'so': 3, 'you': 3, 'who': 3, 'like': 3, 'not': 3, '!': 3, 'two': 2, 'go': 2, 'see': 2, \"what's\": 2, 'mind-fuck': 2, 'very': 2, 'cool': 2, 'idea': 2, 'bad': 2, 'what': 2, 'since': 2, 'films': 2, 'your': 2, 'lost': 2, 'highway': 2, 'memento': 2, 'good': 2, \"didn't\": 2, 'have': 2, 'problem': 2, 'simply': 2, 'world': 2, 'audience': 2, 'going': 2, 'coming': 2, 'dead': 2, 'others': 2, 'look': 2, 'scenes': 2, 'things': 2, 'now': 2, \"don't\": 2, 'same': 2, 'again': 2, 'up': 2, 'after': 2, 'biggest': 2, 'secret': 2, 'hide': 2, 'minutes': 2, 'do': 2, 'entertaining': 2, 'or': 2, 'really': 2, 'part': 2, 'actually': 2, 'by': 2, 'strangeness': 2, 'did': 2, 'little': 2, 'sense': 2, 'still': 2, 'more': 2, 'guess': 2, 'before': 2, 'sagemiller': 2, 'away': 2, 'about': 2, 'throughout': 2, 'apparently': 2, 'been': 2, \"doesn't\": 2, 'because': 2, 'way': 2, '7/10': 2, 'crow': 2, '9/10': 2, '10/10': 2, 'plot': 1, 'couples': 1, 'church': 1, 'party': 1, 'drink': 1, 'drive': 1, 'accident': 1, 'guys': 1, 'dies': 1, 'his': 1, 'girlfriend': 1, 'continues': 1, 'him': 1, 'life': 1, 'nightmares': 1, 'deal': 1, 'watch': 1, 'sorta': 1, 'find': 1, 'critique': 1, 'generation': 1, 'touches': 1, 'presents': 1, 'package': 1, 'makes': 1, 'review': 1, 'harder': 1, 'write': 1, 'generally': 1, 'applaud': 1, 'attempt': 1, 'break': 1, 'mold': 1, 'mess': 1, 'head': 1, 'such': 1, '&': 1, 'ways': 1, 'making': 1, 'types': 1, 'these': 1, 'folks': 1, 'snag': 1, 'correctly': 1, 'seem': 1, 'taken': 1, 'neat': 1, 'concept': 1, 'executed': 1, 'terribly': 1, 'problems': 1, 'well': 1, 'main': 1, 'too': 1, 'jumbled': 1, 'starts': 1, 'off': 1, 'normal': 1, 'downshifts': 1, 'fantasy': 1, 'as': 1, 'member': 1, 'no': 1, 'dreams': 1, 'characters': 1, 'back': 1, 'strange': 1, 'apparitions': 1, 'disappearances': 1, 'looooot': 1, 'chase': 1, 'tons': 1, 'weird': 1, 'happen': 1, 'explained': 1, 'personally': 1, 'mind': 1, 'trying': 1, 'unravel': 1, 'every': 1, 'when': 1, 'does': 1, 'give': 1, 'me': 1, 'clue': 1, 'kind': 1, 'fed': 1, 'while': 1, \"film's\": 1, 'obviously': 1, 'got': 1, 'big': 1, 'seems': 1, 'want': 1, 'completely': 1, 'until': 1, 'final': 1, 'five': 1, 'thrilling': 1, 'engaging': 1, 'meantime': 1, 'sad': 1, 'arrow': 1, 'both': 1, 'dig': 1, 'flicks': 1, 'figured': 1, 'half-way': 1, 'point': 1, 'start': 1, 'bit': 1, 'bottom': 1, 'line': 1, 'movies': 1, 'should': 1, 'always': 1, 'sure': 1, 'given': 1, 'password': 1, 'enter': 1, 'understanding': 1, 'mean': 1, 'showing': 1, 'melissa': 1, 'running': 1, 'visions': 1, '20': 1, 'plain': 1, 'lazy': 1, 'okay': 1, 'people': 1, 'chasing': 1, 'know': 1, 'need': 1, 'how': 1, 'giving': 1, 'us': 1, 'different': 1, 'offering': 1, 'further': 1, 'insight': 1, 'down': 1, 'studio': 1, 'took': 1, 'director': 1, 'chopped': 1, 'themselves': 1, 'shows': 1, \"might've\": 1, 'decent': 1, 'here': 1, 'somewhere': 1, 'suits': 1, 'decided': 1, 'turning': 1, 'music': 1, 'video': 1, 'edge': 1, 'would': 1, 'actors': 1, 'although': 1, 'wes': 1, 'bentley': 1, 'seemed': 1, 'be': 1, 'playing': 1, 'exact': 1, 'character': 1, 'he': 1, 'american': 1, 'beauty': 1, 'only': 1, 'new': 1, 'neighborhood': 1, 'my': 1, 'kudos': 1, 'holds': 1, 'own': 1, 'entire': 1, 'feeling': 1, \"character's\": 1, 'unraveling': 1, 'overall': 1, 'stick': 1, 'entertain': 1, 'confusing': 1, 'rarely': 1, 'excites': 1, 'feels': 1, 'redundant': 1, 'runtime': 1, 'despite': 1, 'ending': 1, 'explanation': 1, 'craziness': 1, 'came': 1, 'oh': 1, 'horror': 1, 'slasher': 1, 'flick': 1, 'packaged': 1, 'someone': 1, 'assuming': 1, 'genre': 1, 'hot': 1, 'kids': 1, 'also': 1, 'wrapped': 1, 'production': 1, 'years': 1, 'ago': 1, 'sitting': 1, 'shelves': 1, 'ever': 1, 'whatever': 1, 'skip': 1, \"where's\": 1, 'joblo': 1, 'nightmare': 1, 'elm': 1, 'street': 1, '3': 1, 'blair': 1, 'witch': 1, '2': 1, 'salvation': 1, '4/10': 1, 'stir': 1, 'echoes': 1, '8/10': 1})\n"
          ]
        }
      ],
      "source": [
        "from collections import Counter\n",
        "def tokens_to_dict(tokens):\n",
        "    \"\"\"\n",
        "    Parameters\n",
        "    ----------\n",
        "    tokens: a list of tokens in a document\n",
        "\n",
        "    Return\n",
        "    ------\n",
        "    A counter dictionary that records the number of occurrence for each token in a document\n",
        "    \"\"\"\n",
        "    token2count=Counter()\n",
        "    for token in tokens:\n",
        "        token2count[token]+=1\n",
        "    return token2count\n",
        "\n",
        "tokens_dict=tokens_to_dict(tokens)\n",
        "print (tokens_dict)"
      ]
    },
    {
      "cell_type": "markdown",
      "metadata": {
        "id": "TuCta1E-ReYC"
      },
      "source": [
        "We can put all above preprocessing steps into a function `clean_doc_unigrams()`. This function will preprocess the data and extract unigram tokens from the document. We then test it on another review, this time a positive review.\n"
      ]
    },
    {
      "cell_type": "code",
      "execution_count": null,
      "metadata": {
        "id": "-6UgUxOZReYD",
        "colab": {
          "base_uri": "https://localhost:8080/"
        },
        "outputId": "da5eed5a-43cf-4879-d709-ab92032703d6"
      },
      "outputs": [
        {
          "output_type": "stream",
          "name": "stdout",
          "text": [
            "/gdrive/My Drive/Monash-FIT-S1-2022/Week_7/Data/pos\n",
            "Counter({'the': 46, ',': 43, '.': 23, 'and': 20, '(': 18, ')': 18, 'in': 18, 'a': 15, 'to': 15, 'of': 14, 'from': 8, 'but': 7, 'is': 7, 'it': 6, '\"': 6, 'comic': 5, \"don't\": 5, 'film': 5, 'about': 4, 'like': 4, 'who': 4, 'with': 4, 'say': 4, 'you': 4, 'this': 4, \"it's\": 4, 'i': 4, 'had': 3, 'or': 3, 'been': 3, 'book': 3, 'for': 3, 'moore': 3, 'campbell': 3, 'ripper': 3, 'be': 3, 'that': 3, \"hell's\": 3, 'me': 3, ':': 3, 'than': 3, '?': 3, 'he': 3, 'an': 3, 'so': 3, 'even': 3, 'at': 3, 'all': 3, 'have': 2, 'world': 2, 'never': 2, 'really': 2, 'hell': 2, 'whole': 2, 'called': 2, 'jack': 2, 'starting': 2, 'little': 2, 'if': 2, 'more': 2, 'other': 2, 'because': 2, 'get': 2, 'hughes': 2, 'direct': 2, 'seems': 2, 'as': 2, 'ghetto': 2, 'whitechapel': 2, 'end': 2, 'place': 2, 'has': 2, 'when': 2, 'first': 2, 'turns': 2, 'peter': 2, 'not': 2, 'enough': 2, 'abberline': 2, 'depp': 2, 'graham': 2, 'into': 2, 'here': 2, 'both': 2, 'identity': 2, 'good': 2, '-': 2, 'make': 2, 'see': 2, '2': 2, \"wasn't\": 2, 'strong': 2, 'accent': 2, 'her': 2, 'films': 1, 'adapted': 1, 'books': 1, 'plenty': 1, 'success': 1, 'whether': 1, \"they're\": 1, 'superheroes': 1, 'batman': 1, 'superman': 1, 'spawn': 1, 'geared': 1, 'toward': 1, 'kids': 1, 'casper': 1, 'arthouse': 1, 'crowd': 1, 'ghost': 1, \"there's\": 1, 'before': 1, 'starters': 1, 'was': 1, 'created': 1, 'by': 1, 'alan': 1, 'eddie': 1, 'brought': 1, 'medium': 1, 'new': 1, 'level': 1, 'mid': 1, \"'80s\": 1, '12-part': 1, 'series': 1, 'watchmen': 1, 'thoroughly': 1, 'researched': 1, 'subject': 1, 'would': 1, 'saying': 1, 'michael': 1, 'jackson': 1, 'look': 1, 'odd': 1, 'graphic': 1, 'novel': 1, 'will': 1, 'over': 1, '500': 1, 'pages': 1, 'long': 1, 'includes': 1, 'nearly': 1, '30': 1, 'consist': 1, 'nothing': 1, 'footnotes': 1, 'words': 1, 'dismiss': 1, 'its': 1, 'source': 1, 'can': 1, 'past': 1, 'thing': 1, 'might': 1, 'find': 1, 'another': 1, 'stumbling': 1, 'block': 1, 'directors': 1, 'albert': 1, 'allen': 1, 'getting': 1, 'brothers': 1, 'almost': 1, 'ludicrous': 1, 'casting': 1, 'carrot': 1, 'top': 1, 'well': 1, 'anything': 1, 'riddle': 1, 'better': 1, \"that's\": 1, 'set': 1, 'features': 1, 'violent': 1, 'street': 1, 'crime': 1, 'mad': 1, 'geniuses': 1, 'behind': 1, 'menace': 1, 'ii': 1, 'society': 1, 'question': 1, 'course': 1, '1888': 1, \"london's\": 1, 'east': 1, 'filthy': 1, 'sooty': 1, 'where': 1, 'whores': 1, 'unfortunates': 1, 'are': 1, 'nervous': 1, 'mysterious': 1, 'psychopath': 1, 'carving': 1, 'through': 1, 'their': 1, 'profession': 1, 'surgical': 1, 'precision': 1, 'stiff': 1, 'up': 1, 'copper': 1, 'godley': 1, 'robbie': 1, 'coltrane': 1, 'calls': 1, 'inspector': 1, 'frederick': 1, 'johnny': 1, 'blow': 1, 'crack': 1, 'case': 1, 'widower': 1, 'prophetic': 1, 'dreams': 1, 'unsuccessfully': 1, 'tries': 1, 'quell': 1, 'copious': 1, 'amounts': 1, 'absinthe': 1, 'opium': 1, 'upon': 1, 'arriving': 1, 'befriends': 1, 'unfortunate': 1, 'named': 1, 'mary': 1, 'kelly': 1, 'heather': 1, \"isn't\": 1, 'proceeds': 1, 'investigate': 1, 'horribly': 1, 'gruesome': 1, 'crimes': 1, 'police': 1, 'surgeon': 1, \"can't\": 1, 'stomach': 1, 'think': 1, 'anyone': 1, 'needs': 1, 'briefed': 1, 'on': 1, \"won't\": 1, 'go': 1, 'particulars': 1, 'unique': 1, 'interesting': 1, 'theory': 1, 'killer': 1, 'reasons': 1, 'chooses': 1, 'slay': 1, 'they': 1, 'bother': 1, 'cloaking': 1, 'screenwriters': 1, 'terry': 1, 'hayes': 1, 'vertical': 1, 'limit': 1, 'rafael': 1, 'yglesias': 1, 'les': 1, 'mis': 1, 'rables': 1, 'do': 1, 'job': 1, 'keeping': 1, 'him': 1, 'hidden': 1, 'viewers': 1, 'until': 1, 'very': 1, 'funny': 1, 'watch': 1, 'locals': 1, 'blindly': 1, 'point': 1, 'finger': 1, 'blame': 1, 'jews': 1, 'indians': 1, 'after': 1, 'englishman': 1, 'could': 1, 'capable': 1, 'committing': 1, 'such': 1, 'ghastly': 1, 'acts': 1, 'ending': 1, 'whistling': 1, 'stonecutters': 1, 'song': 1, 'simpsons': 1, 'days': 1, 'holds': 1, 'back': 1, 'electric': 1, 'car/who': 1, 'made': 1, 'steve': 1, 'guttenberg': 1, 'star': 1, 'worry': 1, \"it'll\": 1, 'sense': 1, 'now': 1, 'onto': 1, 'appearance': 1, 'certainly': 1, 'dark': 1, 'bleak': 1, 'surprising': 1, 'how': 1, 'much': 1, 'looks': 1, 'tim': 1, 'burton': 1, 'planet': 1, 'apes': 1, 'did': 1, 'times': 1, 'sleepy': 1, 'hollow': 1, 'print': 1, 'saw': 1, 'completely': 1, 'finished': 1, 'color': 1, 'music': 1, 'finalized': 1, 'no': 1, 'comments': 1, 'marilyn': 1, 'manson': 1, 'cinematographer': 1, 'deming': 1, 'word': 1, 'ably': 1, 'captures': 1, 'dreariness': 1, 'victorian-era': 1, 'london': 1, 'helped': 1, 'flashy': 1, 'killing': 1, 'scenes': 1, 'remind': 1, 'crazy': 1, 'flashbacks': 1, 'twin': 1, 'peaks': 1, 'though': 1, 'violence': 1, 'pales': 1, 'comparison': 1, 'black-and-white': 1, 'oscar': 1, 'winner': 1, 'martin': 1, \"childs'\": 1, 'shakespeare': 1, 'love': 1, 'production': 1, 'design': 1, 'original': 1, 'prague': 1, 'surroundings': 1, 'one': 1, 'creepy': 1, 'acting': 1, 'solid': 1, 'dreamy': 1, 'turning': 1, 'typically': 1, 'performance': 1, 'deftly': 1, 'handling': 1, 'british': 1, 'ians': 1, 'holm': 1, 'joe': 1, \"gould's\": 1, 'secret': 1, 'richardson': 1, '102': 1, 'dalmatians': 1, 'log': 1, 'great': 1, 'supporting': 1, 'roles': 1, 'big': 1, 'surprise': 1, 'cringed': 1, 'time': 1, 'she': 1, 'opened': 1, 'mouth': 1, 'imagining': 1, 'attempt': 1, 'irish': 1, 'actually': 1, 'half': 1, 'bad': 1, 'however': 1, '00': 1, 'r': 1, 'violence/gore': 1, 'sexuality': 1, 'language': 1, 'drug': 1, 'content': 1})\n"
          ]
        }
      ],
      "source": [
        "# turn a doc into clean tokens\n",
        "def clean_doc_unigrams(doc):\n",
        "    \"\"\"\n",
        "    Parameters\n",
        "    ----------\n",
        "    doc: text from a document\n",
        "\n",
        "    Return\n",
        "    ------\n",
        "    A counter dictionary of tokens\n",
        "    \"\"\"\n",
        "    # split into tokens by white space\n",
        "    tokens = doc.split()\n",
        "    tokens_dict=tokens_to_dict(tokens)\n",
        "    return tokens_dict\n",
        " \n",
        "# load the document\n",
        "#replace the following path according to your Google Drive path\n",
        "#%cd/gdrive/My Drive/Monash-FIT-S1-2022/Week_7/Data/pos\n",
        "file_folder = \"/content/drive/MyDrive/Monash-FIT-S1-2023/week5/data/pos\"\n",
        "filename = file_folder + '/cv000_29590.txt'\n",
        "text = load_doc(filename)\n",
        "tokens_dict = clean_doc_unigrams(text)\n",
        "print(tokens_dict)"
      ]
    },
    {
      "cell_type": "markdown",
      "metadata": {
        "id": "9__t3RWKReYI"
      },
      "source": [
        "Finally, we can integrate the above preprocessing `clean_doc_unigrams()` into the data processing pipeline for all the files in a directory. We do so by the function `process_docs_unigram()`. \n"
      ]
    },
    {
      "cell_type": "code",
      "execution_count": 2,
      "metadata": {
        "id": "uA4RU1KRReYK",
        "colab": {
          "base_uri": "https://localhost:8080/"
        },
        "outputId": "305d4f02-2ad3-47bf-aea1-c511c6977280"
      },
      "outputs": [
        {
          "output_type": "stream",
          "name": "stderr",
          "text": [
            "UsageError: Line magic function `%cd/gdrive/My` not found.\n"
          ]
        }
      ],
      "source": [
        "# load all docs in a directory\n",
        "def process_docs_unigrams(directory):\n",
        "    \"\"\"\n",
        "    Parameters\n",
        "    ----------\n",
        "    directory: a directory containing positive/negative samples from the Thumbs\n",
        "    Up! dataset.\n",
        "\n",
        "    Return\n",
        "    ------\n",
        "    A list of unigram token counter dictionary where each token dictionary records the frequency of each token that occur in a document. \n",
        "    \"\"\"\n",
        "    # walk through all files in the folder\n",
        "    print (directory)\n",
        "    tokens_all=[]\n",
        "    files=listdir(directory)\n",
        "    for filename in sorted(files):\n",
        "        # skip files that do not have the right extension\n",
        "        if not filename.endswith(\".txt\"):\n",
        "            continue\n",
        "        # create the full path of the file to open\n",
        "        path = directory + '/' + filename\n",
        "        # load document\n",
        "        text=load_doc(path)\n",
        "        # clean documents\n",
        "        tokens_dict = clean_doc_unigrams(text)\n",
        "        tokens_all.append(tokens_dict)\n",
        "    return tokens_all\n",
        "\n",
        "\n",
        "# unigrams for all the negative files\n",
        "#replace the following path according to your Google Drive path\n",
        "#%cd/gdrive/My Drive/Monash-FIT-S1-2022/Week_7/Data\n",
        "directory = \"/content/drive/MyDrive/Monash-FIT-S1-2023/week5/data/neg\"\n",
        "unigrams_neg=process_docs_unigrams(directory)\n",
        "# unigrams for all the positive files\n",
        "directory = \"/content/drive/MyDrive/Monash-FIT-S1-2023/week5/data/pos\"\n",
        "unigrams_posi=process_docs_unigrams(directory)\n",
        "# all unigrams\n",
        "unigrams_all=unigrams_posi+unigrams_neg\n"
      ]
    },
    {
      "cell_type": "markdown",
      "metadata": {
        "id": "uvNjVd19SFtr"
      },
      "source": [
        "## Turn text to feature vectors"
      ]
    },
    {
      "cell_type": "markdown",
      "metadata": {
        "id": "DPWBwd2jReYS"
      },
      "source": [
        "Now that we have the count of each present unigrams for each document, we can convert these unigram counts into feature vectors. But before that, we first need to collect all the features to establish the size of the feature vector. Here, the features are unigram words in the vocabulary. To do this, we define a function `collect_vocab()` to collect all the unique words in the vocabulary from `unigrams_all`, the list of token dictionary from all the documents. "
      ]
    },
    {
      "cell_type": "code",
      "execution_count": 3,
      "metadata": {
        "id": "rw30VUGkReYZ",
        "colab": {
          "base_uri": "https://localhost:8080/",
          "height": 243
        },
        "outputId": "96496609-476b-4da4-d02e-526080169f99"
      },
      "outputs": [
        {
          "output_type": "error",
          "ename": "NameError",
          "evalue": "ignored",
          "traceback": [
            "\u001b[0;31m---------------------------------------------------------------------------\u001b[0m",
            "\u001b[0;31mNameError\u001b[0m                                 Traceback (most recent call last)",
            "\u001b[0;32m<ipython-input-3-9bd63c3fb3cf>\u001b[0m in \u001b[0;36m<module>\u001b[0;34m\u001b[0m\n\u001b[1;32m     21\u001b[0m \u001b[0;34m\u001b[0m\u001b[0m\n\u001b[1;32m     22\u001b[0m \u001b[0;34m\u001b[0m\u001b[0m\n\u001b[0;32m---> 23\u001b[0;31m \u001b[0munigram_vocab\u001b[0m\u001b[0;34m=\u001b[0m\u001b[0mcollect_vocab\u001b[0m\u001b[0;34m(\u001b[0m\u001b[0munigrams_all\u001b[0m\u001b[0;34m)\u001b[0m\u001b[0;34m\u001b[0m\u001b[0;34m\u001b[0m\u001b[0m\n\u001b[0m\u001b[1;32m     24\u001b[0m \u001b[0;31m# Let's check how many words we have in the vocab\u001b[0m\u001b[0;34m\u001b[0m\u001b[0;34m\u001b[0m\u001b[0m\n\u001b[1;32m     25\u001b[0m \u001b[0mprint\u001b[0m \u001b[0;34m(\u001b[0m\u001b[0mlen\u001b[0m\u001b[0;34m(\u001b[0m\u001b[0munigram_vocab\u001b[0m\u001b[0;34m)\u001b[0m\u001b[0;34m)\u001b[0m\u001b[0;34m\u001b[0m\u001b[0;34m\u001b[0m\u001b[0m\n",
            "\u001b[0;31mNameError\u001b[0m: name 'unigrams_all' is not defined"
          ]
        }
      ],
      "source": [
        "from collections import Counter\n",
        "def collect_vocab(tokens_all,min_count=0):\n",
        "    \"\"\"\n",
        "    Parameters\n",
        "    ----------\n",
        "    tokens_all: a list of token dictionaries where each token dictionary is extracted from a document. \n",
        "    min_count: the minimum count of tokens that are selected. The default is 0, and therefore all tokens are included. \n",
        "\n",
        "    Return\n",
        "    ------\n",
        "    a set of unique tokens in the vocabulary of tokens_all\n",
        "    \"\"\"\n",
        "    \n",
        "    vocab=Counter() #Here, we create a `set()` to store all the unique words.\n",
        "    for token_dict in tokens_all: # iterate through token dictionary for each document\n",
        "        for token in token_dict:\n",
        "            # add a word in the vocab set. If a word already exists in vocab, it will not be added twice.\n",
        "            vocab[token]+=token_dict[token]\n",
        "    vocab=set([token for token in vocab if vocab[token]>min_count])\n",
        "    return vocab\n",
        "\n",
        "\n",
        "unigram_vocab=collect_vocab(unigrams_all)\n",
        "# Let's check how many words we have in the vocab\n",
        "print (len(unigram_vocab))"
      ]
    },
    {
      "cell_type": "markdown",
      "metadata": {
        "id": "2kXVnFnpReYp"
      },
      "source": [
        "Now let's create the mapping between vocabulary and feature vecor position index from `unigram_vocab`. We can define a function `create_vocab_feature_mappings()` to do this:"
      ]
    },
    {
      "cell_type": "code",
      "execution_count": null,
      "metadata": {
        "id": "IX4zO6tGReYq"
      },
      "outputs": [],
      "source": [
        "def create_vocab_feature_mappings(vocab):\n",
        "    \"\"\"\n",
        "    Parameters\n",
        "    ----------\n",
        "    vocab: a set of unique features in the vocabulary\n",
        "\n",
        "    Return\n",
        "    ------\n",
        "    vocab2index: a mapping dictionary with feature as key and position index as value\n",
        "    index2vocab: a mapping dicitoanry with position index as key and feature as value\n",
        "    \"\"\"\n",
        "    vocab2index={}\n",
        "    index2vocab={}\n",
        "    for i,w in enumerate(vocab): # iterate through the words in the vocabulary\n",
        "        vocab2index[w]=i\n",
        "        index2vocab[i]=w\n",
        "    return vocab2index,index2vocab\n",
        "\n",
        "unigram2index,index2unigram=create_vocab_feature_mappings(unigram_vocab)"
      ]
    },
    {
      "cell_type": "markdown",
      "metadata": {
        "id": "kRuZAgH3ReYv"
      },
      "source": [
        "Now, we can use `unigram2index` mapping dictionary to turn each document's token dictionary representation into a unigram feature vector. Remember, we can either represent in each vector item the freqency of the words, or use 1 or 0 to represent whether a word occurs or not. \n",
        "Let's design two functions `create_feature_presence()` and `create_feature_frequency()`  to turn the token dictionary for each document into these two types of features. \n",
        "\n",
        "To create the `create_feature_presence()`, we can do the following:"
      ]
    },
    {
      "cell_type": "code",
      "execution_count": null,
      "metadata": {
        "id": "zVKBHpEqReYw"
      },
      "outputs": [],
      "source": [
        "import numpy as np\n",
        "def create_feature_presence(token_dict,vocab2index):\n",
        "    \"\"\"\n",
        "    Parameters\n",
        "    ----------\n",
        "    token_dict: a token counter dictionary for a document\n",
        "    vocab2index: a mapping dictionary with feature as key and feature index as value\n",
        "\n",
        "    Return\n",
        "    ------\n",
        "    a feature vector for the document\n",
        "    \"\"\"\n",
        "    # create a numpy array with size of the vocabulary size\n",
        "    vector=np.zeros(len(vocab2index))\n",
        "    for w in token_dict:\n",
        "        if w in vocab2index:\n",
        "          index=vocab2index[w]\n",
        "          vector[index]=1\n",
        "    return vector\n"
      ]
    },
    {
      "cell_type": "markdown",
      "metadata": {
        "id": "z1gqUZ4XReZa"
      },
      "source": [
        "**<h3>💻 Try it yourself!</h3>**\n"
      ]
    },
    {
      "cell_type": "markdown",
      "metadata": {
        "id": "UWuzZ5KpReZb"
      },
      "source": [
        "Can you try implementing the function`create_feature_frequency()` to extract unigram frequency? (You can modify on the basis of `create_feature_presence()`)\n",
        "You can write your code below:"
      ]
    },
    {
      "cell_type": "markdown",
      "metadata": {
        "id": "U3W3TtcJReZh"
      },
      "source": [
        "\n",
        "<hr>    <!-- please remember this! -->\n",
        "<details>\n",
        "  <summary>Click <b>here</b> to see the answer.</summary>\n",
        "    \n",
        "<p><pre><code>\n",
        "   def create_feature_frequency(token_dict,vocab2index):\n",
        "    \"\"\"\n",
        "    Parameters\n",
        "    ----------\n",
        "    token_dict: a token counter dictionary for a document\n",
        "    vocab2index: a mapping dictionary with feature as key and feature index as value\n",
        "    Return\n",
        "    ------\n",
        "    a feature vector for the document\n",
        "    \"\"\"\n",
        "    # create a numpy array with size of the vocabulary size\n",
        "    vector=np.zeros(len(vocab2index))\n",
        "    for w in token_dict:\n",
        "      if w in vocab2index:\n",
        "        index=vocab2index[w]\n",
        "        vector[index]=token_dict[w]\n",
        "    return vector\n",
        "</p></pre></code>\n",
        "\n",
        "<!--   <p>\\begin{equation*}P(Fire|Smoke) =  \\frac{P(Fire)*P(Smoke|Fire)}{P(Smoke)} \\end{equation*} </p>\n",
        "<p>\\begin{equation*}=\\frac{0.01 * 0.9}{ 0.1} \\end{equation*}</p>\n",
        "<p>\\begin{equation*}=0.09\\end{equation*}</p> -->\n",
        "\n",
        "</details> \n",
        "\n"
      ]
    },
    {
      "cell_type": "markdown",
      "metadata": {
        "id": "mDhe6PPjReZi"
      },
      "source": [
        "Now let's join the dots to create the function `create_feature_presence_all()` to loop over the unigrams from all the documents in `unigrams_all` and convert the token dictionary in each document to feature vectors. "
      ]
    },
    {
      "cell_type": "code",
      "execution_count": null,
      "metadata": {
        "id": "cSB84BTTReZj"
      },
      "outputs": [],
      "source": [
        "def create_feature_presence_all(tokens_all,vocab2index):\n",
        "    \"\"\"\n",
        "    Parameters\n",
        "    ----------\n",
        "    tokens_all: a list of token dictionaries where each token dictionary is extracted from a document\n",
        "    vocab2index: a mapping dictionary with feature as key and feature index as value\n",
        "\n",
        "    Return\n",
        "    ------\n",
        "    a presence feature vector for the document\n",
        "    \"\"\"\n",
        "   \n",
        "    # since we know the number of documents, and the vocabulary size, we can initialize our result matrix as an empty matrix (2-D array) with the shape of (number of document, vocabulary size)\n",
        "    \n",
        "    presence_features=np.empty((len(tokens_all),len(vocab2index))) #initialize the result array as an empty array ready to be appended through the loop. \n",
        "    for doc_i,token_dict in enumerate(tokens_all):\n",
        "        # convert bag of word dictionary in each document into unigram features\n",
        "        presence_feature=create_feature_presence(token_dict,vocab2index)\n",
        "        # We assign the unigram fearture of the current document to the correct positon in the unigram_presence_result matrix. \n",
        "        presence_features[doc_i]=presence_feature\n",
        "    return presence_features"
      ]
    },
    {
      "cell_type": "markdown",
      "metadata": {
        "id": "7z4WeZ1bReZm"
      },
      "source": [
        "Now we are ready to extract features from unigrams collected from all the data:"
      ]
    },
    {
      "cell_type": "code",
      "execution_count": null,
      "metadata": {
        "id": "xC6L5sQMReZm",
        "scrolled": true
      },
      "outputs": [],
      "source": [
        "features_unigram_presence=create_feature_presence_all(unigrams_all,unigram2index)\n"
      ]
    },
    {
      "cell_type": "markdown",
      "metadata": {
        "id": "PUwcH3xkReZv"
      },
      "source": [
        "**<h3>💻 Try it yourself!</h3>**"
      ]
    },
    {
      "cell_type": "markdown",
      "metadata": {
        "id": "t_hJeToEReZw"
      },
      "source": [
        "Can you follow the code above to extract all the documents' unigram frequency features (using the `create_feature_frequency()` functions you defined in quiz 3)? You can name your function as `create_feature_frequency_all()`. Please store the features into the variable named as `features_unigram_frequency`. \n",
        "\n",
        "You can write your code below:"
      ]
    },
    {
      "cell_type": "markdown",
      "metadata": {
        "id": "nS_N3Uqb2zNK"
      },
      "source": [
        "<hr>    <!-- please remember this! -->\n",
        "<details>\n",
        "  <summary>Click <b>here</b> to see the answer.</summary>\n",
        "    \n",
        "<p><pre><code>\n",
        "   def create_feature_frequency_all(tokens_all,vocab2index):\n",
        "        \"\"\"\n",
        "        Parameters\n",
        "        ----------\n",
        "        tokens_all: a list of token dictionaries where each token dictionary is extracted from a document\n",
        "        vocab2index: a mapping dictionary with feature as key and feature index as value\n",
        "        Return\n",
        "        ------\n",
        "        a frequency feature vector for the document\n",
        "        \"\"\"\n",
        "        frequency_features=np.empty((len(tokens_all),len(vocab2index))) \n",
        "        for doc_i,token_dict in enumerate(tokens_all):\n",
        "            frequency_feature=create_feature_frequency(token_dict,vocab2index)\n",
        "            frequency_features[doc_i]=frequency_feature\n",
        "        return frequency_features\n",
        "  features_unigram_frequency=create_feature_frequency_all(unigrams_all,unigram2index)\n",
        "</p></pre></code>\n",
        "\n",
        "<!--   <p>\\begin{equation*}P(Fire|Smoke) =  \\frac{P(Fire)*P(Smoke|Fire)}{P(Smoke)} \\end{equation*} </p>\n",
        "<p>\\begin{equation*}=\\frac{0.01 * 0.9}{ 0.1} \\end{equation*}</p>\n",
        "<p>\\begin{equation*}=0.09\\end{equation*}</p> -->\n",
        "\n",
        "</details> \n"
      ]
    },
    {
      "cell_type": "markdown",
      "metadata": {
        "id": "Kvb5s1w-ReZ2"
      },
      "source": [
        "### ❓ Quiz  \n",
        "\n",
        "Let's check the first review's unigram presence features, can you use the mapping in `index2unigram` to reveal what unigrams are present in this review? \n",
        "Please answer: Which words in the following list are present?\n",
        "A. absinthe\n",
        "B. fabulous\n",
        "C. dreamy\n",
        "D. happiness\n",
        "\n",
        "You can write your code below:"
      ]
    },
    {
      "cell_type": "code",
      "execution_count": null,
      "metadata": {
        "id": "77SmDnfF_klq"
      },
      "outputs": [],
      "source": []
    },
    {
      "cell_type": "markdown",
      "metadata": {
        "id": "nU52Lmt7ReZ6"
      },
      "source": [
        "\n",
        "<hr>    <!-- please remember this! -->\n",
        "<details>\n",
        "  <summary>Click <b>here</b> to see the answer.</summary>\n",
        "    <p> Code:</p>\n",
        "    <p><pre><code>features_unigram_presence_posi=create_feature_presence_all(unigrams_posi,unigram2index)\n",
        "wordlist=[index2unigram[i] for i,item in enumerate(features_unigram_presence_posi[0]) if item==1]</p></pre></code>\n",
        "    <p> A,C are present in the review </p>\n",
        "\n",
        "   \n",
        "\n",
        "<!--   <p>\\begin{equation*}P(Fire|Smoke) =  \\frac{P(Fire)*P(Smoke|Fire)}{P(Smoke)} \\end{equation*} </p>\n",
        "<p>\\begin{equation*}=\\frac{0.01 * 0.9}{ 0.1} \\end{equation*}</p>\n",
        "<p>\\begin{equation*}=0.09\\end{equation*}</p> -->\n",
        "\n",
        "</details> \n",
        "\n"
      ]
    },
    {
      "cell_type": "markdown",
      "metadata": {
        "id": "tIOfxwtuSFtr"
      },
      "source": [
        "## Encode the labels"
      ]
    },
    {
      "cell_type": "markdown",
      "metadata": {
        "id": "AEDH7-WERea3"
      },
      "source": [
        "At the same time, we should also find a way to represent the labels (positive or negative) in numeric ways for the model to train on. Let's create numpy arrays of labels of 1s and 0s. Let's say 1 corresponds to positive reviews and 0 corresponds to negative reviews."
      ]
    },
    {
      "cell_type": "markdown",
      "metadata": {
        "id": "-mhBsENESFtr"
      },
      "source": [
        "Remember we concatenate positive and negative data when producing `unigrams_all` and `features_unigram_presence`, we will follow the same data order to create the numpy array of labels that tell us the sentiment for each feature vector in `features_unigram_presence`. "
      ]
    },
    {
      "cell_type": "code",
      "execution_count": null,
      "metadata": {
        "id": "K12juH1zRea4"
      },
      "outputs": [],
      "source": [
        " \n",
        "labels=len(unigrams_posi)*[1]+len(unigrams_neg)*[0]\n",
        "labels=np.array(labels)"
      ]
    },
    {
      "cell_type": "markdown",
      "metadata": {
        "id": "GGNbpwvAReZ7"
      },
      "source": [
        "## Save the features and labels"
      ]
    },
    {
      "cell_type": "markdown",
      "metadata": {
        "id": "ntPhUTCrReZ7"
      },
      "source": [
        "We can also save the prepared features and labels. \n",
        "\n",
        "This is a good practice as it decouples the data preparation from modeling, allowing you to focus on modeling and circle back to data preparation if you have new ideas.\n",
        "\n",
        "To store a numpy array, we can use the `numpy`'s `save()` function. `save()` takes two arguments: the first is the file to be written, and the second argument is the numpy array. "
      ]
    },
    {
      "cell_type": "code",
      "execution_count": null,
      "metadata": {
        "id": "tE3m4vnpReZ9"
      },
      "outputs": [],
      "source": [
        "\n",
        "np.save('features_unigram_presence.npy',features_unigram_presence)\n",
        "np.save('labels_unigram_presence.npy',labels)"
      ]
    },
    {
      "cell_type": "markdown",
      "metadata": {
        "id": "gL_Qwr_1ReaC"
      },
      "source": [
        "We can load the postiive data from the files by:\n",
        "    "
      ]
    },
    {
      "cell_type": "code",
      "execution_count": null,
      "metadata": {
        "id": "VBEc1d1DReaC",
        "colab": {
          "base_uri": "https://localhost:8080/"
        },
        "outputId": "8534b717-c2cf-4b14-b1df-d9558045ad50"
      },
      "outputs": [
        {
          "output_type": "execute_result",
          "data": {
            "text/plain": [
              "array([[0., 0., 0., ..., 0., 0., 0.],\n",
              "       [0., 0., 0., ..., 0., 0., 0.],\n",
              "       [0., 0., 0., ..., 0., 0., 0.],\n",
              "       ...,\n",
              "       [0., 0., 0., ..., 0., 0., 0.],\n",
              "       [0., 0., 0., ..., 0., 0., 0.],\n",
              "       [0., 0., 0., ..., 0., 0., 0.]])"
            ]
          },
          "metadata": {},
          "execution_count": 33
        }
      ],
      "source": [
        "np.load('features_unigram_presence.npy')\n"
      ]
    },
    {
      "cell_type": "markdown",
      "metadata": {
        "id": "EgQWG19jReak"
      },
      "source": [
        "# Evaluation"
      ]
    },
    {
      "cell_type": "markdown",
      "metadata": {
        "id": "OD_SGP7aReak"
      },
      "source": [
        "## Prepare train/test split"
      ]
    },
    {
      "cell_type": "markdown",
      "metadata": {
        "id": "UuHpK9tfReak"
      },
      "source": [
        "Now it's time to prepare this dataset for model evlauation. We want to train a model that is generalisable to unseen data. Therefore, we can split the dataset into train and test where the model is trained on the train set and tested on the unseen test set. Usually the train-test split is 70% and 30%. \n",
        "\n",
        "We will follow the paper to adopt a 3-fold cross validation. We will use `scikit-learn`'s `KFold` to do that. In addition, to ensure that we have an equal number of positive and negative examples, we make the split in both positive and negative datasets respectively. \n",
        "\n"
      ]
    },
    {
      "cell_type": "markdown",
      "metadata": {
        "id": "gpmPH4YkReal"
      },
      "source": [
        "Let's first load the unigram presence features and their labels. "
      ]
    },
    {
      "cell_type": "code",
      "execution_count": null,
      "metadata": {
        "id": "53Ki9zrpSFts"
      },
      "outputs": [],
      "source": [
        "data=np.load('features_unigram_presence.npy')\n",
        "labels=np.load('labels_unigram_presence.npy')\n"
      ]
    },
    {
      "cell_type": "markdown",
      "metadata": {
        "id": "LyHUagn2SFts"
      },
      "source": [
        "produce the indices for the positive and the negative data"
      ]
    },
    {
      "cell_type": "code",
      "execution_count": null,
      "metadata": {
        "id": "X5VANDk0SFts"
      },
      "outputs": [],
      "source": [
        "posi_id=[i for i,label in enumerate(labels) if label==1]\n",
        "neg_id=[i for i,label in enumerate(labels) if label==0]\n"
      ]
    },
    {
      "cell_type": "markdown",
      "metadata": {
        "id": "Fq43x_gVSFts"
      },
      "source": [
        "Initialize `KFold` from `scikit-learn` and generate cross validation datasets. We provide the following diagram that details the procedure. \n",
        "\n",
        "\n",
        "![thumbnail_K_Folds_Training.jpg.png](data:image/png;base64,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)"
      ]
    },
    {
      "cell_type": "code",
      "execution_count": null,
      "metadata": {
        "id": "7FSzqD_4SFts",
        "colab": {
          "base_uri": "https://localhost:8080/"
        },
        "outputId": "56f77ce2-aea3-468e-f123-bfc3ad3cc90f"
      },
      "outputs": [
        {
          "output_type": "stream",
          "name": "stdout",
          "text": [
            "Running fold 1...\n",
            "Running fold 2...\n",
            "Running fold 3...\n"
          ]
        }
      ],
      "source": [
        "# import KFold and random\n",
        "from sklearn.model_selection import KFold\n",
        "import random\n",
        "\n",
        "\n",
        "# set the number of folds\n",
        "num_folds=3\n",
        "\n",
        "# set random seed for cross validation\n",
        "CROSS_VAL_SEED = 42\n",
        "\n",
        "# create the KFold object and create the splits for positive data\n",
        "kf_posi = KFold(n_splits=num_folds)\n",
        "kf_posi.get_n_splits(posi_id)\n",
        "kf_posi = KFold(n_splits=num_folds, random_state=CROSS_VAL_SEED, shuffle=True)\n",
        "posi_folds=list(kf_posi.split(posi_id))\n",
        "\n",
        "# create the KFold object and create the splits for negative data\n",
        "kf_neg = KFold(n_splits=num_folds)\n",
        "kf_neg.get_n_splits(posi_id)\n",
        "kf_neg = KFold(n_splits=num_folds, random_state=CROSS_VAL_SEED, shuffle=True)\n",
        "neg_folds=list(kf_neg.split(neg_id))\n",
        "\n",
        "# loop over the folds to create train and test data/label. \n",
        "\n",
        "for fold_idx, (train_index_posi, test_index_posi) in enumerate(posi_folds):\n",
        "\n",
        "    print(f'Running fold {fold_idx+1}...')\n",
        "    \n",
        "    # Get the current fold for positive data\n",
        "    fold_train_posi = np.array(posi_id)[train_index_posi]\n",
        "    fold_test_posi = np.array(posi_id)[test_index_posi]\n",
        "    \n",
        "    # Get the current fold for negative data\n",
        "    train_index_neg,test_index_neg=neg_folds[fold_idx]\n",
        "    fold_train_neg=np.array(neg_id)[train_index_neg]\n",
        "    fold_test_neg=np.array(neg_id)[test_index_neg]\n",
        "    \n",
        "    # ensure that we have balanced classes in both train and test\n",
        "    assert len(fold_train_posi)==len(fold_train_neg)\n",
        "    assert len(fold_test_posi)==len(fold_test_neg)\n",
        "    # combine all train and test for the current fold\n",
        "    fold_train=np.concatenate([fold_train_posi,fold_train_neg])\n",
        "    fold_test=np.concatenate([fold_test_posi,fold_test_neg])\n",
        "    \n",
        "    # use the indexes in fold_train and fold_test to slice data and labels\n",
        "    fold_train_data=data[fold_train]\n",
        "    fold_test_data=data[fold_test]\n",
        "    fold_train_label=labels[fold_train]\n",
        "    fold_test_label=labels[fold_test]\n",
        "    "
      ]
    },
    {
      "cell_type": "markdown",
      "metadata": {
        "id": "49bNBGnESFts"
      },
      "source": [
        "Again, we can wrap the above into a function `create_kfold_validadtion()`."
      ]
    },
    {
      "cell_type": "code",
      "execution_count": null,
      "metadata": {
        "id": "yU1YyUi7SFts"
      },
      "outputs": [],
      "source": [
        "def create_kfold_validation(data,labels,num_folds):\n",
        "    \"\"\"\n",
        "    Parameters\n",
        "    ----------\n",
        "    data: a numpy array of features\n",
        "    labels: a numpy array of labels (1=positive, 0=negative)\n",
        "    num_folds: the number of folds in cross validation\n",
        "\n",
        "    Yields (works as a generator)\n",
        "    ------\n",
        "    fold_train_data: current fold of training data as numpy arrays\n",
        "    fold_test_data: current fold of test data as numpy arrays\n",
        "    fold_train_label: current fold of training labels as numpy arrays\n",
        "    fold_test_label: current fold of test labels as numpy arrays\n",
        "    \"\"\"\n",
        "    #produce the indices for the positive and the negative data\n",
        "    posi_id=[i for i,label in enumerate(labels) if label==1]\n",
        "    neg_id=[i for i,label in enumerate(labels) if label==0]\n",
        "\n",
        "    # set random seed for cross validation\n",
        "    cross_val_seed = 42\n",
        "\n",
        "    # create the KFold object and create the splits for positive data\n",
        "    kf_posi = KFold(n_splits=num_folds)\n",
        "    kf_posi.get_n_splits(posi_id)\n",
        "    kf_posi = KFold(n_splits=num_folds, random_state=CROSS_VAL_SEED, shuffle=True)\n",
        "    posi_folds=list(kf_posi.split(posi_id))\n",
        "\n",
        "    # create the KFold object and create the splits for negative data\n",
        "    kf_neg = KFold(n_splits=num_folds)\n",
        "    kf_neg.get_n_splits(posi_id)\n",
        "    kf_neg = KFold(n_splits=num_folds, random_state=CROSS_VAL_SEED, shuffle=True)\n",
        "    neg_folds=list(kf_neg.split(neg_id))\n",
        "\n",
        "    # loop over the folds to create train and test data/label. \n",
        "\n",
        "    for fold_idx, (train_index_posi, test_index_posi) in enumerate(posi_folds):\n",
        "\n",
        "        print(f'Running fold {fold_idx+1}...')\n",
        "\n",
        "        # Get the current fold for positive data\n",
        "        fold_train_posi = np.array(posi_id)[train_index_posi]\n",
        "        fold_test_posi = np.array(posi_id)[test_index_posi]\n",
        "\n",
        "        # Get the current fold for negative data\n",
        "        train_index_neg,test_index_neg=neg_folds[fold_idx]\n",
        "        fold_train_neg=np.array(neg_id)[train_index_neg]\n",
        "        fold_test_neg=np.array(neg_id)[test_index_neg]\n",
        "\n",
        "        # ensure that we have balanced classes in both train and test\n",
        "        assert len(fold_train_posi)==len(fold_train_neg)\n",
        "        assert len(fold_test_posi)==len(fold_test_neg)\n",
        "        # combine all train and test for the current fold\n",
        "        print ('combining positive and negative for train and test')\n",
        "        fold_train=np.concatenate([fold_train_posi,fold_train_neg])\n",
        "        fold_test=np.concatenate([fold_test_posi,fold_test_neg])\n",
        "        \n",
        "        \n",
        "        # use the indexes in fold_train and fold_test to slice data and labels\n",
        "        print ('slice training and test data')\n",
        "        fold_train_data=data[fold_train]\n",
        "        fold_test_data=data[fold_test]\n",
        "        fold_train_label=labels[fold_train]\n",
        "        fold_test_label=labels[fold_test]\n",
        "        print ('yield')\n",
        "        \n",
        "        assert len(fold_train_data)==len(fold_train_label)\n",
        "        assert len(fold_test_data)==len(fold_test_label)\n",
        "        yield fold_train_data,fold_test_data,fold_train_label,fold_test_label\n",
        "\n",
        "    "
      ]
    },
    {
      "cell_type": "markdown",
      "metadata": {
        "id": "TgmXWpxVSFts"
      },
      "source": [
        "When we call `create_kfold_validation()`, we are initializing a generator. We can loop over the generator to produce `fold_train_data,fold_test_data,fold_train_label,fold_test_label`  for every fold"
      ]
    },
    {
      "cell_type": "code",
      "execution_count": null,
      "metadata": {
        "id": "Km38EdLmSFts",
        "colab": {
          "base_uri": "https://localhost:8080/"
        },
        "outputId": "10779fb1-b446-4404-88e3-4f8be3ea46d8"
      },
      "outputs": [
        {
          "output_type": "stream",
          "name": "stdout",
          "text": [
            "Running fold 1...\n",
            "combining positive and negative for train and test\n",
            "slice training and test data\n",
            "yield\n",
            "length of train data 1332\n",
            "length of test data 668\n",
            "Running fold 2...\n",
            "combining positive and negative for train and test\n",
            "slice training and test data\n",
            "yield\n",
            "length of train data 1334\n",
            "length of test data 666\n",
            "Running fold 3...\n",
            "combining positive and negative for train and test\n",
            "slice training and test data\n",
            "yield\n",
            "length of train data 1334\n",
            "length of test data 666\n"
          ]
        }
      ],
      "source": [
        "for fold_train_data,fold_test_data,fold_train_label,fold_test_label in create_kfold_validation(np.array(data),labels,num_folds=3):\n",
        "    print ('length of train data',len(fold_train_data))\n",
        "    print ('length of test data',len(fold_test_data))\n",
        "\n",
        "    "
      ]
    },
    {
      "cell_type": "markdown",
      "metadata": {
        "id": "p2ScVYh9RebR"
      },
      "source": [
        "## Naive Bayes Model and evaluation"
      ]
    },
    {
      "cell_type": "markdown",
      "metadata": {
        "id": "YnKOr56PRebS"
      },
      "source": [
        "Let's try fitting the features and labels from each validation fold into a naive bayes model using the `MultinomialNB` package in `sklearn`. `MultinomialNB` is a Naive Bayes classifier for multinomial models (i.e. for multiclass problems). It implements additive smoothing by default. For more details, please see [scikit-learn's multinomialNB](https://scikit-learn.org/stable/modules/generated/sklearn.naive_bayes.MultinomialNB.html#sklearn.naive_bayes.MultinomialNB)"
      ]
    },
    {
      "cell_type": "code",
      "execution_count": null,
      "metadata": {
        "id": "04CNQg8eRebT",
        "colab": {
          "base_uri": "https://localhost:8080/"
        },
        "outputId": "70e53f26-9555-4b28-e9d3-8f6aa25c4b56"
      },
      "outputs": [
        {
          "output_type": "stream",
          "name": "stdout",
          "text": [
            "Requirement already satisfied: sklearn in /usr/local/lib/python3.7/dist-packages (0.0)\n",
            "Requirement already satisfied: scikit-learn in /usr/local/lib/python3.7/dist-packages (from sklearn) (1.0.2)\n",
            "Requirement already satisfied: scipy>=1.1.0 in /usr/local/lib/python3.7/dist-packages (from scikit-learn->sklearn) (1.4.1)\n",
            "Requirement already satisfied: numpy>=1.14.6 in /usr/local/lib/python3.7/dist-packages (from scikit-learn->sklearn) (1.21.5)\n",
            "Requirement already satisfied: threadpoolctl>=2.0.0 in /usr/local/lib/python3.7/dist-packages (from scikit-learn->sklearn) (3.1.0)\n",
            "Requirement already satisfied: joblib>=0.11 in /usr/local/lib/python3.7/dist-packages (from scikit-learn->sklearn) (1.1.0)\n",
            "Running fold 1...\n",
            "combining positive and negative for train and test\n",
            "slice training and test data\n",
            "yield\n",
            "Running fold 2...\n",
            "combining positive and negative for train and test\n",
            "slice training and test data\n",
            "yield\n",
            "Running fold 3...\n",
            "combining positive and negative for train and test\n",
            "slice training and test data\n",
            "yield\n"
          ]
        }
      ],
      "source": [
        "!pip install sklearn\n",
        "from sklearn.naive_bayes import MultinomialNB\n",
        "\n",
        "for fold_train_data,fold_test_data,fold_train_label,fold_test_label in create_kfold_validation(data,labels,num_folds=3):\n",
        "    # initialize a multinomial naive bayes model\n",
        "    model = MultinomialNB()\n",
        "    # fit the model with features and labels for the training data\n",
        "    model.fit(fold_train_data,fold_train_label)\n",
        "    #evaluate the fitted model on the test set\n",
        "    predicted=model.predict(fold_test_data)"
      ]
    },
    {
      "cell_type": "markdown",
      "metadata": {
        "id": "1DHgKdlJRebW"
      },
      "source": [
        "In each fold, `predicted` is an array of predictions in 1s and 0s. Let's compare it with the gold labels and calculate accuracy following:\n",
        "\n",
        "<code>accruracy= number of correct examples/number of total examples</code>"
      ]
    },
    {
      "cell_type": "markdown",
      "metadata": {
        "id": "2W8h1ByjReaY"
      },
      "source": [
        "**<h3>💻 Try it yourself!</h3>**"
      ]
    },
    {
      "cell_type": "markdown",
      "metadata": {
        "id": "r8ADZKR1ReaZ"
      },
      "source": [
        "Please complete the function `get_accuracy()` below\n"
      ]
    },
    {
      "cell_type": "code",
      "execution_count": null,
      "metadata": {
        "id": "JHhMYkawReaa"
      },
      "outputs": [],
      "source": [
        "def get_accuracy(predicted,gold):\n",
        "    \"\"\"\n",
        "    Parameters\n",
        "    ----------\n",
        "    predicted: a list or numpy array of predicted labels in the form of 1=positive, 0=negative\n",
        "    gold: a list or numpy array of gold labels in the form of 1=positive, 0=negative\n",
        "\n",
        "    Return\n",
        "    ------\n",
        "    accuracy score\n",
        "    \"\"\"\n",
        "\n",
        "    "
      ]
    },
    {
      "cell_type": "markdown",
      "metadata": {
        "id": "5VgTk8uTReac"
      },
      "source": [
        "\n",
        "<hr>    <!-- please remember this! -->\n",
        "<details>\n",
        "  <summary>Click <b>here</b> to see the answer.</summary>\n",
        "  <p><pre><code>\n",
        "    def get_accuracy(predicted,gold):\n",
        "        \"\"\"\n",
        "        Parameters\n",
        "        ----------\n",
        "        predicted: a list or numpy array of predicted labels in the form of 1=positive, 0=negative\n",
        "        gold: a list or numpy array of gold labels in the form of 1=positive, 0=negative<br>\n",
        "        Return\n",
        "        ------\n",
        "        accuracy score\n",
        "        \"\"\"\n",
        "        correct=0\n",
        "        for i in range(len(predicted)):\n",
        "            if predicted[i]==gold[i]: #if the predicted result is the same with the gold label\n",
        "                correct+=1\n",
        "        acc=correct/len(predicted)\n",
        "        return acc\n",
        "</p></pre></code>\n",
        "  \n",
        "\n",
        "   \n",
        "\n",
        "<!--   <p>\\begin{equation*}P(Fire|Smoke) =  \\frac{P(Fire)*P(Smoke|Fire)}{P(Smoke)} \\end{equation*} </p>\n",
        "<p>\\begin{equation*}=\\frac{0.01 * 0.9}{ 0.1} \\end{equation*}</p>\n",
        "<p>\\begin{equation*}=0.09\\end{equation*}</p> -->\n",
        "\n",
        "</details> \n",
        "\n"
      ]
    },
    {
      "cell_type": "markdown",
      "metadata": {
        "id": "LfCvRGRhRebW"
      },
      "source": [
        "Let's create a function that calls the naive bayes model and performs evaluation "
      ]
    },
    {
      "cell_type": "code",
      "execution_count": null,
      "metadata": {
        "id": "L4SstOdiRebc"
      },
      "outputs": [],
      "source": [
        "def train_evaluate(train_data,train_label,test_data,test_label):\n",
        "    \"\"\"\n",
        "    Parameters\n",
        "    ----------\n",
        "    train_data: numpy array of train data (number of examples * number of features)\n",
        "    train_label: numpy array of train labels in the form of [1,0,1...] where 1 = positive, 0 = negative\n",
        "    test_data: numpy array of test data (number of examples * number of features)\n",
        "    test_label: numpy array of test labels in the form of [1,0,1...] where 1 = positive, 0 = negative\n",
        "\n",
        "    Return\n",
        "    ------\n",
        "    accuracy score on the test data\n",
        "    \"\"\"\n",
        "    # initialize a multinomial naive bayes model\n",
        "    model = MultinomialNB()\n",
        "    # fit the model with features and labels for the training data\n",
        "    model.fit(train_data,train_label)\n",
        "    #evaluate the fitted model on the test set\n",
        "    predicted=model.predict(test_data)\n",
        "    #evaluation:\n",
        "    acc=get_accuracy(predicted,test_label)\n",
        "\n",
        "\n",
        "    print ('accuracy',acc)\n",
        "    return acc"
      ]
    },
    {
      "cell_type": "markdown",
      "metadata": {
        "id": "3CFSUKl5Rebf"
      },
      "source": [
        "Now integrating `train_evaluate()` into cross validation, we will get accuracy per each fold. We then take the average and standard deviation of the accuracy scores across folds. "
      ]
    },
    {
      "cell_type": "code",
      "execution_count": null,
      "metadata": {
        "id": "sxNffzRuRebg",
        "colab": {
          "base_uri": "https://localhost:8080/"
        },
        "outputId": "d61d79e7-ca14-47eb-910d-d76380aad1eb"
      },
      "outputs": [
        {
          "output_type": "stream",
          "name": "stdout",
          "text": [
            "Running fold 1...\n",
            "combining positive and negative for train and test\n",
            "slice training and test data\n",
            "yield\n",
            "accuracy 0.8353293413173652\n",
            "Running fold 2...\n",
            "combining positive and negative for train and test\n",
            "slice training and test data\n",
            "yield\n",
            "accuracy 0.8318318318318318\n",
            "Running fold 3...\n",
            "combining positive and negative for train and test\n",
            "slice training and test data\n",
            "yield\n",
            "accuracy 0.8288288288288288\n",
            "Mean accuracy      : 0.83200\n",
            "Standard deviation : 0.00266\n"
          ]
        }
      ],
      "source": [
        "acc_list=[]\n",
        "for fold_train_data,fold_test_data,fold_train_label,fold_test_label in create_kfold_validation(data,labels,num_folds=3):\n",
        "    acc=train_evaluate(fold_train_data,fold_train_label,fold_test_data,fold_test_label)\n",
        "    acc_list.append(acc)\n",
        "    \n",
        "# mean and standard deviation\n",
        "print(f'Mean accuracy      : { np.mean(acc_list):.5f}')\n",
        "print(f'Standard deviation : { np.std(acc_list):.5f}')"
      ]
    },
    {
      "cell_type": "markdown",
      "metadata": {
        "id": "DEadQarHSFts"
      },
      "source": [
        "If everything is correct, you should get:\n",
        "\n",
        "    Mean accuracy      : 0.83200\n",
        "    Standard deviation : 0.00266"
      ]
    },
    {
      "cell_type": "markdown",
      "metadata": {
        "id": "nyiIrS26SFts"
      },
      "source": [
        "# Recap: The whole pipeline to train on unigram presence features"
      ]
    },
    {
      "cell_type": "code",
      "execution_count": null,
      "metadata": {
        "id": "RDZjB70OSFts",
        "colab": {
          "base_uri": "https://localhost:8080/"
        },
        "outputId": "9a363179-0f3e-4b6b-aa09-39ef31bae43e"
      },
      "outputs": [
        {
          "output_type": "stream",
          "name": "stdout",
          "text": [
            "/gdrive/My Drive/Monash-FIT-S1-2022/Week_7/Data\n",
            "neg\n",
            "pos\n",
            "Running fold 1...\n",
            "combining positive and negative for train and test\n",
            "slice training and test data\n",
            "yield\n",
            "accuracy 0.8353293413173652\n",
            "Running fold 2...\n",
            "combining positive and negative for train and test\n",
            "slice training and test data\n",
            "yield\n",
            "accuracy 0.8318318318318318\n",
            "Running fold 3...\n",
            "combining positive and negative for train and test\n",
            "slice training and test data\n",
            "yield\n",
            "accuracy 0.8288288288288288\n",
            "Mean accuracy      : 0.83200\n",
            "Standard deviation : 0.00266\n"
          ]
        }
      ],
      "source": [
        "# 1. Extract unigrams from all documents\n",
        "from os import listdir \n",
        "# unigrams for all the negative files\n",
        "#replace the following path according to your Google Drive path\n",
        "%cd/gdrive/My Drive/Monash-FIT-S1-2022/Week_7/Data\n",
        "unigrams_neg=process_docs_unigrams('neg')\n",
        "# unigrams for all the positive files\n",
        "unigrams_posi=process_docs_unigrams('pos')\n",
        "# all unigrams\n",
        "unigrams_all=unigrams_posi+unigrams_neg\n",
        "\n",
        "# 2. Turn text to feature vectors\n",
        "# collect all unique unigram as all features\n",
        "unigram_vocab=collect_vocab(unigrams_all)\n",
        "# map unigram features to vector position indexes\n",
        "unigram2index,index2unigram=create_vocab_feature_mappings(unigram_vocab)\n",
        "# Convert unigrams to feature vectors for all documents\n",
        "features_unigram_presence=create_feature_presence_all(unigrams_all,unigram2index)\n",
        "\n",
        "# 3. Encode labels\n",
        "labels=len(unigrams_posi)*[1]+len(unigrams_neg)*[0]\n",
        "labels=np.array(labels)\n",
        "\n",
        "# 4. Evaluation with 3-fold cross validation\n",
        "from sklearn.model_selection import KFold\n",
        "import random\n",
        "data=features_unigram_presence\n",
        "acc_list=[]\n",
        "for fold_train_data,fold_test_data,fold_train_label,fold_test_label in create_kfold_validation(data,labels,num_folds=3):\n",
        "    acc=train_evaluate(fold_train_data,fold_train_label,fold_test_data,fold_test_label)\n",
        "    acc_list.append(acc)\n",
        "    \n",
        "# mean and standard deviation\n",
        "print(f'Mean accuracy      : { np.mean(acc_list):.5f}')\n",
        "print(f'Standard deviation : { np.std(acc_list):.5f}')\n"
      ]
    },
    {
      "cell_type": "markdown",
      "metadata": {
        "id": "kbwE6ybqSFtt"
      },
      "source": [
        "# Other features"
      ]
    },
    {
      "cell_type": "markdown",
      "metadata": {
        "id": "Nhzv2aDmReaG"
      },
      "source": [
        "## Bigrams"
      ]
    },
    {
      "cell_type": "markdown",
      "metadata": {
        "id": "4fOlUBWYReaH"
      },
      "source": [
        "Based on `clean_doc_unigrams()` that turns a document into a unigram dictionary, we can create a function `clean_doc_bigrams()` to extract bigram dictionary. (You can refresh yourself of how to create a bigram counter dictionary in module 1.4. )"
      ]
    },
    {
      "cell_type": "code",
      "execution_count": null,
      "metadata": {
        "id": "hehFhHqgReaI"
      },
      "outputs": [],
      "source": [
        "# turn a doc into clean tokens\n",
        "def clean_doc_bigrams(doc):\n",
        "    \"\"\"\n",
        "    Parameters\n",
        "    ----------\n",
        "    doc: string of the document text\n",
        "\n",
        "    Return\n",
        "    ------\n",
        "    a counter dictionary with bigram as key and count as value\n",
        "    \"\"\"\n",
        "    # split into tokens by white space\n",
        "    tokens = doc.split()\n",
        "  \n",
        "    # extract bigrams\n",
        "    bigram_dict=Counter() #initialize a bigram dictionary to be updated\n",
        "    tokens=['<start>']+tokens+['<end>'] # add <start> and <end> token\n",
        "    for i in range(len(tokens)): #loop over all the indices of the token list\n",
        "        if i<len(tokens)-1: #if it's not the end of the token list\n",
        "            bigram_current=(tokens[i],tokens[i+1])\n",
        "            bigram_dict[bigram_current]+=1\n",
        "    return bigram_dict"
      ]
    },
    {
      "cell_type": "markdown",
      "metadata": {
        "id": "jzesiKPtReaK"
      },
      "source": [
        "Now we can replace the `clean_doc_unigrams()` line with `clean_doc_bigrams()` in `process_docs_unigrams()`, we will rename the function as `process_docs_bigrams()` that counts all the bigrams in the documents. "
      ]
    },
    {
      "cell_type": "code",
      "execution_count": null,
      "metadata": {
        "colab": {
          "base_uri": "https://localhost:8080/"
        },
        "id": "jpo6ay2bReaL",
        "outputId": "7efe5908-4eed-4ed3-88b3-d18f6f04232c"
      },
      "outputs": [
        {
          "output_type": "stream",
          "name": "stdout",
          "text": [
            "/gdrive/My Drive/Monash-FIT-S1-2022/Week_7/Data\n",
            "neg\n",
            "pos\n"
          ]
        }
      ],
      "source": [
        "def process_docs_bigrams(directory):\n",
        "    \"\"\"\n",
        "    Parameters\n",
        "    ----------\n",
        "    directory: a directory containing positive/negative samples from the Thumbs\n",
        "    Up! dataset.\n",
        "    overall_bigrams_counter: \n",
        "\n",
        "    Return\n",
        "    ------\n",
        "    a list of bigram counters each representing a document\n",
        "    \"\"\"\n",
        "    # walk through all files in the folder\n",
        "    tokens_all=[]\n",
        "    print (directory)\n",
        "    files=sorted(listdir(directory))\n",
        "    for filename in files:\n",
        "        # skip files that do not have the right extension\n",
        "        if not filename.endswith(\".txt\"):\n",
        "            continue\n",
        "        # create the full path of the file to open\n",
        "        path = directory + '/' + filename\n",
        "        # load document\n",
        "        text=load_doc(path)\n",
        "        # clean documents\n",
        "        tokens_dict_current = clean_doc_bigrams(text)\n",
        "        tokens_all.append(tokens_dict_current)\n",
        "    return tokens_all\n",
        "#replace the following path according to your Google Drive path\n",
        "%cd/gdrive/My Drive/Monash-FIT-S1-2022/Week_7/Data\n",
        "bigrams_neg=process_docs_bigrams('neg')\n",
        "bigrams_posi=process_docs_bigrams('pos')\n",
        "bigrams_all=bigrams_posi+bigrams_neg"
      ]
    },
    {
      "cell_type": "markdown",
      "metadata": {
        "id": "N7rTklk5V2e4"
      },
      "source": [
        "As te same with unigram features, we then extract bigram feature vocabulary by calling `collect_vocab()`\n",
        "\n",
        "\n"
      ]
    },
    {
      "cell_type": "code",
      "execution_count": null,
      "metadata": {
        "id": "E-iZEOyWWEFP"
      },
      "outputs": [],
      "source": [
        "bigram_vocab=collect_vocab(bigrams_all)\n"
      ]
    },
    {
      "cell_type": "markdown",
      "metadata": {
        "id": "21tnTSP2WHk4"
      },
      "source": [
        "Try printing the length of `bigram_vocab`, how large is it?\n",
        "\n",
        "\n",
        "\n"
      ]
    },
    {
      "cell_type": "code",
      "execution_count": null,
      "metadata": {
        "colab": {
          "base_uri": "https://localhost:8080/"
        },
        "id": "jAg7S6RyWUog",
        "outputId": "69a4ad02-62fe-4dd5-bd0a-b7fbf5d5c154"
      },
      "outputs": [
        {
          "output_type": "stream",
          "name": "stdout",
          "text": [
            "468412\n"
          ]
        }
      ],
      "source": [
        "print (len(bigram_vocab))"
      ]
    },
    {
      "cell_type": "markdown",
      "metadata": {
        "id": "Y1KBMkOFReaN"
      },
      "source": [
        "Think about what will happen if we turn documents into feature vectors with such large feature size. We will have a very long vector for each document, and the final matrix will be extremely large. To trim the vocabulary a little bit, we impose min_count argument to be 2, thus discarding bigrams that occur fewer than 2 times. "
      ]
    },
    {
      "cell_type": "code",
      "execution_count": null,
      "metadata": {
        "colab": {
          "base_uri": "https://localhost:8080/"
        },
        "id": "S_wqVaJPSFtt",
        "outputId": "2313b965-31f0-43b1-a48b-c0593b1e757f"
      },
      "outputs": [
        {
          "output_type": "stream",
          "name": "stdout",
          "text": [
            "bigram feature size 75636\n"
          ]
        }
      ],
      "source": [
        "bigram_vocab=collect_vocab(bigrams_all,min_count=2)#As the number of total bigrams is too large, we discard bigrams that occur few than 2 times\n",
        "print ('bigram feature size', len(bigram_vocab))\n",
        "bigram2index,index2bigram=create_vocab_feature_mappings(bigram_vocab)\n",
        "features_bigram_presence=create_feature_presence_all(bigrams_all,bigram2index)\n"
      ]
    },
    {
      "cell_type": "markdown",
      "metadata": {
        "id": "rCk487cQSFtt"
      },
      "source": [
        "The labels are the same for `features_unigram_presence`. We can then directly train Naive Bayes model with these bigram presence features. You can compare the bigram results with unigram results. Which is better?"
      ]
    },
    {
      "cell_type": "code",
      "execution_count": null,
      "metadata": {
        "id": "C9vapFuJSFtt",
        "scrolled": true,
        "colab": {
          "base_uri": "https://localhost:8080/"
        },
        "outputId": "f5356dc8-5b43-41df-9776-542c6d4a924d"
      },
      "outputs": [
        {
          "output_type": "stream",
          "name": "stdout",
          "text": [
            "Running fold 1...\n",
            "combining positive and negative for train and test\n",
            "slice training and test data\n",
            "yield\n",
            "accuracy 0.842814371257485\n",
            "Running fold 2...\n",
            "combining positive and negative for train and test\n",
            "slice training and test data\n",
            "yield\n",
            "accuracy 0.8363363363363363\n",
            "Running fold 3...\n",
            "combining positive and negative for train and test\n",
            "slice training and test data\n",
            "yield\n",
            "accuracy 0.8453453453453453\n",
            "Mean accuracy      : 0.84150\n",
            "Standard deviation : 0.00379\n"
          ]
        }
      ],
      "source": [
        "data=features_bigram_presence\n",
        "acc_list=[]\n",
        "for fold_train_data,fold_test_data,fold_train_label,fold_test_label in create_kfold_validation(data,labels,num_folds=3):\n",
        "    acc=train_evaluate(fold_train_data,fold_train_label,fold_test_data,fold_test_label)\n",
        "    acc_list.append(acc)\n",
        "    \n",
        "# mean and standard deviation\n",
        "print(f'Mean accuracy      : { np.mean(acc_list):.5f}')\n",
        "print(f'Standard deviation : { np.std(acc_list):.5f}')"
      ]
    },
    {
      "cell_type": "markdown",
      "metadata": {
        "id": "HJKnfmc72zNN"
      },
      "source": [
        "If everything goes right, you should see the following:\n",
        "\n",
        "Mean accuracy      : 0.84150<br>\n",
        "Standard deviation : 0.00379"
      ]
    },
    {
      "cell_type": "markdown",
      "metadata": {
        "id": "5oYrdS1fSFtt"
      },
      "source": [
        "# Additional resources\n",
        "\n",
        "- Naive Bayes chapter from [Manning, Raghavan and Schütze's Introduction to Information Retrieval](https://nlp.stanford.edu/IR-book/html/htmledition/naive-bayes-text-classification-1.html)\n",
        "-  `scikit-learn`'s [implementation of Naive Bayes](https://github.com/scikit-learn/scikit-learn/blob/0fb307bf3/sklearn/naive_bayes.py#L669)\n",
        "- Pang, Lee, Vaithyanathan, 2002, Thumbs up? Sentiment Classification using Machine Learning Techniques [pdf](https://www.aclweb.org/anthology/W02-1011.pdf)"
      ]
    }
  ],
  "metadata": {
    "colab": {
      "provenance": [],
      "toc_visible": true
    },
    "kernelspec": {
      "display_name": "Python 3",
      "language": "python",
      "name": "python3"
    },
    "language_info": {
      "codemirror_mode": {
        "name": "ipython",
        "version": 3
      },
      "file_extension": ".py",
      "mimetype": "text/x-python",
      "name": "python",
      "nbconvert_exporter": "python",
      "pygments_lexer": "ipython3",
      "version": "3.6.9"
    },
    "toc": {
      "base_numbering": 1,
      "nav_menu": {},
      "number_sections": true,
      "sideBar": true,
      "skip_h1_title": false,
      "title_cell": "Table of Contents",
      "title_sidebar": "Contents",
      "toc_cell": false,
      "toc_position": {},
      "toc_section_display": true,
      "toc_window_display": true
    }
  },
  "nbformat": 4,
  "nbformat_minor": 0
}