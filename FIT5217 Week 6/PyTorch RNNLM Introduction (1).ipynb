{
  "cells": [
    {
      "cell_type": "markdown",
      "id": "dba724c5-62c8-4c9e-8401-9154dc8b0d27",
      "metadata": {
        "id": "dba724c5-62c8-4c9e-8401-9154dc8b0d27"
      },
      "source": [
        "# Tutorial - Introduction to Pytorch and Word-level RNN Language Models\n",
        "This tutorial is adapted from [_Introduction to Pytorch_](https://pytorch.org/tutorials/beginner/introyt.html) tutorial from Pytorch documentations.\n",
        "\n",
        "In this tutorial, You will learn the basics of Pytorch and how to build and train neural network with Pytorch (Word-level RNN Language models example)."
      ]
    },
    {
      "cell_type": "markdown",
      "id": "00fe6e44-731a-46d3-9943-ca33c6d0f40e",
      "metadata": {
        "id": "00fe6e44-731a-46d3-9943-ca33c6d0f40e",
        "tags": []
      },
      "source": [
        "## Part 1: Introduction to Pytorch"
      ]
    },
    {
      "cell_type": "markdown",
      "id": "aeOJQT3885ze",
      "metadata": {
        "id": "aeOJQT3885ze"
      },
      "source": [
        "PyTorch is an open source machine learning framework based on the Torch library, used for applications such as computer vision and natural language processing, primarily developed by Facebook's AI Research lab."
      ]
    },
    {
      "cell_type": "code",
      "execution_count": 1,
      "id": "62fd2808-acf6-4900-9f86-dccae4e6026c",
      "metadata": {
        "colab": {
          "base_uri": "https://localhost:8080/"
        },
        "id": "62fd2808-acf6-4900-9f86-dccae4e6026c",
        "outputId": "7d44e9f3-d176-405f-df9a-e74519a396c9"
      },
      "outputs": [
        {
          "output_type": "stream",
          "name": "stdout",
          "text": [
            "Requirement already satisfied: torch in /usr/local/lib/python3.10/dist-packages (2.2.1+cu121)\n",
            "Requirement already satisfied: torchtext in /usr/local/lib/python3.10/dist-packages (0.17.1)\n",
            "Requirement already satisfied: numpy in /usr/local/lib/python3.10/dist-packages (1.25.2)\n",
            "Requirement already satisfied: filelock in /usr/local/lib/python3.10/dist-packages (from torch) (3.13.3)\n",
            "Requirement already satisfied: typing-extensions>=4.8.0 in /usr/local/lib/python3.10/dist-packages (from torch) (4.10.0)\n",
            "Requirement already satisfied: sympy in /usr/local/lib/python3.10/dist-packages (from torch) (1.12)\n",
            "Requirement already satisfied: networkx in /usr/local/lib/python3.10/dist-packages (from torch) (3.2.1)\n",
            "Requirement already satisfied: jinja2 in /usr/local/lib/python3.10/dist-packages (from torch) (3.1.3)\n",
            "Requirement already satisfied: fsspec in /usr/local/lib/python3.10/dist-packages (from torch) (2023.6.0)\n",
            "Collecting nvidia-cuda-nvrtc-cu12==12.1.105 (from torch)\n",
            "  Downloading nvidia_cuda_nvrtc_cu12-12.1.105-py3-none-manylinux1_x86_64.whl (23.7 MB)\n",
            "\u001b[2K     \u001b[90m━━━━━━━━━━━━━━━━━━━━━━━━━━━━━━━━━━━━━━━━\u001b[0m \u001b[32m23.7/23.7 MB\u001b[0m \u001b[31m32.9 MB/s\u001b[0m eta \u001b[36m0:00:00\u001b[0m\n",
            "\u001b[?25hCollecting nvidia-cuda-runtime-cu12==12.1.105 (from torch)\n",
            "  Downloading nvidia_cuda_runtime_cu12-12.1.105-py3-none-manylinux1_x86_64.whl (823 kB)\n",
            "\u001b[2K     \u001b[90m━━━━━━━━━━━━━━━━━━━━━━━━━━━━━━━━━━━━━━━━\u001b[0m \u001b[32m823.6/823.6 kB\u001b[0m \u001b[31m30.9 MB/s\u001b[0m eta \u001b[36m0:00:00\u001b[0m\n",
            "\u001b[?25hCollecting nvidia-cuda-cupti-cu12==12.1.105 (from torch)\n",
            "  Downloading nvidia_cuda_cupti_cu12-12.1.105-py3-none-manylinux1_x86_64.whl (14.1 MB)\n",
            "\u001b[2K     \u001b[90m━━━━━━━━━━━━━━━━━━━━━━━━━━━━━━━━━━━━━━━━\u001b[0m \u001b[32m14.1/14.1 MB\u001b[0m \u001b[31m57.0 MB/s\u001b[0m eta \u001b[36m0:00:00\u001b[0m\n",
            "\u001b[?25hCollecting nvidia-cudnn-cu12==8.9.2.26 (from torch)\n",
            "  Downloading nvidia_cudnn_cu12-8.9.2.26-py3-none-manylinux1_x86_64.whl (731.7 MB)\n",
            "\u001b[2K     \u001b[90m━━━━━━━━━━━━━━━━━━━━━━━━━━━━━━━━━━━━━━━━\u001b[0m \u001b[32m731.7/731.7 MB\u001b[0m \u001b[31m907.7 kB/s\u001b[0m eta \u001b[36m0:00:00\u001b[0m\n",
            "\u001b[?25hCollecting nvidia-cublas-cu12==12.1.3.1 (from torch)\n",
            "  Downloading nvidia_cublas_cu12-12.1.3.1-py3-none-manylinux1_x86_64.whl (410.6 MB)\n",
            "\u001b[2K     \u001b[90m━━━━━━━━━━━━━━━━━━━━━━━━━━━━━━━━━━━━━━━━\u001b[0m \u001b[32m410.6/410.6 MB\u001b[0m \u001b[31m2.4 MB/s\u001b[0m eta \u001b[36m0:00:00\u001b[0m\n",
            "\u001b[?25hCollecting nvidia-cufft-cu12==11.0.2.54 (from torch)\n",
            "  Downloading nvidia_cufft_cu12-11.0.2.54-py3-none-manylinux1_x86_64.whl (121.6 MB)\n",
            "\u001b[2K     \u001b[90m━━━━━━━━━━━━━━━━━━━━━━━━━━━━━━━━━━━━━━━━\u001b[0m \u001b[32m121.6/121.6 MB\u001b[0m \u001b[31m5.3 MB/s\u001b[0m eta \u001b[36m0:00:00\u001b[0m\n",
            "\u001b[?25hCollecting nvidia-curand-cu12==10.3.2.106 (from torch)\n",
            "  Downloading nvidia_curand_cu12-10.3.2.106-py3-none-manylinux1_x86_64.whl (56.5 MB)\n",
            "\u001b[2K     \u001b[90m━━━━━━━━━━━━━━━━━━━━━━━━━━━━━━━━━━━━━━━━\u001b[0m \u001b[32m56.5/56.5 MB\u001b[0m \u001b[31m12.2 MB/s\u001b[0m eta \u001b[36m0:00:00\u001b[0m\n",
            "\u001b[?25hCollecting nvidia-cusolver-cu12==11.4.5.107 (from torch)\n",
            "  Downloading nvidia_cusolver_cu12-11.4.5.107-py3-none-manylinux1_x86_64.whl (124.2 MB)\n",
            "\u001b[2K     \u001b[90m━━━━━━━━━━━━━━━━━━━━━━━━━━━━━━━━━━━━━━━━\u001b[0m \u001b[32m124.2/124.2 MB\u001b[0m \u001b[31m5.1 MB/s\u001b[0m eta \u001b[36m0:00:00\u001b[0m\n",
            "\u001b[?25hCollecting nvidia-cusparse-cu12==12.1.0.106 (from torch)\n",
            "  Downloading nvidia_cusparse_cu12-12.1.0.106-py3-none-manylinux1_x86_64.whl (196.0 MB)\n",
            "\u001b[2K     \u001b[90m━━━━━━━━━━━━━━━━━━━━━━━━━━━━━━━━━━━━━━━━\u001b[0m \u001b[32m196.0/196.0 MB\u001b[0m \u001b[31m2.7 MB/s\u001b[0m eta \u001b[36m0:00:00\u001b[0m\n",
            "\u001b[?25hCollecting nvidia-nccl-cu12==2.19.3 (from torch)\n",
            "  Downloading nvidia_nccl_cu12-2.19.3-py3-none-manylinux1_x86_64.whl (166.0 MB)\n",
            "\u001b[2K     \u001b[90m━━━━━━━━━━━━━━━━━━━━━━━━━━━━━━━━━━━━━━━━\u001b[0m \u001b[32m166.0/166.0 MB\u001b[0m \u001b[31m2.3 MB/s\u001b[0m eta \u001b[36m0:00:00\u001b[0m\n",
            "\u001b[?25hCollecting nvidia-nvtx-cu12==12.1.105 (from torch)\n",
            "  Downloading nvidia_nvtx_cu12-12.1.105-py3-none-manylinux1_x86_64.whl (99 kB)\n",
            "\u001b[2K     \u001b[90m━━━━━━━━━━━━━━━━━━━━━━━━━━━━━━━━━━━━━━━━\u001b[0m \u001b[32m99.1/99.1 kB\u001b[0m \u001b[31m10.4 MB/s\u001b[0m eta \u001b[36m0:00:00\u001b[0m\n",
            "\u001b[?25hRequirement already satisfied: triton==2.2.0 in /usr/local/lib/python3.10/dist-packages (from torch) (2.2.0)\n",
            "Collecting nvidia-nvjitlink-cu12 (from nvidia-cusolver-cu12==11.4.5.107->torch)\n",
            "  Downloading nvidia_nvjitlink_cu12-12.4.127-py3-none-manylinux2014_x86_64.whl (21.1 MB)\n",
            "\u001b[2K     \u001b[90m━━━━━━━━━━━━━━━━━━━━━━━━━━━━━━━━━━━━━━━━\u001b[0m \u001b[32m21.1/21.1 MB\u001b[0m \u001b[31m63.9 MB/s\u001b[0m eta \u001b[36m0:00:00\u001b[0m\n",
            "\u001b[?25hRequirement already satisfied: tqdm in /usr/local/lib/python3.10/dist-packages (from torchtext) (4.66.2)\n",
            "Requirement already satisfied: requests in /usr/local/lib/python3.10/dist-packages (from torchtext) (2.31.0)\n",
            "Requirement already satisfied: torchdata==0.7.1 in /usr/local/lib/python3.10/dist-packages (from torchtext) (0.7.1)\n",
            "Requirement already satisfied: urllib3>=1.25 in /usr/local/lib/python3.10/dist-packages (from torchdata==0.7.1->torchtext) (2.0.7)\n",
            "Requirement already satisfied: MarkupSafe>=2.0 in /usr/local/lib/python3.10/dist-packages (from jinja2->torch) (2.1.5)\n",
            "Requirement already satisfied: charset-normalizer<4,>=2 in /usr/local/lib/python3.10/dist-packages (from requests->torchtext) (3.3.2)\n",
            "Requirement already satisfied: idna<4,>=2.5 in /usr/local/lib/python3.10/dist-packages (from requests->torchtext) (3.6)\n",
            "Requirement already satisfied: certifi>=2017.4.17 in /usr/local/lib/python3.10/dist-packages (from requests->torchtext) (2024.2.2)\n",
            "Requirement already satisfied: mpmath>=0.19 in /usr/local/lib/python3.10/dist-packages (from sympy->torch) (1.3.0)\n",
            "Installing collected packages: nvidia-nvtx-cu12, nvidia-nvjitlink-cu12, nvidia-nccl-cu12, nvidia-curand-cu12, nvidia-cufft-cu12, nvidia-cuda-runtime-cu12, nvidia-cuda-nvrtc-cu12, nvidia-cuda-cupti-cu12, nvidia-cublas-cu12, nvidia-cusparse-cu12, nvidia-cudnn-cu12, nvidia-cusolver-cu12\n",
            "Successfully installed nvidia-cublas-cu12-12.1.3.1 nvidia-cuda-cupti-cu12-12.1.105 nvidia-cuda-nvrtc-cu12-12.1.105 nvidia-cuda-runtime-cu12-12.1.105 nvidia-cudnn-cu12-8.9.2.26 nvidia-cufft-cu12-11.0.2.54 nvidia-curand-cu12-10.3.2.106 nvidia-cusolver-cu12-11.4.5.107 nvidia-cusparse-cu12-12.1.0.106 nvidia-nccl-cu12-2.19.3 nvidia-nvjitlink-cu12-12.4.127 nvidia-nvtx-cu12-12.1.105\n"
          ]
        }
      ],
      "source": [
        "#PyTorch include the downloadable datasets (e.g., \"torchtext\")\n",
        "# Install the fowlling.\n",
        "!pip3 install torch torchtext numpy"
      ]
    },
    {
      "cell_type": "markdown",
      "id": "e5b6d8c2-ff47-43b3-b778-f9442b8ad184",
      "metadata": {
        "id": "e5b6d8c2-ff47-43b3-b778-f9442b8ad184"
      },
      "source": [
        "Let's start with importing Pytorch"
      ]
    },
    {
      "cell_type": "code",
      "execution_count": 2,
      "id": "bffc6266-43c1-4a7c-a5fc-3ed887f8dcea",
      "metadata": {
        "colab": {
          "base_uri": "https://localhost:8080/"
        },
        "id": "bffc6266-43c1-4a7c-a5fc-3ed887f8dcea",
        "outputId": "5f122715-fd5f-4793-9787-7aab7f616352"
      },
      "outputs": [
        {
          "output_type": "stream",
          "name": "stdout",
          "text": [
            "Using torch 2.2.1+cu121\n"
          ]
        }
      ],
      "source": [
        "import torch\n",
        "print(\"Using torch\", torch.__version__)"
      ]
    },
    {
      "cell_type": "markdown",
      "id": "76611283-6d3f-41e4-939b-e22ced2347f0",
      "metadata": {
        "id": "76611283-6d3f-41e4-939b-e22ced2347f0"
      },
      "source": [
        "Check if GPU is available\n"
      ]
    },
    {
      "cell_type": "code",
      "execution_count": 3,
      "id": "6027c0a6-0fb4-4274-8a28-580da44b59f6",
      "metadata": {
        "colab": {
          "base_uri": "https://localhost:8080/"
        },
        "id": "6027c0a6-0fb4-4274-8a28-580da44b59f6",
        "outputId": "a88a641e-8cb3-4567-933c-e9e8694210c6"
      },
      "outputs": [
        {
          "output_type": "execute_result",
          "data": {
            "text/plain": [
              "False"
            ]
          },
          "metadata": {},
          "execution_count": 3
        }
      ],
      "source": [
        "torch.cuda.is_available()"
      ]
    },
    {
      "cell_type": "code",
      "execution_count": 4,
      "id": "6c496c23-67df-4379-8dd6-aef84cfee6ac",
      "metadata": {
        "colab": {
          "base_uri": "https://localhost:8080/"
        },
        "id": "6c496c23-67df-4379-8dd6-aef84cfee6ac",
        "outputId": "a23fa906-8843-40d4-d8ce-da3815bdbf0e"
      },
      "outputs": [
        {
          "output_type": "execute_result",
          "data": {
            "text/plain": [
              "0"
            ]
          },
          "metadata": {},
          "execution_count": 4
        }
      ],
      "source": [
        "torch.cuda.device_count()"
      ]
    },
    {
      "cell_type": "code",
      "execution_count": 5,
      "id": "e98cc11d-a781-4eed-a074-52b32a018d8f",
      "metadata": {
        "colab": {
          "base_uri": "https://localhost:8080/",
          "height": 293
        },
        "id": "e98cc11d-a781-4eed-a074-52b32a018d8f",
        "outputId": "9a613a9c-66ee-4b24-beb5-4c1b145cac37"
      },
      "outputs": [
        {
          "output_type": "error",
          "ename": "RuntimeError",
          "evalue": "Found no NVIDIA driver on your system. Please check that you have an NVIDIA GPU and installed a driver from http://www.nvidia.com/Download/index.aspx",
          "traceback": [
            "\u001b[0;31m---------------------------------------------------------------------------\u001b[0m",
            "\u001b[0;31mRuntimeError\u001b[0m                              Traceback (most recent call last)",
            "\u001b[0;32m<ipython-input-5-3380d2c12118>\u001b[0m in \u001b[0;36m<cell line: 1>\u001b[0;34m()\u001b[0m\n\u001b[0;32m----> 1\u001b[0;31m \u001b[0mtorch\u001b[0m\u001b[0;34m.\u001b[0m\u001b[0mcuda\u001b[0m\u001b[0;34m.\u001b[0m\u001b[0mcurrent_device\u001b[0m\u001b[0;34m(\u001b[0m\u001b[0;34m)\u001b[0m\u001b[0;34m\u001b[0m\u001b[0;34m\u001b[0m\u001b[0m\n\u001b[0m",
            "\u001b[0;32m/usr/local/lib/python3.10/dist-packages/torch/cuda/__init__.py\u001b[0m in \u001b[0;36mcurrent_device\u001b[0;34m()\u001b[0m\n\u001b[1;32m    785\u001b[0m \u001b[0;32mdef\u001b[0m \u001b[0mcurrent_device\u001b[0m\u001b[0;34m(\u001b[0m\u001b[0;34m)\u001b[0m \u001b[0;34m->\u001b[0m \u001b[0mint\u001b[0m\u001b[0;34m:\u001b[0m\u001b[0;34m\u001b[0m\u001b[0;34m\u001b[0m\u001b[0m\n\u001b[1;32m    786\u001b[0m     \u001b[0;34mr\"\"\"Return the index of a currently selected device.\"\"\"\u001b[0m\u001b[0;34m\u001b[0m\u001b[0;34m\u001b[0m\u001b[0m\n\u001b[0;32m--> 787\u001b[0;31m     \u001b[0m_lazy_init\u001b[0m\u001b[0;34m(\u001b[0m\u001b[0;34m)\u001b[0m\u001b[0;34m\u001b[0m\u001b[0;34m\u001b[0m\u001b[0m\n\u001b[0m\u001b[1;32m    788\u001b[0m     \u001b[0;32mreturn\u001b[0m \u001b[0mtorch\u001b[0m\u001b[0;34m.\u001b[0m\u001b[0m_C\u001b[0m\u001b[0;34m.\u001b[0m\u001b[0m_cuda_getDevice\u001b[0m\u001b[0;34m(\u001b[0m\u001b[0;34m)\u001b[0m\u001b[0;34m\u001b[0m\u001b[0;34m\u001b[0m\u001b[0m\n\u001b[1;32m    789\u001b[0m \u001b[0;34m\u001b[0m\u001b[0m\n",
            "\u001b[0;32m/usr/local/lib/python3.10/dist-packages/torch/cuda/__init__.py\u001b[0m in \u001b[0;36m_lazy_init\u001b[0;34m()\u001b[0m\n\u001b[1;32m    300\u001b[0m         \u001b[0;32mif\u001b[0m \u001b[0;34m\"CUDA_MODULE_LOADING\"\u001b[0m \u001b[0;32mnot\u001b[0m \u001b[0;32min\u001b[0m \u001b[0mos\u001b[0m\u001b[0;34m.\u001b[0m\u001b[0menviron\u001b[0m\u001b[0;34m:\u001b[0m\u001b[0;34m\u001b[0m\u001b[0;34m\u001b[0m\u001b[0m\n\u001b[1;32m    301\u001b[0m             \u001b[0mos\u001b[0m\u001b[0;34m.\u001b[0m\u001b[0menviron\u001b[0m\u001b[0;34m[\u001b[0m\u001b[0;34m\"CUDA_MODULE_LOADING\"\u001b[0m\u001b[0;34m]\u001b[0m \u001b[0;34m=\u001b[0m \u001b[0;34m\"LAZY\"\u001b[0m\u001b[0;34m\u001b[0m\u001b[0;34m\u001b[0m\u001b[0m\n\u001b[0;32m--> 302\u001b[0;31m         \u001b[0mtorch\u001b[0m\u001b[0;34m.\u001b[0m\u001b[0m_C\u001b[0m\u001b[0;34m.\u001b[0m\u001b[0m_cuda_init\u001b[0m\u001b[0;34m(\u001b[0m\u001b[0;34m)\u001b[0m\u001b[0;34m\u001b[0m\u001b[0;34m\u001b[0m\u001b[0m\n\u001b[0m\u001b[1;32m    303\u001b[0m         \u001b[0;31m# Some of the queued calls may reentrantly call _lazy_init();\u001b[0m\u001b[0;34m\u001b[0m\u001b[0;34m\u001b[0m\u001b[0m\n\u001b[1;32m    304\u001b[0m         \u001b[0;31m# we need to just return without initializing in that case.\u001b[0m\u001b[0;34m\u001b[0m\u001b[0;34m\u001b[0m\u001b[0m\n",
            "\u001b[0;31mRuntimeError\u001b[0m: Found no NVIDIA driver on your system. Please check that you have an NVIDIA GPU and installed a driver from http://www.nvidia.com/Download/index.aspx"
          ]
        }
      ],
      "source": [
        "torch.cuda.current_device()"
      ]
    },
    {
      "cell_type": "markdown",
      "id": "4cbe18c2-fe19-469b-999c-b483e84b5c88",
      "metadata": {
        "id": "4cbe18c2-fe19-469b-999c-b483e84b5c88",
        "tags": []
      },
      "source": [
        "### Tensors\n",
        "Tensors are a specialized data structure that are very similar to arrays and matrices. In PyTorch, we use tensors to encode the inputs and outputs of a model, as well as the model’s parameters.\n",
        "\n",
        "Tensors are similar to NumPy’s ndarrays, except that tensors can run on GPUs or other hardware accelerators. In fact, tensors and NumPy arrays can often share the same underlying memory, eliminating the need to copy data (see Bridge with NumPy). Tensors are also optimized for automatic differentiation (we’ll see more about that later in the Autograd section). If you’re familiar with ndarrays, you’ll be right at home with the Tensor API. If not, follow along!"
      ]
    },
    {
      "cell_type": "code",
      "execution_count": null,
      "id": "2a91c9d9-1605-4b44-b005-11ddabc7a3b1",
      "metadata": {
        "id": "2a91c9d9-1605-4b44-b005-11ddabc7a3b1"
      },
      "outputs": [],
      "source": [
        "import torch\n",
        "import numpy as np"
      ]
    },
    {
      "cell_type": "markdown",
      "id": "a86ac55c-5756-47fd-83cb-cbbef80cab96",
      "metadata": {
        "id": "a86ac55c-5756-47fd-83cb-cbbef80cab96"
      },
      "source": [
        "Tensors can be created directly from data or from NumPy arrays."
      ]
    },
    {
      "cell_type": "code",
      "execution_count": null,
      "id": "4c0b30b7-d5a3-45fc-8402-50d1d289436a",
      "metadata": {
        "id": "4c0b30b7-d5a3-45fc-8402-50d1d289436a"
      },
      "outputs": [],
      "source": [
        "# Directly from data\n",
        "data = [[1, 2],[3, 4]]\n",
        "x_data = torch.tensor(data)\n",
        "\n",
        "# From a NumPy array\n",
        "np_array = np.array(data)\n",
        "x_np = torch.from_numpy(np_array)"
      ]
    },
    {
      "cell_type": "markdown",
      "id": "edbb6a28-3866-47c5-8b16-073c4cc84d71",
      "metadata": {
        "id": "edbb6a28-3866-47c5-8b16-073c4cc84d71"
      },
      "source": [
        "Tensor attributes describe their shape, datatype, and the device on which they are stored."
      ]
    },
    {
      "cell_type": "code",
      "execution_count": null,
      "id": "011b34a3-b57a-4889-9805-ae96528cbde0",
      "metadata": {
        "id": "011b34a3-b57a-4889-9805-ae96528cbde0"
      },
      "outputs": [],
      "source": [
        "print(f\"Shape of tensor: {x_data.shape}\")\n",
        "print(f\"Datatype of tensor: {x_data.dtype}\")\n",
        "print(f\"Device tensor is stored on: {x_data.device}\")"
      ]
    },
    {
      "cell_type": "markdown",
      "id": "b61eddd2-0c89-45d7-a25c-7fa5e0a2c256",
      "metadata": {
        "id": "b61eddd2-0c89-45d7-a25c-7fa5e0a2c256"
      },
      "source": [
        "`shape` is a tuple of tensor dimensions. We can create a new tensor by specifying the dimensionality and initialize it with random or constant values.\n",
        "- `torch.zeros`: Creates a tensor filled with zeros\n",
        "- `torch.ones`: Creates a tensor filled with ones\n",
        "- `torch.rand`: Creates a tensor with random values uniformly sampled between 0 and 1"
      ]
    },
    {
      "cell_type": "code",
      "execution_count": null,
      "id": "4120e3ea-f1df-43c3-8ba5-a2d37e1f6044",
      "metadata": {
        "id": "4120e3ea-f1df-43c3-8ba5-a2d37e1f6044"
      },
      "outputs": [],
      "source": [
        "shape = (2,3,)\n",
        "rand_tensor = torch.rand(shape)\n",
        "ones_tensor = torch.ones(shape)\n",
        "zeros_tensor = torch.zeros(shape)\n",
        "\n",
        "print(f\"Random Tensor: \\n {rand_tensor} \\n\")\n",
        "print(f\"Ones Tensor: \\n {ones_tensor} \\n\")\n",
        "print(f\"Zeros Tensor: \\n {zeros_tensor}\")"
      ]
    },
    {
      "cell_type": "markdown",
      "id": "b7527959-ca5d-44ee-a796-9cfd8b2b32c3",
      "metadata": {
        "id": "b7527959-ca5d-44ee-a796-9cfd8b2b32c3"
      },
      "source": [
        "We can also create a tensor from another tensor. The new tensor retains the properties (shape, datatype) of the argument tensor, unless explicitly overridden.\n",
        "* `torch.zeros_like`: Creates a tensor filled with zeros\n",
        "* `torch.ones_like`: Creates a tensor filled with ones\n",
        "* `torch.rand_like`: Creates a tensor with random values uniformly sampled between 0 and 1"
      ]
    },
    {
      "cell_type": "code",
      "execution_count": null,
      "id": "81ed6539-ca0e-4263-922f-2fd8e153ee32",
      "metadata": {
        "id": "81ed6539-ca0e-4263-922f-2fd8e153ee32"
      },
      "outputs": [],
      "source": [
        "x_ones = torch.ones_like(x_data) # retains the properties of x_data\n",
        "print(f\"Ones Tensor: \\n {x_ones} \\n\")\n",
        "\n",
        "x_rand = torch.rand_like(x_data, dtype=torch.float) # overrides the datatype of x_data\n",
        "print(f\"Random Tensor: \\n {x_rand} \\n\")"
      ]
    },
    {
      "cell_type": "markdown",
      "id": "4f7ea3ed-b937-4ee6-bd8b-4851887049f5",
      "metadata": {
        "id": "4f7ea3ed-b937-4ee6-bd8b-4851887049f5"
      },
      "source": [
        "#### Operations on Tensors\n",
        "Over 100 tensor operations, including arithmetic, linear algebra, matrix manipulation (transposing, indexing, slicing), sampling and more are comprehensively described [here](https://pytorch.org/docs/stable/torch.html).\n",
        "\n",
        "By default, tensors are created on the CPU. We need to explicitly move tensors to the GPU using `.to` method (after checking for GPU availability). Keep in mind that copying large tensors across devices can be expensive in terms of time and memory!"
      ]
    },
    {
      "cell_type": "code",
      "execution_count": null,
      "id": "dbedd62e-cda2-4908-86a4-a3ad3986afba",
      "metadata": {
        "id": "dbedd62e-cda2-4908-86a4-a3ad3986afba"
      },
      "outputs": [],
      "source": [
        "tensor = torch.rand(3,4)\n",
        "# # We move our tensor to the GPU if available\n",
        "if torch.cuda.is_available():\n",
        "    tensor = tensor.to(\"cuda\")\n",
        "tensor"
      ]
    },
    {
      "cell_type": "markdown",
      "id": "1ef0aaf9-f371-4881-87c8-d24929a9a072",
      "metadata": {
        "id": "1ef0aaf9-f371-4881-87c8-d24929a9a072"
      },
      "source": [
        "We can perform standard numpy-like indexing and slicing"
      ]
    },
    {
      "cell_type": "code",
      "execution_count": null,
      "id": "1898e71b-7bb8-410d-8357-25014549721c",
      "metadata": {
        "id": "1898e71b-7bb8-410d-8357-25014549721c"
      },
      "outputs": [],
      "source": [
        "print(f\"First row: {tensor[0]}\")\n",
        "print(f\"First column: {tensor[:, 0]}\")\n",
        "print(f\"Last column: {tensor[..., -1]}\")\n",
        "tensor[:,1] = 0\n",
        "print(tensor)"
      ]
    },
    {
      "cell_type": "markdown",
      "id": "d57e089d-de80-40ff-958b-66d65bec3b48",
      "metadata": {
        "id": "d57e089d-de80-40ff-958b-66d65bec3b48"
      },
      "source": [
        "We can use torch.cat to concatenate a sequence of tensors along a given dimension. See also torch.stack, another tensor joining op that is subtly different from torch.cat."
      ]
    },
    {
      "cell_type": "code",
      "execution_count": null,
      "id": "e243778f-9fb2-4795-a70e-ef3ea195bb5c",
      "metadata": {
        "id": "e243778f-9fb2-4795-a70e-ef3ea195bb5c"
      },
      "outputs": [],
      "source": [
        "t1 = torch.cat([tensor, tensor, tensor], dim=1)\n",
        "print(t1)"
      ]
    },
    {
      "cell_type": "markdown",
      "id": "99edaedf-b803-4285-9a1d-448dcb0ff3cd",
      "metadata": {
        "id": "99edaedf-b803-4285-9a1d-448dcb0ff3cd"
      },
      "source": [
        "PyTorch tensors perform arithmetic operations intuitively. Tensors of similar shapes may be added, multiplied, etc. Operations with scalars are distributed over the tensor:"
      ]
    },
    {
      "cell_type": "code",
      "execution_count": null,
      "id": "79c7b83d-499c-4ca5-98eb-f0285fc164ea",
      "metadata": {
        "id": "79c7b83d-499c-4ca5-98eb-f0285fc164ea"
      },
      "outputs": [],
      "source": [
        "# This computes the matrix multiplication between two tensors. y1, y2, y3 will have the same value\n",
        "y1 = tensor @ tensor.T\n",
        "y2 = tensor.matmul(tensor.T)\n",
        "\n",
        "y3 = torch.rand_like(tensor)\n",
        "torch.matmul(tensor, tensor.T, out=y3)"
      ]
    },
    {
      "cell_type": "code",
      "execution_count": null,
      "id": "3dfa22b4-098e-4ce4-ac0d-63c5f6e11f9b",
      "metadata": {
        "id": "3dfa22b4-098e-4ce4-ac0d-63c5f6e11f9b"
      },
      "outputs": [],
      "source": [
        "# This computes the element-wise product. z1, z2, z3 will have the same value\n",
        "z1 = tensor * tensor\n",
        "z2 = tensor.mul(tensor)\n",
        "\n",
        "z3 = torch.rand_like(tensor)\n",
        "torch.mul(tensor, tensor, out=z3)"
      ]
    },
    {
      "cell_type": "markdown",
      "id": "c96b8757-6674-4b93-9982-08a2660cfd74",
      "metadata": {
        "id": "c96b8757-6674-4b93-9982-08a2660cfd74"
      },
      "source": [
        " If you have a one-element tensor, for example by aggregating all values of a tensor into one value, you can convert it to a Python numerical value using item():"
      ]
    },
    {
      "cell_type": "code",
      "execution_count": null,
      "id": "58de95a6-98cd-4eef-b17d-750a0c925a50",
      "metadata": {
        "id": "58de95a6-98cd-4eef-b17d-750a0c925a50"
      },
      "outputs": [],
      "source": [
        "agg = tensor.sum()\n",
        "agg_item = agg.item()\n",
        "print(agg_item, type(agg_item))"
      ]
    },
    {
      "cell_type": "markdown",
      "id": "411144f3-6455-48ef-b910-62d2b4569f35",
      "metadata": {
        "id": "411144f3-6455-48ef-b910-62d2b4569f35"
      },
      "source": [
        "**In-place operations** Operations that store the result into the operand are called in-place. They are denoted by a `_` suffix. For example: `x.copy_(y)`, `x.t_()`, will change `x`."
      ]
    },
    {
      "cell_type": "code",
      "execution_count": null,
      "id": "0f1101c0-5cf6-42ef-9f9e-628a57e5ab26",
      "metadata": {
        "id": "0f1101c0-5cf6-42ef-9f9e-628a57e5ab26"
      },
      "outputs": [],
      "source": [
        "print(f\"{tensor} \\n\")\n",
        "tensor.add_(5)\n",
        "print(tensor)"
      ]
    },
    {
      "cell_type": "markdown",
      "id": "e76068cd-05f0-4dd3-b417-47d15072f7ae",
      "metadata": {
        "id": "e76068cd-05f0-4dd3-b417-47d15072f7ae"
      },
      "source": [
        "Tensors on the CPU and NumPy arrays can share their underlying memory locations, and changing one will change the other."
      ]
    },
    {
      "cell_type": "code",
      "execution_count": null,
      "id": "bcfd013d-f778-4d20-aad6-8fdca1c6d99a",
      "metadata": {
        "id": "bcfd013d-f778-4d20-aad6-8fdca1c6d99a"
      },
      "outputs": [],
      "source": [
        "tensor = tensor.cpu()\n",
        "print(f\"t: {tensor}\")\n",
        "n = tensor.numpy()\n",
        "print(f\"n: {n}\")"
      ]
    },
    {
      "cell_type": "code",
      "execution_count": null,
      "id": "347b73e1-bfef-4f6e-927a-056134e22aeb",
      "metadata": {
        "id": "347b73e1-bfef-4f6e-927a-056134e22aeb"
      },
      "outputs": [],
      "source": [
        "# A change in the tensor reflects in the NumPy array.\n",
        "tensor.add_(1)\n",
        "print(f\"t: {tensor}\")\n",
        "print(f\"n: {n}\")"
      ]
    },
    {
      "cell_type": "markdown",
      "id": "970c3cd7-dac6-4870-a585-b4008e9c8852",
      "metadata": {
        "id": "970c3cd7-dac6-4870-a585-b4008e9c8852",
        "tags": []
      },
      "source": [
        "### Automatic Differentiation with torch.autograd\n",
        "When training neural networks, the most frequently used algorithm is **back propagation**. In this algorithm, parameters (model weights) are adjusted according to the gradient of the loss function with respect to the given parameter.\n",
        "\n",
        "To compute those gradients, PyTorch has a built-in differentiation engine called `torch.autograd`. It supports automatic computation of gradient for any computational graph.\n",
        "\n",
        "Consider the simplest one-layer neural network, with input `x`, parameters `w` and `b`, and some loss function. It can be defined in PyTorch in the following manner:"
      ]
    },
    {
      "cell_type": "code",
      "execution_count": null,
      "id": "026b2fc0-191f-461d-929b-86c6be1468a5",
      "metadata": {
        "id": "026b2fc0-191f-461d-929b-86c6be1468a5"
      },
      "outputs": [],
      "source": [
        "import torch\n",
        "\n",
        "x = torch.ones(5)  # input tensor\n",
        "y = torch.zeros(3)  # expected output\n",
        "w = torch.randn(5, 3, requires_grad=True)\n",
        "b = torch.randn(3, requires_grad=True)\n",
        "z = torch.matmul(x, w)+b\n",
        "loss = torch.nn.functional.binary_cross_entropy_with_logits(z, y)\n"
      ]
    },
    {
      "cell_type": "markdown",
      "id": "498c2966-f7c6-4081-86a9-b23d69c1ce14",
      "metadata": {
        "id": "498c2966-f7c6-4081-86a9-b23d69c1ce14"
      },
      "source": [
        "In this network, `w` and `b` are parameters, which we need to optimize. Thus, we need to be able to compute the gradients of loss function with respect to those variables. In order to do that, we set the `requires_grad` property of those tensors.\n",
        "\n",
        "A function that we apply to tensors to construct computational graph is in fact an object of class Function. This object knows how to compute the function in the forward direction, and also how to compute its derivative during the backward propagation step. A reference to the backward propagation function is stored in grad_fn property of a tensor. You can find more information of Function in the [documentation](https://pytorch.org/docs/stable/autograd.html#function\n",
        ")."
      ]
    },
    {
      "cell_type": "code",
      "execution_count": null,
      "id": "2b7e090b-8509-4b17-b4e9-42f936b1eb16",
      "metadata": {
        "id": "2b7e090b-8509-4b17-b4e9-42f936b1eb16"
      },
      "outputs": [],
      "source": [
        "print(f\"Gradient function for z = {z.grad_fn}\")\n",
        "print(f\"Gradient function for loss = {loss.grad_fn}\")"
      ]
    },
    {
      "cell_type": "markdown",
      "id": "43152fd0-0109-49f5-a168-a29261ed97e4",
      "metadata": {
        "id": "43152fd0-0109-49f5-a168-a29261ed97e4"
      },
      "source": [
        "#### Computing Gradients\n",
        "\n",
        "To optimize weights of parameters in the neural network, we need to\n",
        "compute the derivatives of our loss function with respect to parameters. We need $\\frac{\\partial loss}{\\partial w}$ and\n",
        "$\\frac{\\partial loss}{\\partial b}$ to be under some fixed values of\n",
        "``x`` and ``y``. To compute those derivatives, we call\n",
        "``loss.backward()``, and then retrieve the values from ``w.grad`` and\n",
        "``b.grad``:\n",
        "\n"
      ]
    },
    {
      "cell_type": "code",
      "execution_count": null,
      "id": "58066343-5954-494e-8023-5cf7eead15fb",
      "metadata": {
        "id": "58066343-5954-494e-8023-5cf7eead15fb"
      },
      "outputs": [],
      "source": [
        "loss.backward()\n",
        "print(w.grad)\n",
        "print(b.grad)"
      ]
    },
    {
      "cell_type": "markdown",
      "id": "c0ff8ce9-aa49-4922-ac4f-32a655ed8b2b",
      "metadata": {
        "id": "c0ff8ce9-aa49-4922-ac4f-32a655ed8b2b"
      },
      "source": [
        "## Part2 - Word Level Recurrent Language Model"
      ]
    },
    {
      "cell_type": "markdown",
      "id": "27ef4739-ac6e-4ff1-9421-c4d3589fe7f7",
      "metadata": {
        "id": "27ef4739-ac6e-4ff1-9421-c4d3589fe7f7"
      },
      "source": [
        "#### Recurrent Neural Network (RNN)\n",
        "A recurrent neural network (RNN) is a neural network with a recurrent hidden layer $\\pmb{h}$ to operate over a sequence input $\\pmb{x} = (x_1,...,x_{|\\pmb{x}|})$, one symbol at a time. The recurrent connection represents that the hidden state at a time step becomes input of next time step. Having recurrent connection among hidden units, RNN can model long distance dependencies due to ability to pass information between time step.\n",
        "\n",
        "![rnn](RNN.png)\n",
        "\n",
        "Above image shows a RNN and its unfolding in time. Generally, at time step $t$, the hidden state $h_t$ and output $y_t$  is updated as follows\n",
        "\\begin{align}\n",
        "h_t &= \\textrm{RNN}(h_{t-1}, x_t) \\\\\n",
        "y_t &= \\text{O}(h_t) = h_t\n",
        "\\end{align}\n",
        "\n",
        "where $\\textrm{RNN}$ and $O$ denotes the function that computes hidden state and output vector. In simplest case, output function can be identity function as shown in previous equation. The simplest RNN formulation is Elman Network  which used $\\tanh$ as activation function\n",
        "\\begin{align}\n",
        "h_t &=\n",
        "\\begin{cases}\n",
        "\t\\tanh(h_{t_1}W^h + x_tW^x + b) & \\quad    (t \\geq 1) \\\\\n",
        "\t0 & \\quad \\text{ otherwise}\n",
        "\\end{cases} \\\\\n",
        "\\end{align}\n",
        "where $W^h, W^x$ are weight matrices, $b$ is bias term."
      ]
    },
    {
      "cell_type": "markdown",
      "id": "9340f397-90a9-4447-91c0-88aa088a8b24",
      "metadata": {
        "id": "9340f397-90a9-4447-91c0-88aa088a8b24",
        "jp-MarkdownHeadingCollapsed": true,
        "tags": []
      },
      "source": [
        "#### Recurrent Neural Language Model\n",
        "Similar to n-gram language model, the probability of a whole sentences are calculated by applying chained rules on probability of a word conditioned on previous words.\n",
        "\\begin{align}\n",
        "P(\\mathbf{w}) &= \\prod_{i=1}^{n} P(w_{i}|\\pmb{w}_{\\le i-1}) = \\prod_{i=1}^{n} \\textrm{RNN}(h_{i-1}, w_i)\n",
        "\\end{align}\n",
        "![rnnlm](RNNLM.png)\n",
        "\n",
        "The training objective is to maximize the log likelihood of the correct words."
      ]
    },
    {
      "cell_type": "markdown",
      "id": "8fb086b4-c26c-49a2-99c2-c73da36a2f7e",
      "metadata": {
        "id": "8fb086b4-c26c-49a2-99c2-c73da36a2f7e",
        "tags": []
      },
      "source": [
        "### Datasets & DataLoaders\n",
        "Code for processing data samples can get messy and hard to maintain; we ideally want our dataset code to be decoupled from our model training code for better readability and modularity. PyTorch provides two data primitives: `torch.utils.data.DataLoader` and `torch.utils.data.Dataset` that allow you to use pre-loaded datasets as well as your own data. `Dataset` stores the samples and their corresponding labels, and `DataLoader` wraps an iterable around the `Dataset` to enable easy access to the samples."
      ]
    },
    {
      "cell_type": "markdown",
      "id": "ae169d7e-fa93-4efa-9d67-c699abe8aba5",
      "metadata": {
        "id": "ae169d7e-fa93-4efa-9d67-c699abe8aba5"
      },
      "source": [
        "#### Loading a dataset\n",
        "We will load PennTreebank dataset with the following parameters:\n",
        "- `root`: Directory where the datasets are saved. Default: .data\n",
        "-  `split`: split or splits to be returned. Can be a string or tuple of strings. Default: (‘train’, ‘valid’, ‘test’)"
      ]
    },
    {
      "cell_type": "code",
      "execution_count": 23,
      "id": "be0325a3-9c64-45b0-bad5-a35c5655a4b2",
      "metadata": {
        "id": "be0325a3-9c64-45b0-bad5-a35c5655a4b2"
      },
      "outputs": [],
      "source": [
        "from torchtext.datasets import PennTreebank\n",
        "from torchtext.data.utils import get_tokenizer\n",
        "from torchtext.vocab import build_vocab_from_iterator"
      ]
    },
    {
      "cell_type": "code",
      "execution_count": 24,
      "id": "6vUG2nwx9U8G",
      "metadata": {
        "colab": {
          "base_uri": "https://localhost:8080/"
        },
        "id": "6vUG2nwx9U8G",
        "outputId": "87a8e743-c025-4d7d-bdd2-5d2964cd1a0d"
      },
      "outputs": [
        {
          "output_type": "stream",
          "name": "stdout",
          "text": [
            "Requirement already satisfied: portalocker in /usr/local/lib/python3.10/dist-packages (2.8.2)\n"
          ]
        }
      ],
      "source": [
        "#!pip install torchdata\n",
        "!pip install portalocker"
      ]
    },
    {
      "cell_type": "markdown",
      "source": [
        "###  Note*: You would likely encounter a \"NoneType\" Error after runing the next code block. Don't Worry. Just click \"Runtime\" on the menu bar and then click \"restart session and run all\" This should fix the problem."
      ],
      "metadata": {
        "id": "mBe5SRRXwYro"
      },
      "id": "mBe5SRRXwYro"
    },
    {
      "cell_type": "code",
      "execution_count": 25,
      "id": "cbc2570b-c1ae-4760-8577-94869c1c18b2",
      "metadata": {
        "colab": {
          "base_uri": "https://localhost:8080/"
        },
        "id": "cbc2570b-c1ae-4760-8577-94869c1c18b2",
        "outputId": "18e197a1-20a4-4a8d-8be2-fe83f5c16cf3"
      },
      "outputs": [
        {
          "output_type": "stream",
          "name": "stdout",
          "text": [
            "Train size: 42068\n"
          ]
        }
      ],
      "source": [
        "train_iter, valid_iter, test_iter = PennTreebank(\n",
        "    root=\".data\",\n",
        "    split=('train', 'valid', 'test'))\n",
        "\n",
        "num = 0\n",
        "for _ in train_iter:\n",
        "  num +=1\n",
        "\n",
        "print(f\"Train size: {num}\")"
      ]
    },
    {
      "cell_type": "markdown",
      "source": [],
      "metadata": {
        "id": "d7z11QTxwSzO"
      },
      "id": "d7z11QTxwSzO"
    },
    {
      "cell_type": "markdown",
      "id": "bfecc8ef-51dd-4db2-a55a-5f0061d9d7f4",
      "metadata": {
        "id": "bfecc8ef-51dd-4db2-a55a-5f0061d9d7f4"
      },
      "source": [
        "#### Dataset preprocess\n",
        "We will tokenize and construct the vocabulary from the training dataset"
      ]
    },
    {
      "cell_type": "code",
      "execution_count": 26,
      "id": "29b1fb7a-8a3f-4688-ad9c-7f7e657c004f",
      "metadata": {
        "id": "29b1fb7a-8a3f-4688-ad9c-7f7e657c004f"
      },
      "outputs": [],
      "source": [
        "from torchtext.data.utils import get_tokenizer\n",
        "from torchtext.vocab import build_vocab_from_iterator\n",
        "from torch.utils.data import dataset"
      ]
    },
    {
      "cell_type": "code",
      "execution_count": 27,
      "id": "e918079e-8991-47a1-8a98-cb8c540b4914",
      "metadata": {
        "id": "e918079e-8991-47a1-8a98-cb8c540b4914"
      },
      "outputs": [],
      "source": [
        "tokenizer = get_tokenizer('basic_english')\n",
        "vocab = build_vocab_from_iterator(map(tokenizer, train_iter), specials=['<unk>'])\n",
        "vocab.set_default_index(vocab['<unk>'])"
      ]
    },
    {
      "cell_type": "code",
      "execution_count": 28,
      "id": "f811a75a-cada-4d90-aa5a-f1b26a8579fc",
      "metadata": {
        "colab": {
          "base_uri": "https://localhost:8080/"
        },
        "id": "f811a75a-cada-4d90-aa5a-f1b26a8579fc",
        "outputId": "02ad3ae4-afa6-4b23-f85f-117f7ffff916"
      },
      "outputs": [
        {
          "output_type": "stream",
          "name": "stdout",
          "text": [
            "Vocabulary size: 9922\n",
            "The first 10 words in the vocabulary: ['<unk>', 'the', 'n', 'of', 'to', 'a', 'in', 'and', '.', \"'\"]\n"
          ]
        }
      ],
      "source": [
        "print(f\"Vocabulary size: {len(vocab)}\")\n",
        "print(f\"The first 10 words in the vocabulary: {vocab.get_itos()[:10]}\")"
      ]
    },
    {
      "cell_type": "code",
      "execution_count": 29,
      "id": "ab9a329b-62d0-4fa8-b0ce-81da34157a90",
      "metadata": {
        "colab": {
          "base_uri": "https://localhost:8080/"
        },
        "id": "ab9a329b-62d0-4fa8-b0ce-81da34157a90",
        "outputId": "0537c703-b5bf-4515-8ebd-ce8abce63b5c",
        "tags": []
      },
      "outputs": [
        {
          "output_type": "execute_result",
          "data": {
            "text/plain": [
              "[349, 14, 33, 474]"
            ]
          },
          "metadata": {},
          "execution_count": 29
        }
      ],
      "source": [
        "#The vocabulary block converts a list of tokens into integers.\n",
        "vocab(['here', 'is', 'an', 'example'])"
      ]
    },
    {
      "cell_type": "code",
      "execution_count": 30,
      "id": "67c165bd-5618-41d5-adf5-6db6030ba75c",
      "metadata": {
        "colab": {
          "base_uri": "https://localhost:8080/"
        },
        "id": "67c165bd-5618-41d5-adf5-6db6030ba75c",
        "outputId": "ad8ae675-0fa0-453c-9f55-751f9c5b4b4a"
      },
      "outputs": [
        {
          "output_type": "execute_result",
          "data": {
            "text/plain": [
              "[349, 14, 33, 6655, 0, 0]"
            ]
          },
          "metadata": {},
          "execution_count": 30
        }
      ],
      "source": [
        "# Out-of-vocabulary tokens will be converted to `<unk>` (the default index)\n",
        "vocab(['here', 'is', 'an', 'unknown', 'token', 'asdfghj'])"
      ]
    },
    {
      "cell_type": "code",
      "execution_count": 31,
      "id": "977864ca-3e31-40a6-b7bf-b0c8c1faa716",
      "metadata": {
        "id": "977864ca-3e31-40a6-b7bf-b0c8c1faa716"
      },
      "outputs": [],
      "source": [
        "def data_process(raw_text_iter: dataset.IterableDataset) -> torch.Tensor:\n",
        "    \"\"\"Converts raw text into a flat Tensor.\"\"\"\n",
        "    data = [torch.tensor(vocab(tokenizer(item)), dtype=torch.long) for item in raw_text_iter]\n",
        "    return torch.cat(tuple(filter(lambda t: t.numel() > 0, data)))\n",
        "train_iter, valid_iter, test_iter = PennTreebank(\n",
        "    root=\"data\",\n",
        "    split=('train', 'valid', 'test'))\n",
        "train_stream = data_process(train_iter)\n",
        "valid_stream = data_process(valid_iter)\n",
        "test_stream = data_process(test_iter)\n"
      ]
    },
    {
      "cell_type": "code",
      "execution_count": 32,
      "id": "c974bb20-3897-478f-a724-f386870dba5c",
      "metadata": {
        "colab": {
          "base_uri": "https://localhost:8080/"
        },
        "id": "c974bb20-3897-478f-a724-f386870dba5c",
        "outputId": "a5fc00ae-11d5-4df8-a380-775afe84ee69"
      },
      "outputs": [
        {
          "output_type": "execute_result",
          "data": {
            "text/plain": [
              "tensor([9892, 9893, 9894,  ...,   24,    8,    0])"
            ]
          },
          "metadata": {},
          "execution_count": 32
        }
      ],
      "source": [
        "train_stream"
      ]
    },
    {
      "cell_type": "code",
      "execution_count": 33,
      "id": "6ba555d2-5ba4-42e7-ba6c-4c2a0f05b5ca",
      "metadata": {
        "id": "6ba555d2-5ba4-42e7-ba6c-4c2a0f05b5ca"
      },
      "outputs": [],
      "source": [
        "max_seq_length=10\n",
        "from typing import Tuple, List\n",
        "def create_data_tuples(source: torch.Tensor):\n",
        "    return [[source[i:i + max_seq_length], source[i+1:i+ max_seq_length + 1]]\n",
        "            for i in range(len(source) - max_seq_length)]\n"
      ]
    },
    {
      "cell_type": "markdown",
      "id": "90397f0a-1330-4faf-9ade-b462c690e16b",
      "metadata": {
        "id": "90397f0a-1330-4faf-9ade-b462c690e16b",
        "tags": []
      },
      "source": [
        "#### Create a Custom Dataset\n",
        "A custom Dataset class must implement three functions: __init__, __len__, and __getitem__."
      ]
    },
    {
      "cell_type": "code",
      "execution_count": 34,
      "id": "19de6b08-70bf-4e6d-8deb-5cd1916f4a9c",
      "metadata": {
        "id": "19de6b08-70bf-4e6d-8deb-5cd1916f4a9c"
      },
      "outputs": [],
      "source": [
        "from torch.utils.data import Dataset\n",
        "class LMDataset(Dataset):\n",
        "    def __init__(self, source):\n",
        "        self.source = source\n",
        "        self.data = create_data_tuples(source)\n",
        "\n",
        "    def __len__(self):\n",
        "        return len(self.data)\n",
        "\n",
        "    def __getitem__(self, idx):\n",
        "        return self.data[idx]\n"
      ]
    },
    {
      "cell_type": "code",
      "execution_count": 35,
      "id": "6b2d73eb-15c5-4918-b6e6-5260ba012bc8",
      "metadata": {
        "id": "6b2d73eb-15c5-4918-b6e6-5260ba012bc8"
      },
      "outputs": [],
      "source": [
        "train_dataset = LMDataset(train_stream)\n",
        "valid_dataset = LMDataset(valid_stream)\n",
        "test_dataset = LMDataset(test_stream)\n"
      ]
    },
    {
      "cell_type": "code",
      "execution_count": 36,
      "id": "99438c0d-5e53-429c-87fc-fed82ed27242",
      "metadata": {
        "colab": {
          "base_uri": "https://localhost:8080/"
        },
        "id": "99438c0d-5e53-429c-87fc-fed82ed27242",
        "outputId": "0c6bee35-05a3-4ffd-f9ad-1e4f71a822b7"
      },
      "outputs": [
        {
          "output_type": "execute_result",
          "data": {
            "text/plain": [
              "[tensor([9892, 9893, 9894, 9896, 9897, 9898, 9902, 9903, 9904, 9905]),\n",
              " tensor([9893, 9894, 9896, 9897, 9898, 9902, 9903, 9904, 9905, 9906])]"
            ]
          },
          "metadata": {},
          "execution_count": 36
        }
      ],
      "source": [
        "train_dataset[0]"
      ]
    },
    {
      "cell_type": "markdown",
      "id": "858c4598-39dd-4074-8199-41322f539874",
      "metadata": {
        "id": "858c4598-39dd-4074-8199-41322f539874"
      },
      "source": [
        "#### Preparing your data for training with DataLoaders\n",
        "The `Dataset` retrieves our dataset’s features and labels one sample at a time. While training a model, we typically want to pass samples in “minibatches”, reshuffle the data at every epoch to reduce model overfitting, and use Python’s `multiprocessing` to speed up data retrieval.\n",
        "\n",
        "`DataLoader` is an iterable that abstracts this complexity for us in an easy API."
      ]
    },
    {
      "cell_type": "code",
      "execution_count": 37,
      "id": "8637a657-22a6-4d7c-9c28-1582c0d3cd1b",
      "metadata": {
        "id": "8637a657-22a6-4d7c-9c28-1582c0d3cd1b"
      },
      "outputs": [],
      "source": [
        "from torch.utils.data import DataLoader\n",
        "\n",
        "batch_size = 64\n",
        "eval_batch_size = 32\n",
        "\n",
        "train_dataloader = DataLoader(train_dataset, batch_size=batch_size, shuffle=True)\n",
        "valid_dataloader = DataLoader(valid_dataset, batch_size=eval_batch_size, shuffle=True)\n",
        "test_dataloader = DataLoader(test_dataset, batch_size=eval_batch_size, shuffle=True)"
      ]
    },
    {
      "cell_type": "markdown",
      "id": "a512e5fd-2b8f-4834-b87b-013f17f530c6",
      "metadata": {
        "id": "a512e5fd-2b8f-4834-b87b-013f17f530c6"
      },
      "source": [
        "#### Iterate through the DataLoader\n",
        "We have loaded that dataset into the `DataLoader` and can iterate through the dataset as needed. Each iteration below returns a batch of source and target sequences (containing batch_size=20 tuples respectively). Because we specified shuffle=True, after we iterate over all batches the data is shuffled (for finer-grained control over the data loading order, take a look at [Samplers](https://pytorch.org/docs/stable/data.html#data-loading-order-and-sampler))."
      ]
    },
    {
      "cell_type": "code",
      "execution_count": 38,
      "id": "0417b9b6-3789-4e77-ac39-fa3004fbed0b",
      "metadata": {
        "colab": {
          "base_uri": "https://localhost:8080/"
        },
        "id": "0417b9b6-3789-4e77-ac39-fa3004fbed0b",
        "outputId": "0a004a32-22ec-4d40-86cc-1812e91ef23d"
      },
      "outputs": [
        {
          "output_type": "stream",
          "name": "stdout",
          "text": [
            "Source batch shape: torch.Size([64, 10])\n",
            "Target batch shape: torch.Size([64, 10])\n"
          ]
        }
      ],
      "source": [
        "src, tgt = next(iter(train_dataloader))\n",
        "print(f\"Source batch shape: {src.size()}\")\n",
        "print(f\"Target batch shape: {tgt.size()}\")"
      ]
    },
    {
      "cell_type": "markdown",
      "id": "c5e05a42-2f08-4687-835a-90247f735bf4",
      "metadata": {
        "id": "c5e05a42-2f08-4687-835a-90247f735bf4"
      },
      "source": [
        "### Build the Neural Network"
      ]
    },
    {
      "cell_type": "markdown",
      "id": "ef45e1de-9bba-4b06-a1bd-409d4ae5603c",
      "metadata": {
        "id": "ef45e1de-9bba-4b06-a1bd-409d4ae5603c"
      },
      "source": [
        "#### Get Device for Training\n",
        "We want to be able to train our model on a hardware accelerator like the GPU, if it is available. Let’s check to see if torch.cuda is available, else we continue to use the CPU."
      ]
    },
    {
      "cell_type": "code",
      "execution_count": 39,
      "id": "fc590007-ee3d-4466-b4a6-521bde250e41",
      "metadata": {
        "colab": {
          "base_uri": "https://localhost:8080/"
        },
        "id": "fc590007-ee3d-4466-b4a6-521bde250e41",
        "outputId": "2b68fa7d-34bf-4362-fe89-02c7a7a2efa0"
      },
      "outputs": [
        {
          "output_type": "stream",
          "name": "stdout",
          "text": [
            "Using cuda device\n"
          ]
        }
      ],
      "source": [
        "device = \"cuda\" if torch.cuda.is_available() else \"cpu\"\n",
        "print(f\"Using {device} device\")"
      ]
    },
    {
      "cell_type": "markdown",
      "id": "e79deb97-3005-48ed-b9ec-d247d3ab3ed4",
      "metadata": {
        "id": "e79deb97-3005-48ed-b9ec-d247d3ab3ed4"
      },
      "source": [
        "#### Define the Class\n",
        "We define our neural network by subclassing `nn.Module`, and initialize the neural network layers in `__init__`. Every `nn.Module` subclass implements the operations on input data in the `forward` method."
      ]
    },
    {
      "cell_type": "code",
      "execution_count": 40,
      "id": "19f58e33-0ec6-4e92-a40c-23aff243a08c",
      "metadata": {
        "id": "19f58e33-0ec6-4e92-a40c-23aff243a08c"
      },
      "outputs": [],
      "source": [
        "import torch.nn as nn\n",
        "class WordLevelRecurrentLanguageModel(nn.Module):\n",
        "    def __init__(self, vocab_size, embedding_size, hidden_size):\n",
        "        super(WordLevelRecurrentLanguageModel, self).__init__()\n",
        "        self.hidden_size = hidden_size\n",
        "        self.embedding_size = embedding_size\n",
        "\n",
        "        self.embedding = nn.Embedding(vocab_size, embedding_size)\n",
        "        self.rnn = nn.RNN(embedding_size, hidden_size, batch_first=True)\n",
        "\n",
        "        self.fc = nn.Linear(hidden_size, vocab_size)\n",
        "\n",
        "    def forward(self, x, hidden_states):\n",
        "        embedded = self.embedding(x)\n",
        "        out, hidden_states = self.rnn(embedded, hidden_states)\n",
        "\n",
        "        # Reshaping the outputs to batch_size * seq_length x hidden_size\n",
        "        out = out.contiguous().view(-1, self.hidden_size)\n",
        "        out = self.fc(out)\n",
        "        return out, hidden_states\n",
        "\n",
        "    def init_hidden_states(self, batch_size):\n",
        "        hidden_states = torch.zeros(1, batch_size, self.hidden_size)\n",
        "        return hidden_states\n"
      ]
    },
    {
      "cell_type": "markdown",
      "id": "9d3cdf2a-817c-4ed1-9670-fcfc394ce6d4",
      "metadata": {
        "id": "9d3cdf2a-817c-4ed1-9670-fcfc394ce6d4"
      },
      "source": [
        "We create an instance of `WordLevelRecurrentLanguageModel`, and move it to the device, and print its structure."
      ]
    },
    {
      "cell_type": "code",
      "execution_count": 41,
      "id": "07389aae-ed67-4fa9-b102-1f7d17b84589",
      "metadata": {
        "id": "07389aae-ed67-4fa9-b102-1f7d17b84589"
      },
      "outputs": [],
      "source": [
        "vocab_size = len(vocab)\n",
        "embedding_size = 64\n",
        "hidden_size = 64\n",
        "model = WordLevelRecurrentLanguageModel(vocab_size, embedding_size, hidden_size).to(device)"
      ]
    },
    {
      "cell_type": "markdown",
      "id": "47347ba8-74ca-465d-a7fb-94b79663dbc0",
      "metadata": {
        "id": "47347ba8-74ca-465d-a7fb-94b79663dbc0"
      },
      "source": [
        "Many layers inside a neural network are parameterized, i.e. have associated weights and biases that are optimized during training. Subclassing `nn.Module` automatically tracks all fields defined inside your model object, and makes all parameters accessible using your model’s `parameters()` or `named_parameters()` methods.\n",
        "\n",
        "In this example, we iterate over each parameter, and print its size and a preview of its values."
      ]
    },
    {
      "cell_type": "code",
      "execution_count": 42,
      "id": "7584bcf0-cf2a-4a66-b632-5ae2b4d7da55",
      "metadata": {
        "colab": {
          "base_uri": "https://localhost:8080/"
        },
        "id": "7584bcf0-cf2a-4a66-b632-5ae2b4d7da55",
        "outputId": "a7f61027-b8e0-4b2d-c3b5-0b3b126e4643"
      },
      "outputs": [
        {
          "output_type": "stream",
          "name": "stdout",
          "text": [
            "Model structure: WordLevelRecurrentLanguageModel(\n",
            "  (embedding): Embedding(9922, 64)\n",
            "  (rnn): RNN(64, 64, batch_first=True)\n",
            "  (fc): Linear(in_features=64, out_features=9922, bias=True)\n",
            ")\n",
            "\n",
            "\n",
            "Layer: embedding.weight | Size: torch.Size([9922, 64]) | Values : tensor([[-1.3753,  2.3161, -0.5560, -0.5437,  0.5626,  1.5954, -0.2135, -0.2715,\n",
            "         -2.6375, -0.5333, -0.2699, -0.1726, -1.1404,  0.1328,  0.8966,  0.3857,\n",
            "         -1.4871, -1.0001, -0.0165,  1.3774,  0.0870,  0.9497, -1.6566,  0.9182,\n",
            "         -0.1858,  1.2505, -0.1480, -1.7252, -0.1028, -1.1703,  0.3946,  1.1023,\n",
            "          1.1678, -0.7892, -1.0947, -0.5843,  1.1988,  1.1150,  1.5009, -0.1515,\n",
            "          0.3953,  1.1045,  0.0596,  2.1184, -2.0833,  0.6139, -0.3062,  0.9291,\n",
            "          0.4080,  0.2000, -1.0046, -1.8977, -0.6952,  1.8565, -1.1569,  0.9480,\n",
            "         -1.0890, -0.5473, -0.9078,  0.2478, -1.1653, -0.5795,  1.7955, -0.3519],\n",
            "        [-1.0450,  0.4692, -0.4659, -0.0532, -1.1103, -0.4956,  3.1790, -1.8228,\n",
            "         -0.8939, -1.6742, -1.4217,  1.2865, -1.0600, -0.4339,  2.0204, -1.4641,\n",
            "         -0.7582,  1.4999, -1.1871,  1.0851,  1.4328, -0.6210,  1.3592,  1.1149,\n",
            "          3.7657,  0.5054, -0.1703,  0.3910,  1.1650,  0.8650, -0.4316,  0.5649,\n",
            "          0.4059,  1.1419, -0.6225,  0.8611,  0.1152, -2.3238,  0.1008,  1.0012,\n",
            "          0.5830, -0.9585,  0.7752,  0.1487, -0.5386, -0.7119,  0.3420,  0.0868,\n",
            "          0.3200, -1.9282,  0.3774, -1.4954, -0.4148, -0.2304, -0.4963,  1.5917,\n",
            "          0.1529, -1.4334, -2.2736, -0.7016, -0.2883,  0.7386, -0.4323, -0.1131]],\n",
            "       device='cuda:0', grad_fn=<SliceBackward0>) \n",
            "\n",
            "Layer: rnn.weight_ih_l0 | Size: torch.Size([64, 64]) | Values : tensor([[ 0.0505, -0.0618,  0.0595, -0.0780,  0.1101,  0.1249,  0.0247, -0.0229,\n",
            "         -0.1132, -0.0839,  0.0130,  0.0064,  0.0856,  0.0673,  0.0739,  0.0930,\n",
            "          0.1136,  0.0328, -0.0524, -0.0689, -0.0704, -0.0033,  0.0637,  0.1125,\n",
            "          0.0664,  0.1244,  0.0783,  0.0031,  0.0303, -0.0336,  0.1002,  0.1047,\n",
            "          0.0780, -0.0830,  0.0690,  0.0850,  0.0646,  0.0999, -0.0147, -0.1149,\n",
            "          0.0154,  0.0423,  0.0043,  0.1192, -0.1015, -0.0481, -0.1123, -0.0305,\n",
            "         -0.1009, -0.0306,  0.0003, -0.0625,  0.0551,  0.0451, -0.0629, -0.0881,\n",
            "          0.0345,  0.0069, -0.0725,  0.0959, -0.0738, -0.0101,  0.0212, -0.1041],\n",
            "        [ 0.0966, -0.0747, -0.0509,  0.0418,  0.0327, -0.0990,  0.0903,  0.0207,\n",
            "         -0.1065, -0.0485,  0.0997,  0.0182, -0.0574, -0.0566, -0.0906,  0.0457,\n",
            "          0.0499,  0.0529,  0.0875,  0.0185, -0.0106, -0.0379,  0.0933,  0.0028,\n",
            "          0.0896,  0.0738,  0.0084, -0.0216, -0.0466, -0.0953,  0.0826, -0.0963,\n",
            "         -0.0180,  0.1045, -0.0242, -0.0637, -0.0223,  0.1041,  0.0992,  0.0729,\n",
            "         -0.0819, -0.0652, -0.0249, -0.0498,  0.0739,  0.0340, -0.0580, -0.0076,\n",
            "          0.0934,  0.0282,  0.0730,  0.0585, -0.0800, -0.0677,  0.0787,  0.0351,\n",
            "          0.0063, -0.0328,  0.0101, -0.0407, -0.0862,  0.0190,  0.0213, -0.0212]],\n",
            "       device='cuda:0', grad_fn=<SliceBackward0>) \n",
            "\n",
            "Layer: rnn.weight_hh_l0 | Size: torch.Size([64, 64]) | Values : tensor([[-0.0944, -0.0018,  0.0548,  0.0487, -0.0251, -0.1074,  0.0960, -0.0779,\n",
            "         -0.0560, -0.0370, -0.0969,  0.1103, -0.0490, -0.0184,  0.1248,  0.0626,\n",
            "         -0.1110, -0.0873,  0.0120, -0.0068, -0.0521,  0.0006, -0.0411, -0.0610,\n",
            "          0.0383, -0.0334,  0.1197, -0.0040,  0.0129,  0.0147,  0.0509, -0.0501,\n",
            "         -0.0896, -0.0803, -0.1011,  0.0479,  0.1068, -0.0777, -0.1017,  0.0606,\n",
            "         -0.1241, -0.0211,  0.0444, -0.0094,  0.0805, -0.0608, -0.1023, -0.0243,\n",
            "          0.0600, -0.0603,  0.0709, -0.0067, -0.1195,  0.0754,  0.0728, -0.0407,\n",
            "          0.0366,  0.1014, -0.0601,  0.0527,  0.0971,  0.0199,  0.0423,  0.0741],\n",
            "        [-0.0960, -0.1235, -0.0010,  0.0053, -0.0584,  0.0603,  0.0627, -0.0960,\n",
            "          0.0490,  0.1155,  0.0818, -0.0714,  0.0079, -0.0666,  0.0882, -0.0122,\n",
            "          0.0282, -0.0934, -0.0120,  0.0885, -0.0595, -0.0196,  0.0204, -0.0770,\n",
            "          0.0927,  0.0209, -0.0036, -0.0565,  0.0404, -0.0623, -0.0163, -0.0862,\n",
            "          0.0631,  0.0468, -0.0780,  0.1024,  0.0486,  0.0211, -0.1177,  0.0822,\n",
            "         -0.0776,  0.1144, -0.1043, -0.0876,  0.0557,  0.0170, -0.1232, -0.0019,\n",
            "         -0.0200,  0.0293,  0.0002,  0.0683,  0.0356,  0.0870, -0.0308, -0.1229,\n",
            "          0.0277,  0.1084, -0.0648,  0.0050, -0.0815,  0.0226,  0.1247,  0.0861]],\n",
            "       device='cuda:0', grad_fn=<SliceBackward0>) \n",
            "\n",
            "Layer: rnn.bias_ih_l0 | Size: torch.Size([64]) | Values : tensor([0.0033, 0.0205], device='cuda:0', grad_fn=<SliceBackward0>) \n",
            "\n",
            "Layer: rnn.bias_hh_l0 | Size: torch.Size([64]) | Values : tensor([0.1081, 0.0994], device='cuda:0', grad_fn=<SliceBackward0>) \n",
            "\n",
            "Layer: fc.weight | Size: torch.Size([9922, 64]) | Values : tensor([[ 0.0285, -0.0122, -0.0010,  0.0580,  0.0785, -0.0759,  0.1011,  0.0417,\n",
            "         -0.0566,  0.1131, -0.0550, -0.0846,  0.0727, -0.0254, -0.0129,  0.0847,\n",
            "          0.0788,  0.0695, -0.0655, -0.0088, -0.0555,  0.0870,  0.1070, -0.0160,\n",
            "          0.0244, -0.0176,  0.1088,  0.0608,  0.0680,  0.0946,  0.0763, -0.0210,\n",
            "          0.0953, -0.0560, -0.0939, -0.1051, -0.0454, -0.0529, -0.1236,  0.0949,\n",
            "          0.0247,  0.0435,  0.0994,  0.0758,  0.0066,  0.0367, -0.0726,  0.1069,\n",
            "          0.0260, -0.0497, -0.0395,  0.1063, -0.0653,  0.0864, -0.0843,  0.0450,\n",
            "         -0.1042, -0.0065, -0.0830, -0.0624, -0.1240,  0.1243,  0.0460, -0.0929],\n",
            "        [ 0.0658,  0.0198,  0.0146, -0.0870, -0.1243, -0.0890,  0.0104,  0.0020,\n",
            "          0.0613, -0.0649, -0.0561, -0.0230, -0.1017, -0.1204,  0.1196, -0.0653,\n",
            "         -0.0448, -0.0886,  0.1143,  0.0008, -0.0799,  0.1019,  0.0169,  0.1156,\n",
            "         -0.0558,  0.0347,  0.0499, -0.0851, -0.1216,  0.1115, -0.0155,  0.0310,\n",
            "          0.0559,  0.1238, -0.0769, -0.0326,  0.0879, -0.1161, -0.0295, -0.0348,\n",
            "          0.0130,  0.0822, -0.0113, -0.0847,  0.0990,  0.0131, -0.0201,  0.0777,\n",
            "          0.1248, -0.0996, -0.0959, -0.0508,  0.0084, -0.1040, -0.0300, -0.0892,\n",
            "          0.0787, -0.0140,  0.0456, -0.0240,  0.0403, -0.1028, -0.0760,  0.0175]],\n",
            "       device='cuda:0', grad_fn=<SliceBackward0>) \n",
            "\n",
            "Layer: fc.bias | Size: torch.Size([9922]) | Values : tensor([-0.0282,  0.1021], device='cuda:0', grad_fn=<SliceBackward0>) \n",
            "\n"
          ]
        }
      ],
      "source": [
        "print(f\"Model structure: {model}\\n\\n\")\n",
        "\n",
        "for name, param in model.named_parameters():\n",
        "    print(f\"Layer: {name} | Size: {param.size()} | Values : {param[:2]} \\n\")"
      ]
    },
    {
      "cell_type": "markdown",
      "id": "e2141e5c-9b11-4643-85de-84744bf9e7f7",
      "metadata": {
        "id": "e2141e5c-9b11-4643-85de-84744bf9e7f7"
      },
      "source": [
        "To use the model, we pass it the input data. This executes the model’s `forward`, along with some background operations. Do not call `model.forward()` directly!\n",
        "\n",
        "Calling the model on the input returns a vocab-size -dimensional tensor with raw predicted values for each token. We get the prediction probabilities by passing it through an instance of the `nn.Softmax` module."
      ]
    },
    {
      "cell_type": "code",
      "execution_count": 43,
      "id": "4254ce6c-1275-4c0f-ae7f-74064d51f78e",
      "metadata": {
        "colab": {
          "base_uri": "https://localhost:8080/"
        },
        "id": "4254ce6c-1275-4c0f-ae7f-74064d51f78e",
        "outputId": "fce72307-dad6-4728-cb4f-fe07afd3d5e9"
      },
      "outputs": [
        {
          "output_type": "stream",
          "name": "stdout",
          "text": [
            "Predicted tokens: tensor([2299, 7787, 9872, 9153,  682, 5692, 3238, 6875,  729, 2608],\n",
            "       device='cuda:0')\n"
          ]
        }
      ],
      "source": [
        "x = train_dataset[0][0].unsqueeze(0).to(device)\n",
        "hidden_states = model.init_hidden_states(1).to(device)\n",
        "logits, states = model(x, hidden_states)\n",
        "pred_probab = nn.Softmax(dim=1)(logits)\n",
        "y_pred = pred_probab.argmax(1)\n",
        "print(f\"Predicted tokens: {y_pred}\")"
      ]
    },
    {
      "cell_type": "markdown",
      "id": "276e3249-9b72-4643-a7de-7312c42ec05e",
      "metadata": {
        "id": "276e3249-9b72-4643-a7de-7312c42ec05e"
      },
      "source": [
        "### Optimizing Model Parameters\n",
        "Now that we have a model and data it’s time to train, validate and test our model by optimizing its parameters on our data. Training a model is an iterative process; in each iteration (called an `epoch`) the model makes a guess about the output, calculates the error in its guess (`loss`), collects the derivatives of the error with respect to its parameters, and optimizes these parameters using gradient descent."
      ]
    },
    {
      "cell_type": "markdown",
      "id": "540ec083-7049-4179-8652-b575c6760910",
      "metadata": {
        "id": "540ec083-7049-4179-8652-b575c6760910"
      },
      "source": [
        "Hyperparameters are adjustable parameters that let you control the model optimization process. Different hyperparameter values can impact model training and convergence rates (read more about hyperparameter tuning)\n",
        "\n",
        "We define the following hyperparameters for training:\n",
        "\n",
        "- Number of Epochs - the number times to iterate over the dataset\n",
        "- Batch Size - the number of data samples propagated through the network before the parameters are updated\n",
        "- Learning Rate - how much to update models parameters at each batch/epoch. Smaller values yield slow learning speed, while large values may result in unpredictable behavior during training.\n",
        "\n"
      ]
    },
    {
      "cell_type": "code",
      "execution_count": 44,
      "id": "22791e47-ac28-4342-ba4d-33c451174597",
      "metadata": {
        "id": "22791e47-ac28-4342-ba4d-33c451174597"
      },
      "outputs": [],
      "source": [
        "learning_rate = 1e-3\n",
        "batch_size = 64\n",
        "epochs = 5"
      ]
    },
    {
      "cell_type": "markdown",
      "id": "c61bf557-cf89-4cdc-8754-6d1d3d41f003",
      "metadata": {
        "id": "c61bf557-cf89-4cdc-8754-6d1d3d41f003"
      },
      "source": [
        "#### Optimization Loop"
      ]
    },
    {
      "cell_type": "markdown",
      "id": "5ea86d53-2c6a-4be3-b02a-52ac62bdf0cf",
      "metadata": {
        "id": "5ea86d53-2c6a-4be3-b02a-52ac62bdf0cf"
      },
      "source": [
        "Once we set our hyperparameters, we can then train and optimize our model with an optimization loop. Each iteration of the optimization loop is called an epoch.\n",
        "\n",
        "Each epoch consists of two main parts:\n",
        "\n",
        "- The Train Loop - iterate over the training dataset and try to converge to optimal parameters.\n",
        "- The Validation/Test Loop - iterate over the test dataset to check if model performance is improving.\n",
        "\n",
        "Let’s briefly familiarize ourselves with some of the concepts used in the training loop\n"
      ]
    },
    {
      "cell_type": "markdown",
      "id": "a551548c-79dc-4048-ba0e-2f9e9b6d6f8b",
      "metadata": {
        "id": "a551548c-79dc-4048-ba0e-2f9e9b6d6f8b"
      },
      "source": [
        "#### Loss Function\n",
        "When presented with some training data, our untrained network is likely not to give the correct answer. Loss function measures the degree of dissimilarity of obtained result to the target value, and it is the loss function that we want to minimize during training. To calculate the loss we make a prediction using the inputs of our given data sample and compare it against the true data label value.\n",
        "\n",
        "Common loss functions include `nn.MSELoss` (Mean Square Error) for regression tasks, and `nn.NLLLoss` (Negative Log Likelihood) for classification. `nn.CrossEntropyLoss` combines `nn.LogSoftmax` and `nn.NLLLoss`.\n",
        "\n",
        "We pass our model’s output logits to `nn.CrossEntropyLoss`, which will normalize the logits and compute the prediction error."
      ]
    },
    {
      "cell_type": "code",
      "execution_count": 45,
      "id": "78a49669-61af-43f0-9b9c-46c2d3326d5c",
      "metadata": {
        "id": "78a49669-61af-43f0-9b9c-46c2d3326d5c"
      },
      "outputs": [],
      "source": [
        "# Initialize the loss function\n",
        "loss_fn = nn.CrossEntropyLoss()"
      ]
    },
    {
      "cell_type": "markdown",
      "id": "558d0593-ecdb-49de-95a0-354eebf85def",
      "metadata": {
        "id": "558d0593-ecdb-49de-95a0-354eebf85def"
      },
      "source": [
        "#### Optimizer\n",
        "Optimization is the process of adjusting model parameters to reduce model error in each training step. **Optimization algorithms** define how this process is performed (in this example we use Stochastic Gradient Descent). All optimization logic is encapsulated in the `optimizer` object. Here, we use the SGD optimizer; additionally, there are many [different optimizers](https://pytorch.org/docs/stable/optim.html) available in PyTorch such as ADAM and RMSProp, that work better for different kinds of models and data.\n",
        "\n",
        "We initialize the optimizer by registering the model’s parameters that need to be trained, and passing in the learning rate hyperparameter."
      ]
    },
    {
      "cell_type": "code",
      "execution_count": 46,
      "id": "18f3721d-afb8-4ca7-8548-fbd3658e1f89",
      "metadata": {
        "id": "18f3721d-afb8-4ca7-8548-fbd3658e1f89"
      },
      "outputs": [],
      "source": [
        "optimizer = torch.optim.SGD(model.parameters(), lr=learning_rate)"
      ]
    },
    {
      "cell_type": "markdown",
      "id": "ba19f4b7-0ba8-4007-b6b1-ae7e73df98da",
      "metadata": {
        "id": "ba19f4b7-0ba8-4007-b6b1-ae7e73df98da"
      },
      "source": [
        "\n",
        "Inside the training loop, optimization happens in three steps:\n",
        "\n",
        "- Call `optimizer.zero_grad()` to reset the gradients of model parameters. Gradients by default add up; to prevent double-counting, we explicitly zero them at each iteration.\n",
        "- Backpropagate the prediction loss with a call to `loss.backward()`. PyTorch deposits the gradients of the loss w.r.t. each parameter.\n",
        "- Once we have our gradients, we call `optimizer.step()` to adjust the parameters by the gradients collected in the backward pass.\n",
        "\n"
      ]
    },
    {
      "cell_type": "markdown",
      "id": "0d69101c-1a66-40e7-9b01-e61d85f825cd",
      "metadata": {
        "id": "0d69101c-1a66-40e7-9b01-e61d85f825cd"
      },
      "source": [
        "#### Full Implementation\n",
        "We define `train_loop` that loops over our optimization code, and `test_loop` that evaluates the model’s performance against our test data."
      ]
    },
    {
      "cell_type": "code",
      "execution_count": 47,
      "id": "0b8f1848-a603-42bd-85dc-bc0f225c3d7d",
      "metadata": {
        "id": "0b8f1848-a603-42bd-85dc-bc0f225c3d7d"
      },
      "outputs": [],
      "source": [
        "history_loss = []\n",
        "history_dev_loss = []\n",
        "model.to(device)\n",
        "def train_loop(dataloader, model, loss_fn, optimizer):\n",
        "    size = len(dataloader.dataset)\n",
        "    for batch, (X, y) in enumerate(dataloader):\n",
        "        # Compute prediction and loss\n",
        "        X = X.to(device)\n",
        "        y = y.to(device)\n",
        "        batch_size = X.size()[0]\n",
        "        hidden_states = model.init_hidden_states(batch_size).to(device)\n",
        "        logits, states = model(X, hidden_states)\n",
        "        loss = loss_fn(logits, y.view(-1))\n",
        "\n",
        "        # Backpropagation\n",
        "        optimizer.zero_grad()\n",
        "        loss.backward()\n",
        "        optimizer.step()\n",
        "\n",
        "        if batch % 1000 == 0:\n",
        "            loss, current = loss.item(), batch * len(X)\n",
        "            history_loss.append(loss)\n",
        "            print(f\"loss: {loss:>7f}  [{current:>5d}/{size:>5d}]\")\n",
        "\n",
        "\n",
        "def test_loop(dataloader, model, loss_fn):\n",
        "    size = len(dataloader.dataset)\n",
        "    num_batches = len(dataloader)\n",
        "    test_loss = 0\n",
        "\n",
        "    with torch.no_grad():\n",
        "        for X, y in dataloader:\n",
        "            X = X.to(device)\n",
        "            y = y.to(device)\n",
        "            batch_size = X.size()[0]\n",
        "            hidden_states = model.init_hidden_states(batch_size).to(device)\n",
        "            logits, states = model(X, hidden_states)\n",
        "            test_loss += loss_fn(logits, y.view(-1)).item()\n",
        "\n",
        "    test_loss /= size\n",
        "    history_dev_loss.append(loss)\n",
        "    print(f\"Avg loss: {test_loss:>8f} \\n\")"
      ]
    },
    {
      "cell_type": "markdown",
      "id": "3340be67-4d9d-4a6e-865a-84746492ef41",
      "metadata": {
        "id": "3340be67-4d9d-4a6e-865a-84746492ef41"
      },
      "source": [
        "We initialize the loss function and optimizer, and pass it to `train_loop` and `test_loop`. Feel free to increase the number of epochs to track the model’s improving performance."
      ]
    },
    {
      "cell_type": "code",
      "execution_count": null,
      "id": "5b86bf43-66cb-474e-b972-2611bb2919b1",
      "metadata": {
        "colab": {
          "base_uri": "https://localhost:8080/"
        },
        "id": "5b86bf43-66cb-474e-b972-2611bb2919b1",
        "outputId": "99a5434c-7eab-4edb-bce8-46ebe08bea9a"
      },
      "outputs": [
        {
          "output_type": "stream",
          "name": "stdout",
          "text": [
            "Epoch 1\n",
            "-------------------------------\n",
            "loss: 9.288084  [    0/924402]\n",
            "loss: 9.228841  [64000/924402]\n",
            "loss: 9.167658  [128000/924402]\n",
            "loss: 9.142164  [192000/924402]\n",
            "loss: 9.083319  [256000/924402]\n",
            "loss: 9.048483  [320000/924402]\n",
            "loss: 8.917927  [384000/924402]\n",
            "loss: 8.726030  [448000/924402]\n",
            "loss: 8.452520  [512000/924402]\n",
            "loss: 8.157478  [576000/924402]\n",
            "loss: 7.935633  [640000/924402]\n",
            "loss: 7.875611  [704000/924402]\n"
          ]
        }
      ],
      "source": [
        "##### loss_fn = nn.CrossEntropyLoss()\n",
        "optimizer = torch.optim.SGD(model.parameters(), lr=learning_rate)\n",
        "\n",
        "epochs = 2\n",
        "model.to(device)\n",
        "for t in range(epochs):\n",
        "    print(f\"Epoch {t+1}\\n-------------------------------\")\n",
        "    train_loop(train_dataloader, model, loss_fn, optimizer)\n",
        "    test_loop(valid_dataloader, model, loss_fn)\n",
        "print(\"Done!\")"
      ]
    },
    {
      "cell_type": "markdown",
      "id": "iXg7oqD5SUl7",
      "metadata": {
        "id": "iXg7oqD5SUl7"
      },
      "source": [
        "### Save and Load the Model\n",
        "In this section we will look at how to persist model state with saving, loading and running model predictions."
      ]
    },
    {
      "cell_type": "code",
      "execution_count": null,
      "id": "cf2743a0-3aae-41b2-a07c-2c6aefed66d5",
      "metadata": {
        "id": "cf2743a0-3aae-41b2-a07c-2c6aefed66d5"
      },
      "outputs": [],
      "source": [
        "import torch\n",
        "import torchvision.models as models"
      ]
    },
    {
      "cell_type": "markdown",
      "id": "ybld2lWQScFt",
      "metadata": {
        "id": "ybld2lWQScFt"
      },
      "source": [
        "#### Saving and Loading Model Weights\n",
        "\n",
        "PyTorch models store the learned parameters in an internal state dictionary, called state_dict. These can be persisted via the torch.save method:"
      ]
    },
    {
      "cell_type": "code",
      "execution_count": null,
      "id": "MC3awTe7SqVA",
      "metadata": {
        "id": "MC3awTe7SqVA"
      },
      "outputs": [],
      "source": [
        "torch.save(model.state_dict(), 'model.pt')\n"
      ]
    },
    {
      "cell_type": "markdown",
      "id": "tiuPy5jAStIY",
      "metadata": {
        "id": "tiuPy5jAStIY"
      },
      "source": [
        "To load model weights, you need to create an instance of the same model first, and then load the parameters using load_state_dict() method."
      ]
    },
    {
      "cell_type": "code",
      "execution_count": null,
      "id": "S8ek2e6ZSsos",
      "metadata": {
        "id": "S8ek2e6ZSsos"
      },
      "outputs": [],
      "source": [
        "model.load_state_dict(torch.load('model.pt'))\n",
        "model.eval()"
      ]
    },
    {
      "cell_type": "markdown",
      "id": "fLqzKak_qb3B",
      "metadata": {
        "id": "fLqzKak_qb3B"
      },
      "source": [
        "### Excercises\n",
        "1. Use your trained RNN Language Model to predict next word of the following sentence: _The quick brown fox jumps over_\n",
        "2. So far, we have limit the max sequence length to 10 (_max_seq_length_).Investigate the effect of different max sequence length to the RNN language model."
      ]
    }
  ],
  "metadata": {
    "accelerator": "GPU",
    "colab": {
      "provenance": []
    },
    "kernelspec": {
      "display_name": "Python 3",
      "name": "python3"
    },
    "language_info": {
      "codemirror_mode": {
        "name": "ipython",
        "version": 3
      },
      "file_extension": ".py",
      "mimetype": "text/x-python",
      "name": "python",
      "nbconvert_exporter": "python",
      "pygments_lexer": "ipython3",
      "version": "3.11.8"
    }
  },
  "nbformat": 4,
  "nbformat_minor": 5
}